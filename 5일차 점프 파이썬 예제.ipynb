{
 "cells": [
  {
   "cell_type": "code",
   "execution_count": 11,
   "metadata": {},
   "outputs": [],
   "source": [
    "# Q1 주어진 자연수가 홀수인지 짝수인지 판별해 주는 함수(is_odd)를 작성해보자\n",
    "def is_odd() :\n",
    "    num = int(input())\n",
    "    a = num % 2\n",
    "    if a == True :\n",
    "        print(\"%d is odd\" % num)\n",
    "    elif a == False :\n",
    "        print(\"%d is even\" %num)\n",
    "    else :\n",
    "        pass\n"
   ]
  },
  {
   "cell_type": "code",
   "execution_count": 18,
   "metadata": {},
   "outputs": [],
   "source": [
    "# 정답 예시\n",
    "def is_odd1(number) :\n",
    "    if (number % 2 == 1) :\n",
    "        return True\n",
    "    elif(number % 2 == 0) :\n",
    "        return False"
   ]
  },
  {
   "cell_type": "code",
   "execution_count": 55,
   "metadata": {},
   "outputs": [],
   "source": [
    "# Q2 입력으로 들어오는 모든 수의 평균 값을 계산해주는 함수를 작성해 보자.\n",
    "# (단 입력으로 들어오는 수의 개수는 정해져 있지 않다)\n",
    "\n",
    "def sum_input (*args) :\n",
    "    all_arg = 0\n",
    "    for arg in args :\n",
    "        all_arg += arg\n",
    "    return all_arg / len(args) #값을 반환하는거니까 return을 좀 써라...\n",
    "#눈에 보이는거 잡는다고 print부터 쓰지말고"
   ]
  },
  {
   "cell_type": "code",
   "execution_count": 56,
   "metadata": {},
   "outputs": [
    {
     "data": {
      "text/plain": [
       "2.0"
      ]
     },
     "execution_count": 56,
     "metadata": {},
     "output_type": "execute_result"
    }
   ],
   "source": [
    "sum_input(1,2,3)"
   ]
  },
  {
   "cell_type": "code",
   "execution_count": 65,
   "metadata": {},
   "outputs": [
    {
     "name": "stdout",
     "output_type": "stream",
     "text": [
      "첫번째 숫자를 입력하세요:3\n",
      "두번째 숫자를 입력하세요:6\n",
      "두 수의 합은 9 입니다\n"
     ]
    }
   ],
   "source": [
    "# Q3 다음은 두 개의 숫자를 입력받아 더하여 돌려주는 프로그램이다.\n",
    "'''input1 = input(\"첫번째 숫자를 입력하세요:\")\n",
    "input2 = input(\"두번째 숫자를 입력하세요:\")\n",
    "\n",
    "total = input1 + input2\n",
    "print(\"두 수의 합은 %s 입니다\" % total)'''\n",
    "\n",
    "# 3과 6을입력했을 때 9를 출력할수 있게 해라\n",
    "\n",
    "input1 = input(\"첫번째 숫자를 입력하세요:\")\n",
    "input2 = input(\"두번째 숫자를 입력하세요:\")\n",
    "\n",
    "total = int(input1) + int(input2) #input으로 받은 입력값은 항상 문자열이므로 int로 정수형으로 바꿔야 연산이 된다\n",
    "print(\"두 수의 합은 %d 입니다\" % total)"
   ]
  },
  {
   "cell_type": "code",
   "execution_count": 67,
   "metadata": {},
   "outputs": [
    {
     "name": "stdout",
     "output_type": "stream",
     "text": [
      "==================================================\n"
     ]
    }
   ],
   "source": [
    "'''q4. 다음 중 출력 결과가 다른 것 한 개를 골라 보자.\n",
    "\n",
    "print(\"you\" \"need\" \"python\")\n",
    "print(\"you\"+\"need\"+\"python\")\n",
    "print(\"you\", \"need\", \"python\") \",\"로 구분을 한 경우 공백이 삽입되어 합쳐진다.\n",
    "print(\"\".join([\"you\", \"need\", \"python\"]))'''\n",
    "print(\"=\"*50)"
   ]
  },
  {
   "cell_type": "code",
   "execution_count": 69,
   "metadata": {},
   "outputs": [
    {
     "name": "stdout",
     "output_type": "stream",
     "text": [
      "Life is too short\n"
     ]
    }
   ],
   "source": [
    "'''q5. 다음은 \"test.txt\"라는 파일에 \"Life is too short\"\n",
    "문자열을 저장한 후 다시 그 파일을 읽어서 출력하는 프로그램이다.\n",
    "\n",
    "f1 = open(\"test.txt\", 'w')\n",
    "f1.write(\"Life is too short\")\n",
    " (f1이 안닫혀있어서 발생하는 문제니까 이걸 닫아준다)\n",
    "f2 = open(\"test.txt\", 'r')\n",
    "print(f2.read())\n",
    "\n",
    "이걸 정상 동작하게 해라'''\n",
    "\n",
    "\n",
    "f1 = open(\"test.txt\", 'w')\n",
    "f1.write(\"Life is too short\")\n",
    "f1.close() #열린 f1을 닫는다\n",
    "\n",
    "f2 = open(\"test.txt\", 'r')\n",
    "print(f2.read())"
   ]
  },
  {
   "cell_type": "code",
   "execution_count": 85,
   "metadata": {},
   "outputs": [
    {
     "name": "stdout",
     "output_type": "stream",
     "text": [
      "asdasdasdasd\n"
     ]
    }
   ],
   "source": [
    "# Q6. 사용자의 입력을 파일 (test.txt)에 저장하는 프로그램을 작성해라\n",
    "# 단, 재실행하더라도 기존의 내용을 날리면 안된다.\n",
    "f1 = open(\"test2.txt\",'a')\n",
    "f1.write(input())\n",
    "f1.write('\\n') # 새로쓰기가 잘 되었는지 확인을 위한 줄바꿈 행\n",
    "f1.close()"
   ]
  },
  {
   "cell_type": "code",
   "execution_count": null,
   "metadata": {},
   "outputs": [],
   "source": []
  }
 ],
 "metadata": {
  "kernelspec": {
   "display_name": "Python 3",
   "language": "python",
   "name": "python3"
  },
  "language_info": {
   "codemirror_mode": {
    "name": "ipython",
    "version": 3
   },
   "file_extension": ".py",
   "mimetype": "text/x-python",
   "name": "python",
   "nbconvert_exporter": "python",
   "pygments_lexer": "ipython3",
   "version": "3.8.3"
  }
 },
 "nbformat": 4,
 "nbformat_minor": 4
}
