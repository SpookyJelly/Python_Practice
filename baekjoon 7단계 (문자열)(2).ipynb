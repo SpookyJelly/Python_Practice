{
 "cells": [
  {
   "cell_type": "code",
   "execution_count": 77,
   "metadata": {},
   "outputs": [
    {
     "name": "stdout",
     "output_type": "stream",
     "text": [
      "2\n",
      "3 qewe\n",
      "qqqeeewwweee\n",
      "2 qw\n",
      "qqww\n"
     ]
    }
   ],
   "source": [
    "#2675번 문자열 반복\n",
    "'''문자열 S를 입력받은 후에, 각 문자를 R번 반복해 새 문자열 P를 만든 후 \n",
    "출력하는 프로그램을 작성하시오.\n",
    "즉, 첫 번째 문자를 R번 반복하고, 두 번째 문자를 R번 반복하는 식으로 P를 만들면 된다. S에는 QR Code \"alphanumeric\" 문자만 들어있다.\n",
    "QR Code \"alphanumeric\" 문자는 0123456789ABCDEFGHIJKLMNOPQRSTUVWXYZ\\$%*+-./: 이다.'''\n",
    "'''첫째 줄에 테스트 케이스의 개수 T(1 ≤ T ≤ 1,000)가 주어진다. 각 테스트 케이스는 반복 횟수 R(1 ≤ R ≤ 8), 문자열 S가 공백으로 구분되어 주어진다.\n",
    "S의 길이는 적어도 1이며, 20글자를 넘지 않는다. '''\n",
    "R = int(input())\n",
    "for k in range(R):\n",
    "    A = []\n",
    "    U,S = input().split()\n",
    "    U = int(U) #그냥 int(U)하니까 정수화 안되더라... 다시 대입을 해줘야한다\n",
    "    for i in range(0,len(S)):\n",
    "        N = S[i]* U #for문에서 만들어진 리스트\n",
    "        A.append(N)\n",
    "    print(''.join(A))# ''.join(list)는 리스트를 문자열로 바꿔주는 함수이다.\n",
    "    # ''간격을 첨가한 문자열로 만든다."
   ]
  },
  {
   "cell_type": "code",
   "execution_count": 156,
   "metadata": {},
   "outputs": [
    {
     "name": "stdout",
     "output_type": "stream",
     "text": [
      "baaa\n",
      "A\n"
     ]
    }
   ],
   "source": [
    "#1157번 단어공부\n",
    "'''알파벳 대소문자로 된 단어가 주어지면, 이 단어에서 가장 많이 사용된 알파벳이 무엇인지 알아내는 프로그램을 작성하시오.\n",
    "단, 대문자와 소문자를 구분하지 않는다.'''\n",
    "'''첫째 줄에 알파벳 대소문자로 이루어진 단어가 주어진다. \n",
    "주어지는 단어의 길이는 1,000,000을 넘지 않는다.'''\n",
    "'''첫째 줄에 이 단어에서 가장 많이 사용된 알파벳을 대문자로 출력한다.\n",
    "단, 가장 많이 사용된 알파벳이 여러 개 존재하는 경우에는 ?를 출력한다.'''\n",
    "\n",
    "words = input().upper() # words = BAAA / AACC\n",
    "words_list = list(set(words)) # words_list = [B,A] / [A,C]\n",
    "word_count =[] # 문자들 등장횟수 카운팅해서 저장한 리스트\n",
    "\n",
    "for i in words_list: # i = B,A / words_list = [B,A] // i= A,C / words_list =[A,C]\n",
    "    count = words.count(i) #input받았던 문자열에서 words_list(중복제거된 리스트)에 포함되어있는 문자의 개수 세어준다\n",
    "    word_count.append(count) # word_count = [1,3] // word_count = [2,2]\n",
    "    \n",
    "if (word_count.count(max(word_count))>=2): # // word_count.count(2) --> word_count 내의 2(max값)을 세어준다.\n",
    "    print('?') # max값이 2 이상이면 출력\n",
    "else :\n",
    "    print(words_list[word_count.index(max(word_count))])#word_count.index(3) ==> word_count 리스트에서 3이 저장된 위치 반환\n",
    "    #words_list[2] --> A"
   ]
  },
  {
   "cell_type": "code",
   "execution_count": 171,
   "metadata": {},
   "outputs": [
    {
     "name": "stdout",
     "output_type": "stream",
     "text": [
      "Teullinika Teullyeotzi \n",
      "2\n"
     ]
    }
   ],
   "source": [
    "#1152번 단어의 개수\n",
    "#영어 대소문자와 띄어쓰기만으로 이루어진 문자열이 주어진다.\n",
    "#이 문자열에는 몇 개의 단어가 있을까? 이를 구하는 프로그램을 작성하시오. \n",
    "#단, 한 단어가 여러 번 등장하면 등장한 횟수만큼 모두 세어야 한다.\n",
    "'''첫 줄에 영어 대소문자와 띄어쓰기로 이루어진 문자열이 주어진다. \n",
    "이 문자열의 길이는 1,000,000을 넘지 않는다. 단어는 띄어쓰기 한 개로 구분되며,\n",
    "공백이 연속해서 나오는 경우는 없다. 또한 문자열의 앞과 뒤에는 공백이 있을 수도 있다'''\n",
    "#첫째 줄에 단어의 개수를 출력한다.\n",
    "\n",
    "S = input().split()\n",
    "print(len(S)) # 이건 진짜 별거 없네"
   ]
  },
  {
   "cell_type": "code",
   "execution_count": 36,
   "metadata": {},
   "outputs": [
    {
     "name": "stdout",
     "output_type": "stream",
     "text": [
      "734 893\n",
      "437\n"
     ]
    }
   ],
   "source": [
    "#2908번 상수\n",
    "# 첫째 줄에 상근이가 칠판에 적은 두 수 A와 B가 주어진다. \n",
    "#두 수는 같지 않은 세 자리 수이며, 0이 포함되어 있지 않다.\n",
    "# 첫째 줄에 상수의 대답을 출력한다.\n",
    "'''상수는 수를 다른 사람과 다르게 거꾸로 읽는다. \n",
    "예를 들어, 734와 893을 칠판에 적었다면, 상수는 이 수를 437과 398로 읽는다. \n",
    "따라서, 상수는 두 수중 큰 수인 437을 큰 수라고 말할 것이다.'''\n",
    "\n",
    "A,B = list(map(int,input().split()))\n",
    "A1 = (A%10)*100+((A%100)//10)*10+A//100\n",
    "B1 = (B%10)*100+((B%100)//10)*10+B//100\n",
    "if A1 > B1:\n",
    "    print(A1)\n",
    "else :\n",
    "    print(B1)\n",
    "#input이 3자리 수만 된다는걸 참고해서 그냥 계산식으로 바꿔서 제출"
   ]
  },
  {
   "cell_type": "code",
   "execution_count": null,
   "metadata": {},
   "outputs": [],
   "source": [
    "#2908번 다른 코딩\n",
    "Number=input().split(' ')\n",
    "n=Number[0] #처음에 입력 받은 상수\n",
    "r='' # 빈 리스트\n",
    "for i in range(len(n)-1,-1,-1): #len(n)보고 놀랐는데,여기서 n이 str가 되니까 가능하다.\n",
    "    r=r+n[i] #리스트 더하기를 활용. 빈 리스트에 역순으로 상수의 자리수를 넣음으로서 리스트를 채움\n",
    "r=int(r) # 그리고 그 리스트를 정수화 시킨다\n",
    "m=Number[1] # 두번째 입력받은 상수\n",
    "b='' # 두번째 입력받은 상수를 뒤집어줄 빈 리스트\n",
    "for v in range(len(m)-1,-1,-1):\n",
    "    b=b+m[v]\n",
    "b=int(b)\n",
    "if r>b:\n",
    "    print(r)\n",
    "elif r<b:\n",
    "    print(b)\n",
    "    "
   ]
  },
  {
   "cell_type": "code",
   "execution_count": 82,
   "metadata": {},
   "outputs": [
    {
     "name": "stdout",
     "output_type": "stream",
     "text": [
      "TIME\n",
      "25\n"
     ]
    }
   ],
   "source": [
    "#5622번 다이얼전화기\n",
    "#첫째 줄에 알파벳 대문자로 이루어진 단어가 주어진다. \n",
    "#단어는 2글자~15글자로 이루어져 있다.\n",
    "#첫째 줄에 다이얼을 걸기 위해서 필요한 최소 시간을 출력한다.\n",
    "#사진 있는데 사진 생략, 숫자 1은 2초 걸림, 한칸 옆에 있는 숫자마다 1초씩 추가\n",
    "dial = ['ABC','DEF','GHI','JKL','MNO','PQRS','TUV','WXYZ']\n",
    "word = input()\n",
    "time = 0\n",
    "for i in range(len(word)):\n",
    "    for k in dial: #dial 리스트에 있는 'ABC' 'DEF' 등등이 하나의 변수가 되어서 이하에 박힌다\n",
    "        if word[i]in k:\n",
    "            time += dial.index(k)+3  #index(k) == 리스트에서 k라는 것을 찾아서 그 위치를 반환해라\n",
    "print(time)"
   ]
  },
  {
   "cell_type": "code",
   "execution_count": 151,
   "metadata": {},
   "outputs": [
    {
     "name": "stdout",
     "output_type": "stream",
     "text": [
      "dz=\n",
      "dz=\n",
      "a\n"
     ]
    }
   ],
   "source": [
    "# 2941번 크로아티아 알파벳\n",
    "# 알파벳이 몇개인지 센다\n",
    "C_alpha = ['c=','c-','dz=','d-','lj','nj','s=','z=']\n",
    "word = input()\n",
    "for k in C_alpha: \n",
    "    word = word.replace(k,'a')\n",
    "print(len(word))\n",
    "\n",
    "# 존나 천재적이다. 복잡한 크로아티아 알파벳을(길이가 제각각이라 추리기 어려움)\n",
    "# 문자형에서 찾은 뒤에 'a'라는 임의의 알파벳으로 대체한다음, 길이를 세었다.\n",
    "# 여기서 포인트는 replace 함수는 문자형에서만 먹힌다."
   ]
  },
  {
   "cell_type": "code",
   "execution_count": 166,
   "metadata": {},
   "outputs": [
    {
     "name": "stdout",
     "output_type": "stream",
     "text": [
      "3\n",
      "happy\n",
      "new\n",
      "year\n",
      "4\n"
     ]
    }
   ],
   "source": [
    "# 1316번 그룹 단어 체커\n",
    "'''그룹 단어란 단어에 존재하는 모든 문자에 대해서, \n",
    "각 문자가 연속해서 나타나는 경우만을 말한다. \n",
    "예를 들면, ccazzzzbb는 c, a, z, b가 모두 연속해서 나타나고,\n",
    "kin도 k, i, n이 연속해서 나타나기 때문에 그룹 단어이지만, \n",
    "aabbbccb는 b가 떨어져서 나타나기 때문에 그룹 단어가 아니다.'''\n",
    "#단어 N개를 입력으로 받아 그룹 단어의 개수를 출력하는 프로그램을 작성하시오.\n",
    "#기본 아이디어는 단어와 알파벳 리스트에 있는\n",
    "N = int(input()) # 테스트 횟수\n",
    "num = 0 # 그룹단어 개수 받는 변수\n",
    "num2 = 0\n",
    "for i in range(0,N):\n",
    "    word=input() # 입력 받을 단어 (str)\n",
    "    word_list = list(set(word)) # 그리고 그것을 집합화해서 중복 제거 후 만든 리스트\n",
    "    for j in word_list:#ㄷ\n",
    "        K = word.count(j)\n",
    "        if K >1:\n",
    "            y = word.index(j) \n",
    "            if word[y]==word[y+1]:\n",
    "                num=num+1\n",
    "            else:\n",
    "                pass\n",
    "        else :\n",
    "            num2 = num2 +1 #이건 한글자 짜리니까 무조건 그룹단어지\n",
    "    ans = num//len(word_list) + num2\n",
    "    num = 0\n",
    "    num2 = 0\n",
    "print(ans)"
   ]
  },
  {
   "cell_type": "code",
   "execution_count": null,
   "metadata": {},
   "outputs": [
    {
     "name": "stdout",
     "output_type": "stream",
     "text": [
      "3\n"
     ]
    }
   ],
   "source": [
    "N = int(input()) # 테스트 횟수\n",
    "num = 0 # 그룹단어 개수 받는 변수\n",
    "num2 = 0\n",
    "for i in range(0,N):\n",
    "    word=input() # 입력 받을 단어 (str)\n",
    "    word_list = list(set(word)) # 그리고 그것을 집합화해서 중복 제거 후 만든 리스트\n",
    "    for j in word:#word 에 있는 모든 문자가 j가 된다\n",
    "        K = word.count(j)#word의 변수 j를 word에서 세고 그걸 K로 한다\n",
    "        if K >1:#word list에 있는 문자가 word에 2개 이상일때 들어가는 조건\n",
    "            y = word.index(j) #위치 찾고\n",
    "            if word[y]==word[y+1]: # 그 다음꺼랑 같은 문자면 문제 없음\n",
    "                pass\n",
    "            else: # 그 다음꺼랑 다른 문자면 문제가 있는거지?\n",
    "                break\n",
    "        else : # 문자가 1개일때\n",
    "            num +=1 # word_list의 요소마다 num의 개수가 +1됨\n",
    "print(num//len(word))"
   ]
  },
  {
   "cell_type": "code",
   "execution_count": 171,
   "metadata": {},
   "outputs": [
    {
     "name": "stdout",
     "output_type": "stream",
     "text": [
      "hi\n"
     ]
    }
   ],
   "source": []
  },
  {
   "cell_type": "code",
   "execution_count": null,
   "metadata": {},
   "outputs": [],
   "source": []
  }
 ],
 "metadata": {
  "kernelspec": {
   "display_name": "Python 3",
   "language": "python",
   "name": "python3"
  },
  "language_info": {
   "codemirror_mode": {
    "name": "ipython",
    "version": 3
   },
   "file_extension": ".py",
   "mimetype": "text/x-python",
   "name": "python",
   "nbconvert_exporter": "python",
   "pygments_lexer": "ipython3",
   "version": "3.8.3"
  }
 },
 "nbformat": 4,
 "nbformat_minor": 4
}
