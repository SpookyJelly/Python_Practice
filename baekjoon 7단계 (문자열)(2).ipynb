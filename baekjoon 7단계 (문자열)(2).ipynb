{
 "cells": [
  {
   "cell_type": "code",
   "execution_count": 77,
   "metadata": {},
   "outputs": [
    {
     "name": "stdout",
     "output_type": "stream",
     "text": [
      "2\n",
      "3 qewe\n",
      "qqqeeewwweee\n",
      "2 qw\n",
      "qqww\n"
     ]
    }
   ],
   "source": [
    "#2675번 문자열 반복\n",
    "'''문자열 S를 입력받은 후에, 각 문자를 R번 반복해 새 문자열 P를 만든 후 \n",
    "출력하는 프로그램을 작성하시오.\n",
    "즉, 첫 번째 문자를 R번 반복하고, 두 번째 문자를 R번 반복하는 식으로 P를 만들면 된다. S에는 QR Code \"alphanumeric\" 문자만 들어있다.\n",
    "QR Code \"alphanumeric\" 문자는 0123456789ABCDEFGHIJKLMNOPQRSTUVWXYZ\\$%*+-./: 이다.'''\n",
    "'''첫째 줄에 테스트 케이스의 개수 T(1 ≤ T ≤ 1,000)가 주어진다. 각 테스트 케이스는 반복 횟수 R(1 ≤ R ≤ 8), 문자열 S가 공백으로 구분되어 주어진다.\n",
    "S의 길이는 적어도 1이며, 20글자를 넘지 않는다. '''\n",
    "R = int(input())\n",
    "for k in range(R):\n",
    "    A = []\n",
    "    U,S = input().split()\n",
    "    U = int(U) #그냥 int(U)하니까 정수화 안되더라... 다시 대입을 해줘야한다\n",
    "    for i in range(0,len(S)):\n",
    "        N = S[i]* U #for문에서 만들어진 리스트\n",
    "        A.append(N)\n",
    "    print(''.join(A))# ''.join(list)는 리스트를 문자열로 바꿔주는 함수이다.\n",
    "    # ''간격을 첨가한 문자열로 만든다."
   ]
  },
  {
   "cell_type": "code",
   "execution_count": 156,
   "metadata": {},
   "outputs": [
    {
     "name": "stdout",
     "output_type": "stream",
     "text": [
      "baaa\n",
      "A\n"
     ]
    }
   ],
   "source": [
    "#1157번 단어공부\n",
    "'''알파벳 대소문자로 된 단어가 주어지면, 이 단어에서 가장 많이 사용된 알파벳이 무엇인지 알아내는 프로그램을 작성하시오.\n",
    "단, 대문자와 소문자를 구분하지 않는다.'''\n",
    "'''첫째 줄에 알파벳 대소문자로 이루어진 단어가 주어진다. \n",
    "주어지는 단어의 길이는 1,000,000을 넘지 않는다.'''\n",
    "'''첫째 줄에 이 단어에서 가장 많이 사용된 알파벳을 대문자로 출력한다.\n",
    "단, 가장 많이 사용된 알파벳이 여러 개 존재하는 경우에는 ?를 출력한다.'''\n",
    "\n",
    "words = input().upper() # words = BAAA / AACC\n",
    "words_list = list(set(words)) # words_list = [B,A] / [A,C]\n",
    "word_count =[] # 문자들 등장횟수 카운팅해서 저장한 리스트\n",
    "\n",
    "for i in words_list: # i = B,A / words_list = [B,A] // i= A,C / words_list =[A,C]\n",
    "    count = words.count(i) #input받았던 문자열에서 words_list(중복제거된 리스트)에 포함되어있는 문자의 개수 세어준다\n",
    "    word_count.append(count) # word_count = [1,3] // word_count = [2,2]\n",
    "    \n",
    "if (word_count.count(max(word_count))>=2): # // word_count.count(2) --> word_count 내의 2(max값)을 세어준다.\n",
    "    print('?') # max값이 2 이상이면 출력\n",
    "else :\n",
    "    print(words_list[word_count.index(max(word_count))])#word_count.index(3) ==> word_count 리스트에서 3이 저장된 위치 반환\n",
    "    #words_list[2] --> A"
   ]
  },
  {
   "cell_type": "code",
   "execution_count": 171,
   "metadata": {},
   "outputs": [
    {
     "name": "stdout",
     "output_type": "stream",
     "text": [
      "Teullinika Teullyeotzi \n",
      "2\n"
     ]
    }
   ],
   "source": [
    "#1152번 단어의 개수\n",
    "#영어 대소문자와 띄어쓰기만으로 이루어진 문자열이 주어진다.\n",
    "#이 문자열에는 몇 개의 단어가 있을까? 이를 구하는 프로그램을 작성하시오. \n",
    "#단, 한 단어가 여러 번 등장하면 등장한 횟수만큼 모두 세어야 한다.\n",
    "'''첫 줄에 영어 대소문자와 띄어쓰기로 이루어진 문자열이 주어진다. \n",
    "이 문자열의 길이는 1,000,000을 넘지 않는다. 단어는 띄어쓰기 한 개로 구분되며,\n",
    "공백이 연속해서 나오는 경우는 없다. 또한 문자열의 앞과 뒤에는 공백이 있을 수도 있다'''\n",
    "#첫째 줄에 단어의 개수를 출력한다.\n",
    "\n",
    "S = input().split()\n",
    "print(len(S))"
   ]
  },
  {
   "cell_type": "code",
   "execution_count": 164,
   "metadata": {},
   "outputs": [
    {
     "name": "stdout",
     "output_type": "stream",
     "text": [
      "['asdsad']\n"
     ]
    }
   ],
   "source": [
    "print(S)"
   ]
  },
  {
   "cell_type": "code",
   "execution_count": null,
   "metadata": {},
   "outputs": [],
   "source": []
  }
 ],
 "metadata": {
  "kernelspec": {
   "display_name": "Python 3",
   "language": "python",
   "name": "python3"
  },
  "language_info": {
   "codemirror_mode": {
    "name": "ipython",
    "version": 3
   },
   "file_extension": ".py",
   "mimetype": "text/x-python",
   "name": "python",
   "nbconvert_exporter": "python",
   "pygments_lexer": "ipython3",
   "version": "3.8.3"
  }
 },
 "nbformat": 4,
 "nbformat_minor": 4
}
