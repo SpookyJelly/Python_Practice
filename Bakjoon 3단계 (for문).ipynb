{
 "cells": [
  {
   "cell_type": "code",
   "execution_count": 1,
   "metadata": {},
   "outputs": [
    {
     "name": "stdout",
     "output_type": "stream",
     "text": [
      "5\n",
      "5 * 1 = 5\n",
      "5 * 2 = 10\n",
      "5 * 3 = 15\n",
      "5 * 4 = 20\n",
      "5 * 5 = 25\n",
      "5 * 6 = 30\n",
      "5 * 7 = 35\n",
      "5 * 8 = 40\n",
      "5 * 9 = 45\n"
     ]
    }
   ],
   "source": [
    "#2739번\n",
    "#N을 입력 받은뒤 구구단 N단을 출력하는 프로그램을 작성하시오\n",
    "\n",
    "n = int(input())\n",
    "for i in range(1,10) :\n",
    "    print(\"%d * %d = %d\" %(n,i,n*i)) # 이 구문 손에 익혀라. C랑 다르게 파이썬은 %() 꼴이 된다"
   ]
  },
  {
   "cell_type": "code",
   "execution_count": 3,
   "metadata": {},
   "outputs": [
    {
     "name": "stdout",
     "output_type": "stream",
     "text": [
      "2\n",
      "1 2\n",
      "3\n",
      "3 4\n",
      "7\n"
     ]
    }
   ],
   "source": [
    "#10950번\n",
    "# 두 정수 A와 B를 입력받은 다음, A+B를 출력하는 프로그램을 작성하시오\n",
    "n = int(input())\n",
    "for i in range(0,n):#여기서 n이 int라서(정수) 이런식으로 써도 된다 range(시작숫자, 끝숫자) 이니까\n",
    "    a,b = list(map(int,input().split()))\n",
    "    print(a+b) #각 입력마다 출력이 되어야하니까 이렇게 짰는데, 입력 다 받은 다음 결과값\n",
    "    #한번에 출력하려면 다르게 짜야겠네. 변수를 하나 더 만든다음 거기에 입력값 계산을 저장한다음\n",
    "    #나중에 출력하게 한다던지"
   ]
  },
  {
   "cell_type": "code",
   "execution_count": 4,
   "metadata": {},
   "outputs": [
    {
     "name": "stdout",
     "output_type": "stream",
     "text": [
      "7\n",
      "28\n"
     ]
    }
   ],
   "source": [
    "#8393번\n",
    "# n이 주어졌을 때, 1부터 n까지 합을 구하는 프로그램을 작성하시오\n",
    "\n",
    "n = int(input()) #주어진 n\n",
    "result= 0 #여기서 0으로 선언 안해주면 최초의 result에 이상한 값이 들어간 채 루프가 돈다\n",
    "for i in range(1,n+1): # 이렇게 해야 1~n까지의 요소를 가지고 있는 range가 생성됨\n",
    "    result += i #루프 돌때마다 result에 i를 더하게 된다\n",
    "    pass\n",
    "print(result) #그리고 그 결과값 출력"
   ]
  },
  {
   "cell_type": "code",
   "execution_count": null,
   "metadata": {},
   "outputs": [],
   "source": [
    "#15552번\n",
    "# 빠른 A+B // 각 테스트케이스마다 A+B를 한줄에 하나씩 출력한다"
   ]
  },
  {
   "cell_type": "code",
   "execution_count": null,
   "metadata": {},
   "outputs": [],
   "source": [
    "'''import sys #일단 sys.stdin.readline()을 사용하려면 sys를 불러와야한다\n",
    "n = input()\n",
    "n = int(n)\n",
    "for i in range(0,n):\n",
    "    x,y = sys.stdin.readline().rsplit()\n",
    "    x = int(x)\n",
    "    y = int(y)\n",
    "    print(x+y)\n",
    "    \n",
    "# 구글에서 이렇게 하라고 해서 했는데, 여기 해석이 안된다...\n",
    "# 따로 공부 해봐야겠다 '''\n",
    "\n",
    "print('=' * 50)"
   ]
  },
  {
   "cell_type": "code",
   "execution_count": null,
   "metadata": {},
   "outputs": [],
   "source": [
    "#15552번 연구\n",
    "'''import sys\n",
    "input = sys.stdin.readline() #일단 input이라는 객체를 readline 메소드로 대체한거는 이해가 간다\n",
    "\n",
    "num = int(input())\n",
    "for i in range(0,num):\n",
    "    a,b = map(int,input().split())\n",
    "    print(a+b)'''\n",
    "# 근데 여기 노트에서 실행하면 에러나는 이유?? stdin에서 readline할수 없어서??\n",
    "print('=' *50)"
   ]
  },
  {
   "cell_type": "code",
   "execution_count": 5,
   "metadata": {},
   "outputs": [
    {
     "name": "stdout",
     "output_type": "stream",
     "text": [
      "5\n",
      "1\n",
      "2\n",
      "3\n",
      "4\n",
      "5\n"
     ]
    }
   ],
   "source": [
    "#2741번\n",
    "#자연수 N이 주어졌을 떄, 1부터 N까지 한줄에 하나씩 출력하는 프로그램을 작성하시오\n",
    "#첫째 줄에 100,000보다 작거나 같은 자연수 N이 주어진다\n",
    "n = int(input())\n",
    "for i in range(0,n):\n",
    "    i +=1\n",
    "    print(i)\n",
    "# 기본은 이거인데, 여기서 입력값이 크니까, readline()을 쓸고 하는거 같다\n",
    "# 백준에서 비교해보니까 readline()보다 더 빨랐음. 100,000정도는 큰 숫자도 아닌듯"
   ]
  },
  {
   "cell_type": "code",
   "execution_count": 7,
   "metadata": {},
   "outputs": [
    {
     "ename": "ValueError",
     "evalue": "invalid literal for int() with base 10: ''",
     "output_type": "error",
     "traceback": [
      "\u001b[1;31m---------------------------------------------------------------------------\u001b[0m",
      "\u001b[1;31mValueError\u001b[0m                                Traceback (most recent call last)",
      "\u001b[1;32m<ipython-input-7-a8c1557676a2>\u001b[0m in \u001b[0;36m<module>\u001b[1;34m\u001b[0m\n\u001b[0;32m      2\u001b[0m \u001b[1;32mimport\u001b[0m \u001b[0msys\u001b[0m\u001b[1;33m\u001b[0m\u001b[1;33m\u001b[0m\u001b[0m\n\u001b[0;32m      3\u001b[0m \u001b[0minput1\u001b[0m \u001b[1;33m=\u001b[0m \u001b[0msys\u001b[0m\u001b[1;33m.\u001b[0m\u001b[0mstdin\u001b[0m\u001b[1;33m.\u001b[0m\u001b[0mreadline\u001b[0m\u001b[1;33m\u001b[0m\u001b[1;33m\u001b[0m\u001b[0m\n\u001b[1;32m----> 4\u001b[1;33m \u001b[0mn\u001b[0m \u001b[1;33m=\u001b[0m \u001b[0mint\u001b[0m\u001b[1;33m(\u001b[0m\u001b[0minput1\u001b[0m\u001b[1;33m(\u001b[0m\u001b[1;33m)\u001b[0m\u001b[1;33m)\u001b[0m\u001b[1;33m\u001b[0m\u001b[1;33m\u001b[0m\u001b[0m\n\u001b[0m\u001b[0;32m      5\u001b[0m \u001b[0mi\u001b[0m \u001b[1;33m=\u001b[0m \u001b[1;36m1\u001b[0m\u001b[1;33m\u001b[0m\u001b[1;33m\u001b[0m\u001b[0m\n\u001b[0;32m      6\u001b[0m \u001b[1;32mfor\u001b[0m \u001b[0mi\u001b[0m \u001b[1;32min\u001b[0m \u001b[0mrange\u001b[0m\u001b[1;33m(\u001b[0m\u001b[1;36m0\u001b[0m\u001b[1;33m,\u001b[0m\u001b[0mn\u001b[0m\u001b[1;33m)\u001b[0m\u001b[1;33m:\u001b[0m\u001b[1;33m\u001b[0m\u001b[1;33m\u001b[0m\u001b[0m\n",
      "\u001b[1;31mValueError\u001b[0m: invalid literal for int() with base 10: ''"
     ]
    }
   ],
   "source": [
    "#2741번 readline 쓴 버전\n",
    "'''import sys\n",
    "input1 = sys.stdin.readline\n",
    "n = int(input1())\n",
    "i = 1\n",
    "for i in range(0,n):\n",
    "    i +=1\n",
    "    print(i)'''\n",
    "\n",
    "# 아니 근데 백준에서는 맞는데 왜 노트북에서는 이렇게 에러가 나고\n",
    "#나머지 input쓰는 애들까지 보내버리냐...input1로 지정하면 input은 안날리겠지?"
   ]
  },
  {
   "cell_type": "code",
   "execution_count": null,
   "metadata": {},
   "outputs": [],
   "source": []
  }
 ],
 "metadata": {
  "kernelspec": {
   "display_name": "Python 3",
   "language": "python",
   "name": "python3"
  },
  "language_info": {
   "codemirror_mode": {
    "name": "ipython",
    "version": 3
   },
   "file_extension": ".py",
   "mimetype": "text/x-python",
   "name": "python",
   "nbconvert_exporter": "python",
   "pygments_lexer": "ipython3",
   "version": "3.8.3"
  }
 },
 "nbformat": 4,
 "nbformat_minor": 4
}
