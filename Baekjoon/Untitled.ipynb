{
 "cells": [
  {
   "cell_type": "code",
   "execution_count": 4,
   "id": "suited-neighbor",
   "metadata": {},
   "outputs": [
    {
     "name": "stdout",
     "output_type": "stream",
     "text": [
      "5\n"
     ]
    },
    {
     "ename": "IndexError",
     "evalue": "list index out of range",
     "output_type": "error",
     "traceback": [
      "\u001b[1;31m---------------------------------------------------------------------------\u001b[0m",
      "\u001b[1;31mIndexError\u001b[0m                                Traceback (most recent call last)",
      "\u001b[1;32m<ipython-input-4-a82210c1deeb>\u001b[0m in \u001b[0;36m<module>\u001b[1;34m\u001b[0m\n\u001b[0;32m      4\u001b[0m \u001b[0mres\u001b[0m \u001b[1;33m=\u001b[0m \u001b[1;33m[\u001b[0m\u001b[1;33m]\u001b[0m\u001b[1;33m\u001b[0m\u001b[1;33m\u001b[0m\u001b[0m\n\u001b[0;32m      5\u001b[0m \u001b[1;32mfor\u001b[0m \u001b[0mi\u001b[0m \u001b[1;32min\u001b[0m \u001b[0mrange\u001b[0m\u001b[1;33m(\u001b[0m\u001b[1;36m0\u001b[0m\u001b[1;33m,\u001b[0m\u001b[0ma\u001b[0m\u001b[1;33m)\u001b[0m\u001b[1;33m:\u001b[0m\u001b[1;33m\u001b[0m\u001b[1;33m\u001b[0m\u001b[0m\n\u001b[1;32m----> 6\u001b[1;33m     \u001b[0mres\u001b[0m\u001b[1;33m.\u001b[0m\u001b[0minsert\u001b[0m\u001b[1;33m(\u001b[0m\u001b[0mi\u001b[0m\u001b[1;33m-\u001b[0m\u001b[0mb\u001b[0m\u001b[1;33m[\u001b[0m\u001b[0mi\u001b[0m\u001b[1;33m]\u001b[0m\u001b[1;33m,\u001b[0m\u001b[0mi\u001b[0m\u001b[1;33m+\u001b[0m\u001b[1;36m1\u001b[0m\u001b[1;33m)\u001b[0m\u001b[1;33m\u001b[0m\u001b[1;33m\u001b[0m\u001b[0m\n\u001b[0m\u001b[0;32m      7\u001b[0m \u001b[0mprint\u001b[0m\u001b[1;33m(\u001b[0m\u001b[0mres\u001b[0m\u001b[1;33m)\u001b[0m\u001b[1;33m\u001b[0m\u001b[1;33m\u001b[0m\u001b[0m\n",
      "\u001b[1;31mIndexError\u001b[0m: list index out of range"
     ]
    }
   ],
   "source": [
    "p = input()\n",
    "a = int(p)\n",
    "b = list(map(int, (p.split())))\n",
    "res = []\n",
    "for i in range(0,a):\n",
    "    res.insert(i-b[i],i+1)\n",
    "print(res)"
   ]
  },
  {
   "cell_type": "code",
   "execution_count": 38,
   "id": "million-stanley",
   "metadata": {},
   "outputs": [],
   "source": [
    "def bubble(lst,K)->list:\n",
    "    # 마지막 리터럴을 K회 위치바꾸기.\n",
    "    N = len(lst)\n",
    "    for i in range(K):\n",
    "        if i<N-1:\n",
    "            lst[N-1-i], lst[N-2-i] = lst[N-2-i], lst[N-1-i]\n",
    "            print(lst)\n",
    "    return lst"
   ]
  },
  {
   "cell_type": "code",
   "execution_count": 50,
   "id": "inclusive-destruction",
   "metadata": {},
   "outputs": [
    {
     "name": "stdout",
     "output_type": "stream",
     "text": [
      "[1, 3, 2]\n",
      "[3, 1, 2]\n"
     ]
    },
    {
     "data": {
      "text/plain": [
       "[3, 1, 2]"
      ]
     },
     "execution_count": 50,
     "metadata": {},
     "output_type": "execute_result"
    }
   ],
   "source": [
    "bubble([1,2,3],2)"
   ]
  },
  {
   "cell_type": "code",
   "execution_count": 49,
   "id": "fatty-criticism",
   "metadata": {},
   "outputs": [
    {
     "data": {
      "text/plain": [
       "[1, 2, 3, 4]"
      ]
     },
     "execution_count": 49,
     "metadata": {},
     "output_type": "execute_result"
    }
   ],
   "source": [
    "bubble([1,2,3,4],0)"
   ]
  },
  {
   "cell_type": "code",
   "execution_count": 41,
   "id": "duplicate-shannon",
   "metadata": {},
   "outputs": [
    {
     "name": "stdout",
     "output_type": "stream",
     "text": [
      "[1, 3, 2]\n",
      "[3, 1, 2]\n"
     ]
    },
    {
     "data": {
      "text/plain": [
       "[3, 1, 2]"
      ]
     },
     "execution_count": 41,
     "metadata": {},
     "output_type": "execute_result"
    }
   ],
   "source": [
    "bubble([1,2,3],3)"
   ]
  },
  {
   "cell_type": "code",
   "execution_count": 45,
   "id": "variable-praise",
   "metadata": {},
   "outputs": [
    {
     "name": "stdout",
     "output_type": "stream",
     "text": [
      "[2, 3, 4, 1, 5]\n",
      "[2, 3, 1, 4, 5]\n",
      "[2, 1, 3, 4, 5]\n",
      "[1, 2, 3, 4, 5]\n"
     ]
    },
    {
     "data": {
      "text/plain": [
       "[1, 2, 3, 4, 5]"
      ]
     },
     "execution_count": 45,
     "metadata": {},
     "output_type": "execute_result"
    }
   ],
   "source": [
    "bubble([2,3,4,5,1],5)"
   ]
  },
  {
   "cell_type": "code",
   "execution_count": 51,
   "id": "traditional-omaha",
   "metadata": {},
   "outputs": [
    {
     "name": "stdout",
     "output_type": "stream",
     "text": [
      "[2, 3, 4, 1, 6, 23, 11]\n",
      "[2, 3, 4, 1, 23, 6, 11]\n",
      "[2, 3, 4, 23, 1, 6, 11]\n",
      "[2, 3, 23, 4, 1, 6, 11]\n",
      "[2, 23, 3, 4, 1, 6, 11]\n",
      "[23, 2, 3, 4, 1, 6, 11]\n"
     ]
    },
    {
     "data": {
      "text/plain": [
       "[23, 2, 3, 4, 1, 6, 11]"
      ]
     },
     "execution_count": 51,
     "metadata": {},
     "output_type": "execute_result"
    }
   ],
   "source": [
    "bubble([2,3,4,1,6,11,23],6)"
   ]
  },
  {
   "cell_type": "code",
   "execution_count": 52,
   "id": "competent-clark",
   "metadata": {},
   "outputs": [
    {
     "data": {
      "text/plain": [
       "list"
      ]
     },
     "execution_count": 52,
     "metadata": {},
     "output_type": "execute_result"
    }
   ],
   "source": [
    "queue = []\n",
    "type(queue)"
   ]
  },
  {
   "cell_type": "code",
   "execution_count": 54,
   "id": "informational-involvement",
   "metadata": {},
   "outputs": [],
   "source": [
    "lst = ['1','2']"
   ]
  },
  {
   "cell_type": "code",
   "execution_count": 61,
   "id": "loved-coating",
   "metadata": {},
   "outputs": [],
   "source": [
    "queue += lst[0]"
   ]
  },
  {
   "cell_type": "code",
   "execution_count": 62,
   "id": "proprietary-package",
   "metadata": {},
   "outputs": [
    {
     "data": {
      "text/plain": [
       "['1', '1', '1']"
      ]
     },
     "execution_count": 62,
     "metadata": {},
     "output_type": "execute_result"
    }
   ],
   "source": [
    "queue"
   ]
  },
  {
   "cell_type": "code",
   "execution_count": 63,
   "id": "compressed-staff",
   "metadata": {},
   "outputs": [
    {
     "data": {
      "text/plain": [
       "list"
      ]
     },
     "execution_count": 63,
     "metadata": {},
     "output_type": "execute_result"
    }
   ],
   "source": [
    "type(queue)"
   ]
  },
  {
   "cell_type": "code",
   "execution_count": 64,
   "id": "frank-reputation",
   "metadata": {},
   "outputs": [],
   "source": [
    "queue = []"
   ]
  },
  {
   "cell_type": "code",
   "execution_count": 26,
   "id": "occasional-service",
   "metadata": {},
   "outputs": [
    {
     "name": "stdout",
     "output_type": "stream",
     "text": [
      "[[1, 2, 3, 4, 5, 6, 7], [24, 25, 26, 27, 28, 29, 8], [23, 40, 41, 42, 43, 30, 9], [22, 39, 48, 49, 44, 31, 10], [21, 38, 47, 46, 45, 32, 11], [20, 37, 36, 35, 34, 33, 12], [19, 18, 17, 16, 15, 14, 13]]\n"
     ]
    }
   ],
   "source": [
    "N = 7 #가로\n",
    "\n",
    "arr = [[0]*N for x in range(N)]\n",
    "row = 0\n",
    "col = -1\n",
    "cnt = 1\n",
    "switch =1\n",
    "while N>0:\n",
    "    for _ in range(1,N+1):\n",
    "        col += switch\n",
    "        arr[row][col] = cnt\n",
    "        cnt += 1\n",
    "    N-=1\n",
    "\n",
    "    for __ in range(1,N+1):\n",
    "        row += switch\n",
    "        arr[row][col] = cnt\n",
    "        cnt += 1\n",
    "    switch *= -1\n",
    "\n",
    "print(arr)"
   ]
  },
  {
   "cell_type": "code",
   "execution_count": 27,
   "id": "smoking-remark",
   "metadata": {},
   "outputs": [
    {
     "name": "stdout",
     "output_type": "stream",
     "text": [
      "[[1, 2, 3, 4], [14, 15, 16, 5], [13, 20, 17, 6], [12, 19, 18, 7], [11, 10, 9, 8]]\n"
     ]
    }
   ],
   "source": [
    "# 가로 세로가 다른 달팽이\n",
    "\n",
    "N = 4 #가로\n",
    "M = 5 # 세로\n",
    "arr = [[0]*N for x in range(M)]\n",
    "row = 0\n",
    "col = -1\n",
    "cnt = 1\n",
    "switch =1\n",
    "while N>0:\n",
    "    # 가로를 입력하는 달팽이\n",
    "    for _ in range(1,N+1):\n",
    "        col += switch\n",
    "        arr[row][col] = cnt\n",
    "        cnt += 1\n",
    "    # 한행,한열을 풀로 입력할때마다 다음 달팽이는 자신의 최대 길이에서 1을 감소한 만큼 입력해야함\n",
    "    # (비록 자신의 타입과 다르더라도)\n",
    "    # 그러니까, 쭉 입력만 되면, 일단 -1 하고 시작\n",
    "    N-=1\n",
    "    M -=1 \n",
    "    for __ in range(1,M+1):\n",
    "        row += switch\n",
    "        arr[row][col] = cnt\n",
    "        cnt += 1\n",
    "    switch *= -1\n",
    "\n",
    "print(arr)"
   ]
  },
  {
   "cell_type": "code",
   "execution_count": 29,
   "id": "recent-saying",
   "metadata": {},
   "outputs": [
    {
     "name": "stdout",
     "output_type": "stream",
     "text": [
      "[[1, 14, 13, 12], [2, 15, 20, 11], [3, 16, 19, 10], [4, 17, 18, 9], [5, 6, 7, 8]]\n"
     ]
    }
   ],
   "source": [
    "# 가로 세로가 다른 달팽이\n",
    "\n",
    "N = 4 #가로\n",
    "M = 5 # 세로\n",
    "arr = [[0]*N for x in range(M)]\n",
    "row = -1 # 이번에는  row가 먼저 시작하니까...여기를 -1\n",
    "col = 0\n",
    "cnt = 1\n",
    "switch =1\n",
    "while N>0:\n",
    "    # 세로를 입력하는 달팽이\n",
    "    for __ in range(1,M+1):\n",
    "        row += switch\n",
    "        arr[row][col] = cnt\n",
    "        cnt += 1\n",
    "    # 한행,한열을 풀로 입력할때마다 다음 달팽이는 자신의 최대 길이에서 1을 감소한 만큼 입력해야함\n",
    "    # (비록 자신의 타입과 다르더라도)\n",
    "    # 그러니까, 쭉 입력만 되면, 일단 -1 하고 시작\n",
    "    N-=1\n",
    "    M -=1\n",
    "    \n",
    "    # 가로를 입력하는 달팽이\n",
    "    for _ in range(1,N+1):\n",
    "        col += switch\n",
    "        arr[row][col] = cnt\n",
    "        cnt += 1\n",
    "    switch *= -1\n",
    "\n",
    "print(arr)\n",
    "\n",
    "# 순서를 바꾸면???"
   ]
  },
  {
   "cell_type": "code",
   "execution_count": 100,
   "id": "dutch-geneva",
   "metadata": {},
   "outputs": [
    {
     "name": "stdout",
     "output_type": "stream",
     "text": [
      "[[6, 7, 8, 9, 10, 11, 12], [5, 26, 27, 28, 29, 30, 13], [4, 25, 38, 39, 40, 31, 14], [3, 24, 37, 42, 41, 32, 15], [2, 23, 36, 35, 34, 33, 16], [1, 22, 21, 20, 19, 18, 17]]\n",
      "0 5\n",
      "6 6\n"
     ]
    }
   ],
   "source": [
    "# 가로 세로가 다른 달팽이\n",
    "\n",
    "N = 7 # 한 리스트(행)에 포함되어 있는 요소의 갯수\n",
    "M = 6 # 전체 리스트에 행이 몇개인지 (열)의 갯수\n",
    "arr = [[0]*N for x in range(M)]\n",
    "row = M # row는 음의 방향이므로,\n",
    "col = 0 # col은 (행(리스트)의 요소들은 양의 방향이므로)\n",
    "cnt = 1\n",
    "switch =1\n",
    "while N>0 and M>0: # 둘 중 하나가 앵꼬나는 순간 끝\n",
    "    # 세로를 입력하는 달팽이\n",
    "    for __ in range(1,M+1):\n",
    "        row -= switch\n",
    "        arr[row][col] = cnt\n",
    "        cnt += 1\n",
    "        \n",
    "    # 한행,한열을 풀로 입력할때마다 다음 달팽이는 자신의 최대 길이에서 1을 감소한 만큼 입력해야함\n",
    "    # (비록 자신의 타입과 다르더라도)\n",
    "    # 그러니까, 쭉 입력만 되면, 일단 -1 하고 시작\n",
    "    N-=1\n",
    "    M -=1\n",
    "    switch *= -1\n",
    "    # 가로를 입력하는 달팽이\n",
    "    for _ in range(1,N+1):\n",
    "        col -= switch\n",
    "        arr[row][col] = cnt\n",
    "        cnt += 1\n",
    "    \n",
    "\n",
    "print(arr)\n",
    "\n",
    "# 문제 요청 대로 뽑은 달팽이.\n",
    "\n",
    "# 이제 달팽이에서 숫자를 찾는 식으로 진행하자.\n",
    "\n",
    "for c in range(len(arr)):\n",
    "    for r in range(len(arr[0])):\n",
    "        if arr[c][r] == 11:\n",
    "            print(c,r)\n",
    "            print(r+1,len(arr)-c)"
   ]
  },
  {
   "cell_type": "code",
   "execution_count": 101,
   "id": "blocked-orleans",
   "metadata": {},
   "outputs": [
    {
     "name": "stdout",
     "output_type": "stream",
     "text": [
      "12 12\n"
     ]
    }
   ],
   "source": [
    "C,R = list(map(int,input().split()))"
   ]
  },
  {
   "cell_type": "code",
   "execution_count": 102,
   "id": "cordless-lottery",
   "metadata": {},
   "outputs": [
    {
     "data": {
      "text/plain": [
       "21"
      ]
     },
     "execution_count": 102,
     "metadata": {},
     "output_type": "execute_result"
    }
   ],
   "source": [
    "abs(-21)"
   ]
  },
  {
   "cell_type": "code",
   "execution_count": 113,
   "id": "compound-graduation",
   "metadata": {},
   "outputs": [
    {
     "name": "stdout",
     "output_type": "stream",
     "text": [
      "3 3\n",
      "[[5, 6, 7], [4, 9, 8], [3, 2, 1]]\n"
     ]
    }
   ],
   "source": [
    "# 달팽이 연습 2\n",
    "\n",
    "R,C=map(int,input().split())\n",
    "\n",
    "#우 밑 좌 상 반복\n",
    "\n",
    "#dx=[1,0,-1,0]\n",
    "#dy=[0,1,0,-1]\n",
    "\n",
    "# 수정해서 좌 상 우 하 로 해보자\n",
    "dx = [-1,0,1,0]\n",
    "dy = [0,-1,0,1]\n",
    "\n",
    "# C = 리스트의 길이 --> 열, R = 리스트의 갯수 --> 행\n",
    "board=[[0]*C for _ in range(R)]\n",
    "\n",
    "# 최초 값을 직접 입력\n",
    "# 좌 상 우 하에 맞게 시작값도 수정해야겠지?\n",
    "\n",
    "board[C-1][R-1]=1\n",
    "\n",
    "# 초기 값은 위에서 이미 해놓았기에, cnt는 2부터 시작\n",
    "cnt=2\n",
    "\n",
    "# nx와 ny 는 board에서의 좌표가 될 것이다.\n",
    "nx,ny=C-1,R-1\n",
    "\n",
    "# R행 C열의 셀의 개수는 R*C개이므로, 그까지만 순환한다.\n",
    "while cnt<=(R*C):\n",
    "    # 특이하게도, 이 달팽이는 for문들 돈다. dx/dy 세트를 계속 순환하게 하려고 만든거 같은데, 이거 없앨수도?\n",
    "    # 드는 생각은, d가 4번밖에 반복이 안되므로, 한바퀴 다 돌면 멈추는거 아닐까? 인데,\n",
    "    # 생각해보니, for가 종료되어도 상위 while문은 계속 순환하고 있기에,\n",
    "    # 다시 한번 for d in range(4) 가 시작된다.\n",
    "    \n",
    "    for d in range(4):\n",
    "        nx+=dx[d] # nx와 ny에 전부 dx[0~3] 만큼을 더한 뒤,\n",
    "        ny+=dy[d] # 해당 위치서부터 아래의 while문을 돌린다.\n",
    "        \n",
    "        while 0<=nx<C and 0<=ny<R and board[ny][nx]==0: # nx가 C이하, ny가 R 이하, ny/nx 가 0일때만\n",
    "            board[ny][nx]=cnt # cnt를 새긴다.\n",
    "            cnt+=1 # 그리고 cnt += 1\n",
    "            nx += dx[d] # 새로운 nx는 마찬가지로, dx[d] 만큼 추가해준다. d가 뜻하는 방향에 따라\n",
    "            ny += dy[d] # 새로운 nx와 ny의 값이 정해지겠지.\n",
    "        nx -= dx[d] # while문이 종료 되면,\n",
    "        ny -= dy[d] # nx와 ny의 값을 원위치 한다.\n",
    "print(board)"
   ]
  },
  {
   "cell_type": "code",
   "execution_count": 112,
   "id": "plain-elements",
   "metadata": {},
   "outputs": [
    {
     "name": "stdout",
     "output_type": "stream",
     "text": [
      "3 3\n",
      "[[1, 2, 3], [8, 9, 4], [7, 6, 5]]\n"
     ]
    }
   ],
   "source": [
    "R,C=map(int,input().split())\n",
    "#우 밑 좌 상 반복\n",
    "dx=[1,0,-1,0]\n",
    "dy=[0,1,0,-1]\n",
    "board=[[0]*C for _ in range(R)]\n",
    "board[0][0]=1\n",
    "cnt=2\n",
    "nx,ny=0,0\n",
    "while cnt<=(R*C):\n",
    "    for _ in range(4):\n",
    "        nx+=dx[_]\n",
    "        ny+=dy[_]\n",
    "        while 0<=nx<C and 0<=ny<R and board[ny][nx]==0:\n",
    "            board[ny][nx]=cnt\n",
    "            cnt+=1\n",
    "            nx += dx[_]\n",
    "            ny += dy[_]\n",
    "        nx -= dx[_]\n",
    "        ny -= dy[_]\n",
    "print(board)"
   ]
  },
  {
   "cell_type": "code",
   "execution_count": 118,
   "id": "loved-trade",
   "metadata": {},
   "outputs": [
    {
     "name": "stdout",
     "output_type": "stream",
     "text": [
      "[1, 2, 4, 5]\n",
      "hi\n"
     ]
    }
   ],
   "source": [
    "idx =[0,1,2,3,4]\n",
    "\n",
    "lst = [1,2,3,4,5]\n",
    "a = lst.pop(idx[2])\n",
    "lst2 = [2,3,4,5]\n",
    "print(lst)\n",
    "if a in lst2:\n",
    "    print('hi')"
   ]
  },
  {
   "cell_type": "code",
   "execution_count": null,
   "id": "changing-principle",
   "metadata": {},
   "outputs": [],
   "source": [
    "N_lst = [x**2 for x in list(map(int,input().split()))]"
   ]
  },
  {
   "cell_type": "code",
   "execution_count": 7,
   "id": "worth-settle",
   "metadata": {},
   "outputs": [
    {
     "name": "stdout",
     "output_type": "stream",
     "text": [
      "[]\n"
     ]
    }
   ],
   "source": [
    "print(N_lst)"
   ]
  },
  {
   "cell_type": "code",
   "execution_count": 5,
   "id": "broken-scott",
   "metadata": {},
   "outputs": [
    {
     "name": "stdout",
     "output_type": "stream",
     "text": [
      "34\n"
     ]
    }
   ],
   "source": [
    "print(sum(N_lst))"
   ]
  },
  {
   "cell_type": "code",
   "execution_count": null,
   "id": "bright-reservoir",
   "metadata": {},
   "outputs": [],
   "source": []
  }
 ],
 "metadata": {
  "kernelspec": {
   "display_name": "Python 3",
   "language": "python",
   "name": "python3"
  },
  "language_info": {
   "codemirror_mode": {
    "name": "ipython",
    "version": 3
   },
   "file_extension": ".py",
   "mimetype": "text/x-python",
   "name": "python",
   "nbconvert_exporter": "python",
   "pygments_lexer": "ipython3",
   "version": "3.8.7"
  },
  "toc": {
   "base_numbering": 1,
   "nav_menu": {},
   "number_sections": true,
   "sideBar": true,
   "skip_h1_title": false,
   "title_cell": "Table of Contents",
   "title_sidebar": "Contents",
   "toc_cell": false,
   "toc_position": {},
   "toc_section_display": true,
   "toc_window_display": false
  }
 },
 "nbformat": 4,
 "nbformat_minor": 5
}
