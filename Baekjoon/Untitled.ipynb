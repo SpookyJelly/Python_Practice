{
 "cells": [
  {
   "cell_type": "code",
   "execution_count": 4,
   "id": "suited-neighbor",
   "metadata": {},
   "outputs": [
    {
     "name": "stdout",
     "output_type": "stream",
     "text": [
      "5\n"
     ]
    },
    {
     "ename": "IndexError",
     "evalue": "list index out of range",
     "output_type": "error",
     "traceback": [
      "\u001b[1;31m---------------------------------------------------------------------------\u001b[0m",
      "\u001b[1;31mIndexError\u001b[0m                                Traceback (most recent call last)",
      "\u001b[1;32m<ipython-input-4-a82210c1deeb>\u001b[0m in \u001b[0;36m<module>\u001b[1;34m\u001b[0m\n\u001b[0;32m      4\u001b[0m \u001b[0mres\u001b[0m \u001b[1;33m=\u001b[0m \u001b[1;33m[\u001b[0m\u001b[1;33m]\u001b[0m\u001b[1;33m\u001b[0m\u001b[1;33m\u001b[0m\u001b[0m\n\u001b[0;32m      5\u001b[0m \u001b[1;32mfor\u001b[0m \u001b[0mi\u001b[0m \u001b[1;32min\u001b[0m \u001b[0mrange\u001b[0m\u001b[1;33m(\u001b[0m\u001b[1;36m0\u001b[0m\u001b[1;33m,\u001b[0m\u001b[0ma\u001b[0m\u001b[1;33m)\u001b[0m\u001b[1;33m:\u001b[0m\u001b[1;33m\u001b[0m\u001b[1;33m\u001b[0m\u001b[0m\n\u001b[1;32m----> 6\u001b[1;33m     \u001b[0mres\u001b[0m\u001b[1;33m.\u001b[0m\u001b[0minsert\u001b[0m\u001b[1;33m(\u001b[0m\u001b[0mi\u001b[0m\u001b[1;33m-\u001b[0m\u001b[0mb\u001b[0m\u001b[1;33m[\u001b[0m\u001b[0mi\u001b[0m\u001b[1;33m]\u001b[0m\u001b[1;33m,\u001b[0m\u001b[0mi\u001b[0m\u001b[1;33m+\u001b[0m\u001b[1;36m1\u001b[0m\u001b[1;33m)\u001b[0m\u001b[1;33m\u001b[0m\u001b[1;33m\u001b[0m\u001b[0m\n\u001b[0m\u001b[0;32m      7\u001b[0m \u001b[0mprint\u001b[0m\u001b[1;33m(\u001b[0m\u001b[0mres\u001b[0m\u001b[1;33m)\u001b[0m\u001b[1;33m\u001b[0m\u001b[1;33m\u001b[0m\u001b[0m\n",
      "\u001b[1;31mIndexError\u001b[0m: list index out of range"
     ]
    }
   ],
   "source": [
    "p = input()\n",
    "a = int(p)\n",
    "b = list(map(int, (p.split())))\n",
    "res = []\n",
    "for i in range(0,a):\n",
    "    res.insert(i-b[i],i+1)\n",
    "print(res)"
   ]
  },
  {
   "cell_type": "code",
   "execution_count": 38,
   "id": "million-stanley",
   "metadata": {},
   "outputs": [],
   "source": [
    "def bubble(lst,K)->list:\n",
    "    # 마지막 리터럴을 K회 위치바꾸기.\n",
    "    N = len(lst)\n",
    "    for i in range(K):\n",
    "        if i<N-1:\n",
    "            lst[N-1-i], lst[N-2-i] = lst[N-2-i], lst[N-1-i]\n",
    "            print(lst)\n",
    "    return lst"
   ]
  },
  {
   "cell_type": "code",
   "execution_count": 50,
   "id": "inclusive-destruction",
   "metadata": {},
   "outputs": [
    {
     "name": "stdout",
     "output_type": "stream",
     "text": [
      "[1, 3, 2]\n",
      "[3, 1, 2]\n"
     ]
    },
    {
     "data": {
      "text/plain": [
       "[3, 1, 2]"
      ]
     },
     "execution_count": 50,
     "metadata": {},
     "output_type": "execute_result"
    }
   ],
   "source": [
    "bubble([1,2,3],2)"
   ]
  },
  {
   "cell_type": "code",
   "execution_count": 49,
   "id": "fatty-criticism",
   "metadata": {},
   "outputs": [
    {
     "data": {
      "text/plain": [
       "[1, 2, 3, 4]"
      ]
     },
     "execution_count": 49,
     "metadata": {},
     "output_type": "execute_result"
    }
   ],
   "source": [
    "bubble([1,2,3,4],0)"
   ]
  },
  {
   "cell_type": "code",
   "execution_count": 41,
   "id": "duplicate-shannon",
   "metadata": {},
   "outputs": [
    {
     "name": "stdout",
     "output_type": "stream",
     "text": [
      "[1, 3, 2]\n",
      "[3, 1, 2]\n"
     ]
    },
    {
     "data": {
      "text/plain": [
       "[3, 1, 2]"
      ]
     },
     "execution_count": 41,
     "metadata": {},
     "output_type": "execute_result"
    }
   ],
   "source": [
    "bubble([1,2,3],3)"
   ]
  },
  {
   "cell_type": "code",
   "execution_count": 45,
   "id": "variable-praise",
   "metadata": {},
   "outputs": [
    {
     "name": "stdout",
     "output_type": "stream",
     "text": [
      "[2, 3, 4, 1, 5]\n",
      "[2, 3, 1, 4, 5]\n",
      "[2, 1, 3, 4, 5]\n",
      "[1, 2, 3, 4, 5]\n"
     ]
    },
    {
     "data": {
      "text/plain": [
       "[1, 2, 3, 4, 5]"
      ]
     },
     "execution_count": 45,
     "metadata": {},
     "output_type": "execute_result"
    }
   ],
   "source": [
    "bubble([2,3,4,5,1],5)"
   ]
  },
  {
   "cell_type": "code",
   "execution_count": 51,
   "id": "traditional-omaha",
   "metadata": {},
   "outputs": [
    {
     "name": "stdout",
     "output_type": "stream",
     "text": [
      "[2, 3, 4, 1, 6, 23, 11]\n",
      "[2, 3, 4, 1, 23, 6, 11]\n",
      "[2, 3, 4, 23, 1, 6, 11]\n",
      "[2, 3, 23, 4, 1, 6, 11]\n",
      "[2, 23, 3, 4, 1, 6, 11]\n",
      "[23, 2, 3, 4, 1, 6, 11]\n"
     ]
    },
    {
     "data": {
      "text/plain": [
       "[23, 2, 3, 4, 1, 6, 11]"
      ]
     },
     "execution_count": 51,
     "metadata": {},
     "output_type": "execute_result"
    }
   ],
   "source": [
    "bubble([2,3,4,1,6,11,23],6)"
   ]
  },
  {
   "cell_type": "code",
   "execution_count": 52,
   "id": "competent-clark",
   "metadata": {},
   "outputs": [
    {
     "data": {
      "text/plain": [
       "list"
      ]
     },
     "execution_count": 52,
     "metadata": {},
     "output_type": "execute_result"
    }
   ],
   "source": [
    "queue = []\n",
    "type(queue)"
   ]
  },
  {
   "cell_type": "code",
   "execution_count": 54,
   "id": "informational-involvement",
   "metadata": {},
   "outputs": [],
   "source": [
    "lst = ['1','2']"
   ]
  },
  {
   "cell_type": "code",
   "execution_count": 61,
   "id": "loved-coating",
   "metadata": {},
   "outputs": [],
   "source": [
    "queue += lst[0]"
   ]
  },
  {
   "cell_type": "code",
   "execution_count": 62,
   "id": "proprietary-package",
   "metadata": {},
   "outputs": [
    {
     "data": {
      "text/plain": [
       "['1', '1', '1']"
      ]
     },
     "execution_count": 62,
     "metadata": {},
     "output_type": "execute_result"
    }
   ],
   "source": [
    "queue"
   ]
  },
  {
   "cell_type": "code",
   "execution_count": 63,
   "id": "compressed-staff",
   "metadata": {},
   "outputs": [
    {
     "data": {
      "text/plain": [
       "list"
      ]
     },
     "execution_count": 63,
     "metadata": {},
     "output_type": "execute_result"
    }
   ],
   "source": [
    "type(queue)"
   ]
  },
  {
   "cell_type": "code",
   "execution_count": 64,
   "id": "frank-reputation",
   "metadata": {},
   "outputs": [],
   "source": [
    "queue = []"
   ]
  },
  {
   "cell_type": "code",
   "execution_count": null,
   "id": "occasional-service",
   "metadata": {},
   "outputs": [],
   "source": []
  }
 ],
 "metadata": {
  "kernelspec": {
   "display_name": "Python 3",
   "language": "python",
   "name": "python3"
  },
  "language_info": {
   "codemirror_mode": {
    "name": "ipython",
    "version": 3
   },
   "file_extension": ".py",
   "mimetype": "text/x-python",
   "name": "python",
   "nbconvert_exporter": "python",
   "pygments_lexer": "ipython3",
   "version": "3.8.7"
  },
  "toc": {
   "base_numbering": 1,
   "nav_menu": {},
   "number_sections": true,
   "sideBar": true,
   "skip_h1_title": false,
   "title_cell": "Table of Contents",
   "title_sidebar": "Contents",
   "toc_cell": false,
   "toc_position": {},
   "toc_section_display": true,
   "toc_window_display": false
  }
 },
 "nbformat": 4,
 "nbformat_minor": 5
}
