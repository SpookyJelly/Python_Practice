{
 "cells": [
  {
   "cell_type": "code",
   "execution_count": 1,
   "metadata": {},
   "outputs": [
    {
     "name": "stdout",
     "output_type": "stream",
     "text": [
      "Hello World!\n"
     ]
    }
   ],
   "source": [
    "#문제 2557 (2020.11.10)\n",
    "'''Hello World!를 출력하시오'''\n",
    "print(\"Hello World!\")"
   ]
  },
  {
   "cell_type": "code",
   "execution_count": 2,
   "metadata": {},
   "outputs": [
    {
     "name": "stdout",
     "output_type": "stream",
     "text": [
      "강한친구 대한육군\n",
      "강한친구 대한육군\n"
     ]
    }
   ],
   "source": [
    "#문제 10718 (2020.11.11)\n",
    "'''강한친구 대한육군\n",
    "   강한친구 대한육군  을 출력하시오'''\n",
    "print('''강한친구 대한육군\n",
    "강한친구 대한육군''')"
   ]
  },
  {
   "cell_type": "code",
   "execution_count": 3,
   "metadata": {},
   "outputs": [
    {
     "name": "stdout",
     "output_type": "stream",
     "text": [
      "\\    /\\ \n",
      " )  ( ')\n",
      "(  /  )\n",
      " \\(__)|\n"
     ]
    }
   ],
   "source": [
    "#문제 10171 (2020.11.11)\n",
    "'''\\    /\\\n",
    "    )  ( ')\n",
    "   (  /  )\n",
    "    \\(__)|   을 출력하시오'''\n",
    "a1=\"\\    /\\ \"\n",
    "a2=\" )  ( ')\"\n",
    "a3=\"(  /  )\"\n",
    "a4=\" \\(__)|\"\n",
    "print(a1)\n",
    "print(a2)\n",
    "print(a3)\n",
    "print(a4)"
   ]
  },
  {
   "cell_type": "code",
   "execution_count": 5,
   "metadata": {},
   "outputs": [
    {
     "name": "stdout",
     "output_type": "stream",
     "text": [
      "\\    /\\ \n",
      " )  ( ') \n",
      "(  /  )\n",
      "\\(__)|  \n"
     ]
    }
   ],
   "source": [
    "# 10171 숏코딩\n",
    "print('''\\    /\\ \n",
    " )  ( ') \n",
    "(  /  )\n",
    "\\(__)|  ''') # 굳이 객체변수를 여러개 만들 필요는 없다"
   ]
  },
  {
   "cell_type": "code",
   "execution_count": 7,
   "metadata": {},
   "outputs": [
    {
     "name": "stdout",
     "output_type": "stream",
     "text": [
      "\\    /\\\n",
      " )  ( ')\n",
      "(  /  )\n",
      " \\(__)|\n"
     ]
    }
   ],
   "source": [
    "# 10171 백준 숏코드\n",
    "print(\"\\    /\\\\\\n )  ( ')\\n(  /  )\\n \\(__)|\") #여기서 포인트는 \\을 문자로 쓴 상태에서\n",
    "# 줄 변경을 하려면 \\\\n을 써야한다는것. %c%% 이거랑 똑같은 이유인듯 (%%는 뒷 문자를 문자라고 알려주는 거지)"
   ]
  },
  {
   "cell_type": "code",
   "execution_count": 13,
   "metadata": {},
   "outputs": [
    {
     "name": "stdout",
     "output_type": "stream",
     "text": [
      "|\\_/|\n",
      "|q p|   /}\n",
      "( 0 )\"\"\"\\\n",
      "|\"^\"`    |\n",
      "||_/=\\\\__|\n"
     ]
    }
   ],
   "source": [
    "#10172번\n",
    "#개를 출력하라\n",
    "\n",
    "print('''|\\_/|\n",
    "|q p|   /}\n",
    "( 0 )\"\"\"\\\\ \n",
    "|\"^\"`    |\n",
    "||_/=\\\\\\__|''') #포인트는 문자 \\가 문자열의 마지막이거나 연속으로 두번 사용 되려면\n",
    "#\\\\로 적어야한다는 것"
   ]
  },
  {
   "cell_type": "code",
   "execution_count": 37,
   "metadata": {},
   "outputs": [
    {
     "name": "stdout",
     "output_type": "stream",
     "text": [
      "1 2\n",
      "3\n"
     ]
    }
   ],
   "source": [
    "#1000번\n",
    "# 두 정수 A와 B를 입력받은 다음, A+B를 출력하는 프로그램을 작성하시오\n",
    "a,b =input().split() # a,b 두개의 객체를 input 받는다. 그리고 그 변수의 구분은 split 메서드로 한다. split 메서드에 나온것 처럼 \" \" 빈칸 단위로 다른 객체임을 구분\n",
    "sum = int(a)+int(b) #int 함수 --> C와 동일하게, 입력받은 문자열 형태의 숫자나, 소수점 숫자를 정수꼴로 반환한다.\n",
    "print(sum)"
   ]
  },
  {
   "cell_type": "code",
   "execution_count": 38,
   "metadata": {},
   "outputs": [
    {
     "name": "stdout",
     "output_type": "stream",
     "text": [
      "3 2\n",
      "1\n"
     ]
    }
   ],
   "source": [
    "#1001번\n",
    "#두 정수 A와 B를 입력받은 다음, A-B를 출력하는 프로그램을 작성하시오\n",
    "a,b = input().split()\n",
    "diff = int(a) - int(b)\n",
    "print(diff)\n",
    "# 1000번 문제랑 동일하다"
   ]
  },
  {
   "cell_type": "code",
   "execution_count": 40,
   "metadata": {},
   "outputs": [
    {
     "name": "stdout",
     "output_type": "stream",
     "text": [
      "2 3\n",
      "6\n"
     ]
    }
   ],
   "source": [
    "#1002번\n",
    "#두 정수 A와 B를 입력받은 다음, A*B를 출력하는 프로그램을 작성하시오\n",
    "a,b = map(int,input().split()) # 이번에는 map 함수를 써보았다.\n",
    "print(a*b)\n",
    "\n",
    "'''map 함수 : map()은 리스트의 요소를 지정된 함수로 처리해주는 함수\n",
    "map(함수, 리스트 / 튜플...)\n",
    "\n",
    "여기서 map은 input().split()의 요소를 int로 처리해주는 역할이다'''"
   ]
  },
  {
   "cell_type": "code",
   "execution_count": 49,
   "metadata": {},
   "outputs": [
    {
     "name": "stdout",
     "output_type": "stream",
     "text": [
      "10 20\n"
     ]
    }
   ],
   "source": [
    "a = input().split()  "
   ]
  },
  {
   "cell_type": "code",
   "execution_count": 50,
   "metadata": {},
   "outputs": [
    {
     "data": {
      "text/plain": [
       "['10', '20']"
      ]
     },
     "execution_count": 50,
     "metadata": {},
     "output_type": "execute_result"
    }
   ],
   "source": [
    "a #input().split의 결과가 문자열 '리스트'이기에 map 함수를 사용할 수 있었다."
   ]
  },
  {
   "cell_type": "code",
   "execution_count": 51,
   "metadata": {},
   "outputs": [
    {
     "name": "stdout",
     "output_type": "stream",
     "text": [
      "1\n"
     ]
    }
   ],
   "source": [
    "#그러면 왜 아래와 같은 코드는 안되는지 설명이 가능하다\n",
    "# a, b = int(input().split())\n",
    "#input().split()으로 문자열 리스트로 저장을 했기 때문에 그것을 다시 int 할 수 없는 것이지\n",
    "# int 타입은 string, 1바이트 객체 혹은 숫자(a bytes-like object of number)만을 받는 함수\n",
    "#만약에 a = int(inout())이면 바로 입력값을 바로 정수로 저장 할 수 있을지도??\n",
    "\n",
    "a = int(input())"
   ]
  },
  {
   "cell_type": "code",
   "execution_count": 52,
   "metadata": {},
   "outputs": [
    {
     "data": {
      "text/plain": [
       "int"
      ]
     },
     "execution_count": 52,
     "metadata": {},
     "output_type": "execute_result"
    }
   ],
   "source": [
    "type(a) # 그러네, 되는구나...\n",
    "#그 말인 곧 즉, 요솟값이 하나인 리스트는 a byte object로 취급된다고 생각"
   ]
  },
  {
   "cell_type": "code",
   "execution_count": 59,
   "metadata": {},
   "outputs": [
    {
     "name": "stdout",
     "output_type": "stream",
     "text": [
      "1 3\n",
      "0.3333333333333333\n"
     ]
    }
   ],
   "source": [
    "#1002번\n",
    "#두 정수 A와 B를 입력받은 다음, A/B를 출력하는 프로그램을 작성하시오\n",
    "a,b = map(int, input().split())\n",
    "result = a/b\n",
    "print(result) #굳이 result 변수를 만들 필요가 있었나 생각을 하는데.... 없어도 되지 않을까"
   ]
  },
  {
   "cell_type": "code",
   "execution_count": 67,
   "metadata": {},
   "outputs": [
    {
     "name": "stdout",
     "output_type": "stream",
     "text": [
      "1 3\n",
      "0.3333333333333333\n"
     ]
    }
   ],
   "source": [
    "#1002번을 map 함수 안 쓰고 풀어보기\n",
    "\n",
    "a,b = input().split() # 입력 받은 값을 a b 로 구분 짓는다. 구분 기준은 띄어쓰기 \" \"\n",
    "a = int(a)\n",
    "b = int (b)\n",
    "print(a/b)"
   ]
  },
  {
   "cell_type": "code",
   "execution_count": 70,
   "metadata": {
    "scrolled": true
   },
   "outputs": [
    {
     "name": "stdout",
     "output_type": "stream",
     "text": [
      "7 3\n",
      "10\n",
      "4\n",
      "21\n",
      "2\n",
      "1\n"
     ]
    }
   ],
   "source": [
    "#10869번\n",
    "# 두 자연수 A와 B가 주어진다. \n",
    "# 이때, A+B, A-B, A*B, A/B(몫), A%B(나머지)를 출력하는 프로그램을 작성하시오. \n",
    "\n",
    "a,b = map(int, input().split())\n",
    "print(int(a+b))\n",
    "print(int(a-b))\n",
    "print(int(a*b))\n",
    "print(int(a/b))\n",
    "print(int(a%b))\n",
    "\n",
    "# 뭔가...뭔가 더 좋은 코딩이 있을거 같은데..."
   ]
  },
  {
   "cell_type": "code",
   "execution_count": 75,
   "metadata": {},
   "outputs": [
    {
     "name": "stdout",
     "output_type": "stream",
     "text": [
      "7 3\n",
      "10\n",
      "4\n",
      "21\n",
      "2\n",
      "1\n"
     ]
    }
   ],
   "source": [
    "#10869번 개선안 (연산자 수정)\n",
    "a,b = map(int, input().split())\n",
    "print(a+b)\n",
    "print(a-b)\n",
    "print(a*b)\n",
    "print(a//b) # // 연산자를 잊고 있었다. 나눗셈 후 몫을 반환하는 연산자이다.\n",
    "print(a%b)"
   ]
  },
  {
   "cell_type": "code",
   "execution_count": 76,
   "metadata": {},
   "outputs": [
    {
     "name": "stdout",
     "output_type": "stream",
     "text": [
      "5 8 4\n",
      "1\n",
      "1\n",
      "0\n",
      "0\n"
     ]
    }
   ],
   "source": [
    "#10430번\n",
    "'''(A+B)%C는 ((A%C) + (B%C))%C 와 같을까?\n",
    "\n",
    "(A×B)%C는 ((A%C) × (B%C))%C 와 같을까?\n",
    "\n",
    "세 수 A, B, C가 주어졌을 때, 위의 네 가지 값을 구하는 프로그램을 작성하시오.'''\n",
    "a,b,c = map(int, input().split())\n",
    "print((a+b)%c)\n",
    "print(((a%c)+(b%c))%c)\n",
    "print((a*b)%c)\n",
    "print(((a%c)*(b%c))%c)"
   ]
  },
  {
   "cell_type": "code",
   "execution_count": 88,
   "metadata": {},
   "outputs": [
    {
     "name": "stdout",
     "output_type": "stream",
     "text": [
      "5 8 4\n",
      "1\n",
      "1\n",
      "0\n",
      "0\n"
     ]
    }
   ],
   "source": [
    "#10430번 (다른 풀이)\n",
    "# 누가 함수 만들어서 도전해봤길래 나도 해봄...\n",
    "# 결국 출력만 제대로 되면 되는거잖아.\n",
    "\n",
    "a,b,c = map(int, input().split())\n",
    "def calculate (a,b,c) :\n",
    "    print((a+b)%c)\n",
    "    print(((a%c)+(b%c))%c)\n",
    "    print((a*b)%c)\n",
    "    print(((a%c)*(b%c))%c)\n",
    "calculate(a,b,c) #여기서는 그냥 calculate 함수를 호출만 한거."
   ]
  },
  {
   "cell_type": "code",
   "execution_count": 133,
   "metadata": {},
   "outputs": [
    {
     "name": "stdout",
     "output_type": "stream",
     "text": [
      "472\n",
      "385\n",
      "2360\n",
      "3776\n",
      "1416\n",
      "181720\n"
     ]
    }
   ],
   "source": [
    "#2588번\n",
    "'''(세 자리 수) × (세 자리 수)는 다음과 같은 과정을 통하여 이루어진다.\n",
    "(1)과 (2)위치에 들어갈 세 자리 자연수가 주어질 때\n",
    "(3), (4), (5), (6)위치에 들어갈 값을 구하는 프로그램을 작성하시오.'''\n",
    "# 이거 초등부 문제이던데... 뭘까 이 미묘한 기분은\n",
    "\n",
    "a = int(input())\n",
    "b = int(input())\n",
    "\n",
    "def digit(n):\n",
    "    list = [int(i) for i in str(n)] # 1. input()은 입력되는 모든 것을 문자열로 취급.\n",
    "                                    # 2. for는 'for 변수 in 많은 원소를 가진 객체'꼴인데. 그럼 여기서 이미 str(n)은 많은 원소를 가졌다는 뜻\n",
    "                                    # 3. 그래서 digit(a)를 입력하면 a의 각 자리 수로 분열?? 아 시발 진짜 설명이 안되네. \n",
    "# 아!! list 자체가 자료형을 리스트로 만들어주는 함수임. list(\"pyt\") --> ['p','y''t'] 이 된다\n",
    "# 그러면 str(n) 대신에 그냥 n 써도 되는거 아닌가? 아니면 아예 list = [int(i) for i in n] 으로 해도 될 거 같은데\n",
    "# --> 안된다... 이유는 밑에서 보여준다\n",
    "    return list\n",
    "digit(a)\n",
    "digit(b)\n",
    "\n",
    "i=2\n",
    "\n",
    "while i>=0 :\n",
    "    print(a*int(digit(b)[i])) #각주 1\n",
    "    i -= 1\n",
    "    if i<0 : pass\n",
    "print(a*b)"
   ]
  },
  {
   "cell_type": "code",
   "execution_count": 125,
   "metadata": {},
   "outputs": [
    {
     "data": {
      "text/plain": [
       "int"
      ]
     },
     "execution_count": 125,
     "metadata": {},
     "output_type": "execute_result"
    }
   ],
   "source": [
    "type(digit(b)[2]) #for문에는 리스트나 문자열이 들어간다"
   ]
  },
  {
   "cell_type": "code",
   "execution_count": 127,
   "metadata": {},
   "outputs": [
    {
     "ename": "TypeError",
     "evalue": "'int' object is not iterable",
     "output_type": "error",
     "traceback": [
      "\u001b[1;31m---------------------------------------------------------------------------\u001b[0m",
      "\u001b[1;31mTypeError\u001b[0m                                 Traceback (most recent call last)",
      "\u001b[1;32m<ipython-input-127-45ff884278de>\u001b[0m in \u001b[0;36m<module>\u001b[1;34m\u001b[0m\n\u001b[1;32m----> 1\u001b[1;33m \u001b[0mprint\u001b[0m\u001b[1;33m(\u001b[0m\u001b[0mmap\u001b[0m\u001b[1;33m(\u001b[0m\u001b[0mint\u001b[0m\u001b[1;33m,\u001b[0m\u001b[0ma\u001b[0m\u001b[1;33m,\u001b[0m\u001b[0mdigit\u001b[0m\u001b[1;33m(\u001b[0m\u001b[0mb\u001b[0m\u001b[1;33m)\u001b[0m\u001b[1;33m[\u001b[0m\u001b[1;36m2\u001b[0m\u001b[1;33m]\u001b[0m\u001b[1;33m)\u001b[0m\u001b[1;33m)\u001b[0m\u001b[1;33m\u001b[0m\u001b[1;33m\u001b[0m\u001b[0m\n\u001b[0m",
      "\u001b[1;31mTypeError\u001b[0m: 'int' object is not iterable"
     ]
    }
   ],
   "source": [
    "# 각주 1) 이하의 명령을 루프 돌리고 싶어서 각주와 같이 처리함\n",
    "print(a*int(digit(b)[2]))\n",
    "print(a*int(digit(b)[1]))\n",
    "print(a*int(digit(b)[0]))"
   ]
  },
  {
   "cell_type": "code",
   "execution_count": 146,
   "metadata": {},
   "outputs": [
    {
     "name": "stdout",
     "output_type": "stream",
     "text": [
      "472\n",
      "585\n"
     ]
    },
    {
     "ename": "TypeError",
     "evalue": "'int' object is not iterable",
     "output_type": "error",
     "traceback": [
      "\u001b[1;31m---------------------------------------------------------------------------\u001b[0m",
      "\u001b[1;31mTypeError\u001b[0m                                 Traceback (most recent call last)",
      "\u001b[1;32m<ipython-input-146-09678b65f20f>\u001b[0m in \u001b[0;36m<module>\u001b[1;34m\u001b[0m\n\u001b[0;32m      5\u001b[0m     \u001b[0mlist\u001b[0m \u001b[1;33m=\u001b[0m \u001b[1;33m[\u001b[0m\u001b[0mint\u001b[0m\u001b[1;33m(\u001b[0m\u001b[0mi\u001b[0m\u001b[1;33m)\u001b[0m\u001b[1;32mfor\u001b[0m \u001b[0mi\u001b[0m \u001b[1;32min\u001b[0m \u001b[0mn\u001b[0m\u001b[1;33m]\u001b[0m\u001b[1;33m\u001b[0m\u001b[1;33m\u001b[0m\u001b[0m\n\u001b[0;32m      6\u001b[0m     \u001b[1;32mreturn\u001b[0m \u001b[0mlist\u001b[0m\u001b[1;33m\u001b[0m\u001b[1;33m\u001b[0m\u001b[0m\n\u001b[1;32m----> 7\u001b[1;33m \u001b[0mdigit\u001b[0m\u001b[1;33m(\u001b[0m\u001b[0ma\u001b[0m\u001b[1;33m)\u001b[0m\u001b[1;33m\u001b[0m\u001b[1;33m\u001b[0m\u001b[0m\n\u001b[0m\u001b[0;32m      8\u001b[0m \u001b[0mdigit\u001b[0m\u001b[1;33m(\u001b[0m\u001b[0mb\u001b[0m\u001b[1;33m)\u001b[0m\u001b[1;33m\u001b[0m\u001b[1;33m\u001b[0m\u001b[0m\n\u001b[0;32m      9\u001b[0m \u001b[1;33m\u001b[0m\u001b[0m\n",
      "\u001b[1;32m<ipython-input-146-09678b65f20f>\u001b[0m in \u001b[0;36mdigit\u001b[1;34m(n)\u001b[0m\n\u001b[0;32m      3\u001b[0m \u001b[1;33m\u001b[0m\u001b[0m\n\u001b[0;32m      4\u001b[0m \u001b[1;32mdef\u001b[0m \u001b[0mdigit\u001b[0m\u001b[1;33m(\u001b[0m\u001b[0mn\u001b[0m\u001b[1;33m)\u001b[0m\u001b[1;33m:\u001b[0m\u001b[1;33m\u001b[0m\u001b[1;33m\u001b[0m\u001b[0m\n\u001b[1;32m----> 5\u001b[1;33m     \u001b[0mlist\u001b[0m \u001b[1;33m=\u001b[0m \u001b[1;33m[\u001b[0m\u001b[0mint\u001b[0m\u001b[1;33m(\u001b[0m\u001b[0mi\u001b[0m\u001b[1;33m)\u001b[0m\u001b[1;32mfor\u001b[0m \u001b[0mi\u001b[0m \u001b[1;32min\u001b[0m \u001b[0mn\u001b[0m\u001b[1;33m]\u001b[0m\u001b[1;33m\u001b[0m\u001b[1;33m\u001b[0m\u001b[0m\n\u001b[0m\u001b[0;32m      6\u001b[0m     \u001b[1;32mreturn\u001b[0m \u001b[0mlist\u001b[0m\u001b[1;33m\u001b[0m\u001b[1;33m\u001b[0m\u001b[0m\n\u001b[0;32m      7\u001b[0m \u001b[0mdigit\u001b[0m\u001b[1;33m(\u001b[0m\u001b[0ma\u001b[0m\u001b[1;33m)\u001b[0m\u001b[1;33m\u001b[0m\u001b[1;33m\u001b[0m\u001b[0m\n",
      "\u001b[1;31mTypeError\u001b[0m: 'int' object is not iterable"
     ]
    }
   ],
   "source": [
    "a = int(input())\n",
    "b = int(input())\n",
    "\n",
    "def digit(n):\n",
    "    list = [int(i)for i in n]  #여기서 srr(n)을 n으로 바꿈  \n",
    "    #그 결과 'int' object is not iterable 이라는 에러가 뜬다...iterable하지 않다고 에러가 나는데, iteralbe한 자료형은\n",
    "    # sequence type(순차적으로 찾아오는) list,str,tuple이 있다. iterable은 member를 하나씩 차례로 반환 가능한 객체임을 말한다\n",
    "    # 그냥 n으로 하면 list = 구문은 int꼴이 input되는데, 이는 for문에서 member를 하나씩 집어넣지 못하니까, 에러가 나는거다\n",
    "    # 통상 for문 쓸때 in range를 같이 썼는데, range도 사실 list로 만들어지기 때문에 for문을 돌릴수 있던 것이다.\n",
    "    return list\n",
    "digit(a)\n",
    "digit(b)\n",
    "\n",
    "i=2\n",
    "\n",
    "while i>=0 :\n",
    "    print(a*int(digit(b)[i]))\n",
    "    i -= 1\n",
    "    if i<0 : pass\n",
    "print(a*b)"
   ]
  },
  {
   "cell_type": "code",
   "execution_count": 147,
   "metadata": {},
   "outputs": [
    {
     "name": "stdout",
     "output_type": "stream",
     "text": [
      "472\n",
      "385\n",
      "2360\n",
      "3776\n",
      "1416\n",
      "181720\n"
     ]
    }
   ],
   "source": [
    "#2588번 다른 버젼\n",
    "\n",
    "a = int(input())\n",
    "b = input()\n",
    "for j in b[::-1]: #이게 무슨 뜻일까...? 일단 문자열 슬라이싱이라는 건 알겠음\n",
    "    #b = input()이 str 타입이고, [:]이라는 뜻은 시작부터 끝까지를 칭하는거니까\n",
    "    #문자열 자로형은 인덱싱/슬라이싱으로 요솟값을 뽑아낼수 있으니 이런 방법이 먹히는듯\n",
    "    #-1이라는 것은 가장 오른쪽에 있는 요소부터 1칸씩 왼쪽으로 이동한다는 뜻인거 같아\n",
    "  print(int(a) * int(j))\n",
    "'''그러면 이 for문을 해석하면\n",
    "print((int(a) *int(b[2])))\n",
    "print((int(a))* int(b[1]))\n",
    "print((int(a))* int(b[0])) 이 되는거네 (물론 b 입력이 3자리수라는 전제하에)\n",
    "'''\n",
    "print(a * int(b))"
   ]
  },
  {
   "cell_type": "code",
   "execution_count": null,
   "metadata": {},
   "outputs": [],
   "source": []
  }
 ],
 "metadata": {
  "kernelspec": {
   "display_name": "Python 3",
   "language": "python",
   "name": "python3"
  },
  "language_info": {
   "codemirror_mode": {
    "name": "ipython",
    "version": 3
   },
   "file_extension": ".py",
   "mimetype": "text/x-python",
   "name": "python",
   "nbconvert_exporter": "python",
   "pygments_lexer": "ipython3",
   "version": "3.8.3"
  }
 },
 "nbformat": 4,
 "nbformat_minor": 4
}
