{
 "cells": [
  {
   "cell_type": "code",
   "execution_count": 27,
   "metadata": {},
   "outputs": [
    {
     "name": "stdout",
     "output_type": "stream",
     "text": [
      "3\n",
      "1 4 7\n",
      "1\n"
     ]
    }
   ],
   "source": [
    "#1978번 소수 찾기\n",
    "#첫 줄에 수의 개수 N이 주어진다. N은 100이하이다. 다음으로 N개의 수가 주어지는데\n",
    "# 수는 1,000이하의 자연수이다\n",
    "# 주어진 수들 중 소수의 개수를 출력한다.\n",
    "\n",
    "N = int(input())\n",
    "ans = 0 #소수의 개수\n",
    "sosu = list(map(int,input().split()))\n",
    "for i in range(N):\n",
    "    count = 0 # 여기에 count = 0 선언해야지 루트 돌때마다 초기화 된다\n",
    "    for j in range(1,sosu[i]+1): # j가1~소수리스트의 i번째 항이 된다\n",
    "        if sosu[i]%j==0: #그리고 sosu[i]번째 항을 전부 j로 나누어봐서 딱 떨어지면\n",
    "            count+=1 # count가 1 오른다\n",
    "    if count == 2:#count가 2인 경우 (약수가 2개인 경우)\n",
    "        ans +=1 # 소수로 인정한다\n",
    "print(ans)"
   ]
  },
  {
   "cell_type": "code",
   "execution_count": 8,
   "metadata": {},
   "outputs": [
    {
     "name": "stdout",
     "output_type": "stream",
     "text": [
      "60\n",
      "100\n",
      "620\n",
      "61\n"
     ]
    }
   ],
   "source": [
    "#2581번 소수\n",
    "#자연수 M과 N이 주어질때 M이상 N이하의 자연수 중 소수인 것을 모두 골라\n",
    "#이들 소수의 합과 최솟값을 찾아라\n",
    "# 첫째줄에 M, 둘째줄에 N이 주어진다.\n",
    "\n",
    "M = int(input())\n",
    "N = int(input())\n",
    "a = []\n",
    "for i in range(M,N+1):\n",
    "    count = 0\n",
    "    for j in range(1,i+1):\n",
    "        if i%j ==0:\n",
    "            count +=1\n",
    "    if count == 2:\n",
    "        a.append(i)\n",
    "if len(a)==0:\n",
    "    print('-1')\n",
    "else :\n",
    "    print(sum(a))\n",
    "    print(min(a))\n",
    "#아니 씨발 시간초과?"
   ]
  },
  {
   "cell_type": "code",
   "execution_count": 7,
   "metadata": {},
   "outputs": [
    {
     "ename": "ValueError",
     "evalue": "invalid literal for int() with base 10: ''",
     "traceback": [
      "\u001b[1;31m---------------------------------------------------------------------------\u001b[0m",
      "\u001b[1;31mValueError\u001b[0m                                Traceback (most recent call last)",
      "\u001b[1;32m<ipython-input-7-69a5d24ace55>\u001b[0m in \u001b[0;36m<module>\u001b[1;34m\u001b[0m\n\u001b[0;32m      3\u001b[0m \u001b[1;32mimport\u001b[0m \u001b[0msys\u001b[0m\u001b[1;33m\u001b[0m\u001b[1;33m\u001b[0m\u001b[0m\n\u001b[0;32m      4\u001b[0m \u001b[1;33m\u001b[0m\u001b[0m\n\u001b[1;32m----> 5\u001b[1;33m \u001b[0mM\u001b[0m \u001b[1;33m=\u001b[0m \u001b[0mint\u001b[0m\u001b[1;33m(\u001b[0m\u001b[0msys\u001b[0m\u001b[1;33m.\u001b[0m\u001b[0mstdin\u001b[0m\u001b[1;33m.\u001b[0m\u001b[0mreadline\u001b[0m\u001b[1;33m(\u001b[0m\u001b[1;33m)\u001b[0m\u001b[1;33m)\u001b[0m\u001b[1;33m\u001b[0m\u001b[1;33m\u001b[0m\u001b[0m\n\u001b[0m\u001b[0;32m      6\u001b[0m \u001b[0mN\u001b[0m \u001b[1;33m=\u001b[0m \u001b[0mint\u001b[0m\u001b[1;33m(\u001b[0m\u001b[0msys\u001b[0m\u001b[1;33m.\u001b[0m\u001b[0mstdin\u001b[0m\u001b[1;33m.\u001b[0m\u001b[0mreadline\u001b[0m\u001b[1;33m(\u001b[0m\u001b[1;33m)\u001b[0m\u001b[1;33m)\u001b[0m\u001b[1;33m\u001b[0m\u001b[1;33m\u001b[0m\u001b[0m\n\u001b[0;32m      7\u001b[0m \u001b[0ma\u001b[0m \u001b[1;33m=\u001b[0m \u001b[1;33m[\u001b[0m\u001b[1;33m]\u001b[0m\u001b[1;33m\u001b[0m\u001b[1;33m\u001b[0m\u001b[0m\n",
      "\u001b[1;31mValueError\u001b[0m: invalid literal for int() with base 10: ''"
     ],
     "output_type": "error"
    }
   ],
   "source": [
    "#2581번 readline 사용\n",
    "\n",
    "import sys\n",
    "\n",
    "M = int(sys.stdin.readline())\n",
    "N = int(sys.stdin.readline())\n",
    "a = []\n",
    "for i in range(M,N+1):\n",
    "    count = 0\n",
    "    for j in range(1,i+1):\n",
    "        if i%j ==0:\n",
    "            count +=1\n",
    "    if count == 2:\n",
    "        a.append(i)\n",
    "if len(a)==0:\n",
    "    print('-1')\n",
    "else :\n",
    "    print(sum(a))\n",
    "    print(min(a))\n",
    "\n",
    "#이래도 시간초과나네 씨발"
   ]
  },
  {
   "cell_type": "code",
   "execution_count": 12,
   "metadata": {},
   "outputs": [
    {
     "ename": "ValueError",
     "evalue": "invalid literal for int() with base 10: ''",
     "traceback": [
      "\u001b[1;31m---------------------------------------------------------------------------\u001b[0m",
      "\u001b[1;31mValueError\u001b[0m                                Traceback (most recent call last)",
      "\u001b[1;32m<ipython-input-12-e827b7eec429>\u001b[0m in \u001b[0;36m<module>\u001b[1;34m\u001b[0m\n\u001b[0;32m      2\u001b[0m \u001b[1;32mimport\u001b[0m \u001b[0msys\u001b[0m\u001b[1;33m\u001b[0m\u001b[1;33m\u001b[0m\u001b[0m\n\u001b[0;32m      3\u001b[0m \u001b[1;33m\u001b[0m\u001b[0m\n\u001b[1;32m----> 4\u001b[1;33m \u001b[0mM\u001b[0m \u001b[1;33m=\u001b[0m \u001b[0mint\u001b[0m\u001b[1;33m(\u001b[0m\u001b[0msys\u001b[0m\u001b[1;33m.\u001b[0m\u001b[0mstdin\u001b[0m\u001b[1;33m.\u001b[0m\u001b[0mreadline\u001b[0m\u001b[1;33m(\u001b[0m\u001b[1;33m)\u001b[0m\u001b[1;33m)\u001b[0m\u001b[1;33m\u001b[0m\u001b[1;33m\u001b[0m\u001b[0m\n\u001b[0m\u001b[0;32m      5\u001b[0m \u001b[0mN\u001b[0m \u001b[1;33m=\u001b[0m \u001b[0mint\u001b[0m\u001b[1;33m(\u001b[0m\u001b[0msys\u001b[0m\u001b[1;33m.\u001b[0m\u001b[0mstdin\u001b[0m\u001b[1;33m.\u001b[0m\u001b[0mreadline\u001b[0m\u001b[1;33m(\u001b[0m\u001b[1;33m)\u001b[0m\u001b[1;33m)\u001b[0m\u001b[1;33m\u001b[0m\u001b[1;33m\u001b[0m\u001b[0m\n\u001b[0;32m      6\u001b[0m \u001b[0ma\u001b[0m \u001b[1;33m=\u001b[0m \u001b[1;33m[\u001b[0m\u001b[1;33m]\u001b[0m\u001b[1;33m\u001b[0m\u001b[1;33m\u001b[0m\u001b[0m\n",
      "\u001b[1;31mValueError\u001b[0m: invalid literal for int() with base 10: ''"
     ],
     "output_type": "error"
    }
   ],
   "source": [
    "# 2581번 해답편 // 소수 구하는 방법\n",
    "import sys\n",
    "\n",
    "M = int(sys.stdin.readline())\n",
    "N = int(sys.stdin.readline())\n",
    "a = []\n",
    "for i in range(M,N+1):#입력 받은 M과 N사이의 숫자에 대해서 검사 (1)\n",
    "    if i == 1: #1은 패스\n",
    "        pass\n",
    "    elif i == 2: # 2는 소수니까 집어 넣는다\n",
    "        a.append(i)\n",
    "    else: # 3부터는 여기로 들어간다\n",
    "        for j in range(2,i): # 2, (M,N) 에 대해서  (1 안 넣는 이유 : n%1는 무조건 0이니까, 나머지가 0인 경우를 찾는 아래 조건문과 상충)\n",
    "            if i%j == 0: # 단 하나라도 딱 나누어 떨어지면\n",
    "                break # break 되서 (1)로 간다\n",
    "            elif j== i-1: # 하지만 그런일 없이 j가 i-1까지 오면\n",
    "                a.append(i) # i를 소수로 ㅇㅈ한다. (어짜피 자기자신으로는 무조건 나누어 떨어지니까)\n",
    "if len(a)==0:\n",
    "    print('-1')\n",
    "else:\n",
    "    print(sum(a))\n",
    "    print(min(a))"
   ]
  },
  {
   "cell_type": "code",
   "execution_count": 28,
   "metadata": {},
   "outputs": [
    {
     "name": "stdout",
     "output_type": "stream",
     "text": [
      "3 16\n",
      "3\n",
      "5\n",
      "7\n",
      "11\n",
      "13\n"
     ]
    }
   ],
   "source": [
    "#1929번 소수 구하기\n",
    "# M 이상 N 이하의 소수를 모두 출력하는 프로그램을 작성하시오\n",
    "# 한줄에 하나씩, 증가하는 순서대로 소수를 출력한다.\n",
    "M,N = list(map(int,input().split()))\n",
    "for i in range(M,N+1):\n",
    "    count = 0\n",
    "    for j in range(1,i+1):\n",
    "        if i%j == 0:\n",
    "            count+=1\n",
    "    if count == 2:\n",
    "        print(i)"
   ]
  },
  {
   "cell_type": "code",
   "execution_count": 29,
   "metadata": {},
   "outputs": [],
   "source": [
    "def prime_list(n):\n",
    "    # 에라토스테네스의 체 초기화: n개 요소에 True 설정(소수로 간주)\n",
    "    sieve = [True] * n\n",
    "\n",
    "    # n의 최대 약수가 sqrt(n) 이하이므로 i=sqrt(n)까지 검사\n",
    "    m = int(n ** 0.5)\n",
    "    for i in range(2, m + 1):\n",
    "        if sieve[i] == True:           # i가 소수인 경우\n",
    "            for j in range(i+i, n, i): # i이후 i의 배수들을 False 판정\n",
    "                sieve[j] = False\n",
    "\n",
    "    # 소수 목록 산출\n",
    "    return [i for i in range(2, n) if sieve[i] == True]"
   ]
  },
  {
   "cell_type": "code",
   "execution_count": 30,
   "metadata": {},
   "outputs": [
    {
     "data": {
      "text/plain": [
       "[2, 3, 5, 7, 11, 13, 17, 19]"
      ]
     },
     "execution_count": 30,
     "metadata": {},
     "output_type": "execute_result"
    }
   ],
   "source": [
    "prime_list(20)"
   ]
  },
  {
   "cell_type": "code",
   "execution_count": 45,
   "metadata": {},
   "outputs": [
    {
     "name": "stdout",
     "output_type": "stream",
     "text": [
      "2 4\n",
      "2\n",
      "3\n"
     ]
    }
   ],
   "source": [
    "#1929번 소수 구하기(에라토스테네스의 체) (시간초과)\n",
    "M,N = list(map(int,input().split()))\n",
    "a = list(range(M,N+1))\n",
    "for i in a:\n",
    "    if i == 1:\n",
    "        a.remove(i)\n",
    "    else:\n",
    "        for j in range(2,N):\n",
    "            if i*j in a :\n",
    "                a.remove(i*j)\n",
    "for k in range(len(a)):\n",
    "    print(a[k])\n",
    "# 왜 시간 초과인가....for문이 3개라서??"
   ]
  },
  {
   "cell_type": "code",
   "execution_count": 56,
   "metadata": {},
   "outputs": [
    {
     "name": "stdout",
     "output_type": "stream",
     "text": [
      "2 15\n",
      "2\n",
      "3\n",
      "5\n",
      "7\n",
      "11\n",
      "13\n"
     ]
    }
   ],
   "source": [
    "#1929번 소수 구하기(함수, 제곱근까지 검사..)\n",
    "def prime(num):\n",
    "    if num == 1 :\n",
    "        return False\n",
    "    else:\n",
    "        for i in range(2,int(num**0.5)+1): # ** --> 제곱을 구하는 연산자 // n**0.5 --> n의 제곱근을 구하라\n",
    "            if num%i == 0:\n",
    "                return False\n",
    "        return True\n",
    "M,N = list(map(int,input().split()))\n",
    "for i in range(M,N+1):\n",
    "    if prime(i):\n",
    "        print(i)\n",
    "# 함수를 만들고, 검사범위를 N이 아니라 N의 제곱근 까지로 줄이면 속도가 엄청 빨라진다\n",
    "# N의 제곱근 까지만 검사해도 되는게, N이 제곱수라면 당연히 소수가 아님\n",
    "# 따라서, N의 제곱근의 근처까지만 전수조사해도 얘가 소수인지 아닌지 알 수 있다."
   ]
  },
  {
   "cell_type": "code",
   "execution_count": 6,
   "metadata": {},
   "outputs": [
    {
     "name": "stdout",
     "output_type": "stream",
     "text": [
      "3\n",
      "hi\n",
      "2\n",
      "hi\n",
      "0\n"
     ]
    }
   ],
   "source": [
    "#4948번 베르트랑 공준\n",
    "# 각 테스트 케이스에 대해서 n보다 크고 2n보다 작거나 같은 소수의 개수 출력\n",
    "# 입력 마지막에는 0이 주어진다.\n",
    "def prime(num):\n",
    "    if num == 1 :\n",
    "        return False\n",
    "    else:\n",
    "        for i in range(2,int(num**0.5)+1):\n",
    "            if num%i == 0:\n",
    "                return False\n",
    "        return True\n",
    "while True :\n",
    "    a = int(input())\n",
    "    count = 0\n",
    "    if a == 0:\n",
    "        break\n",
    "    else :\n",
    "        for i in range(a+1,(2*a)+1):\n",
    "            if prime(i):\n",
    "                count+=1\n",
    "        print(count)\n",
    "        \n",
    "#초기형. 이전 문제 해법을 참고해서 만들었고, 함수화를 통해 속도를 높혔다.\n",
    "#파이썬으로 하니까 시간초과. pypy로 하니까 정답"
   ]
  },
  {
   "cell_type": "code",
   "execution_count": 14,
   "metadata": {},
   "outputs": [
    {
     "name": "stdout",
     "output_type": "stream",
     "text": [
      "1\n",
      "1\n",
      "10\n",
      "4\n",
      "13\n",
      "3\n",
      "100\n",
      "21\n",
      "1000\n",
      "135\n",
      "10000\n",
      "1033\n",
      "100000\n",
      "8392\n",
      "0\n"
     ]
    }
   ],
   "source": [
    "#4958번 파이썬 정답 버젼\n",
    "import sys\n",
    "\n",
    "\n",
    "def ers(n: int) -> int:\n",
    "    if n == 1:\n",
    "        return 1\n",
    "    prime, exc = set(), set()\n",
    "    for i in range(3, n * 2 + 1, 2):\n",
    "        if i in exc:\n",
    "            continue\n",
    "        prime.add(i)\n",
    "        for j in range(2, n * 2 // i + 1):\n",
    "            exc.add(i * j)\n",
    "    return list(map(lambda a: a > n, prime)).count(True)\n",
    "\n",
    "\n",
    "while True:\n",
    "    num = int(sys.stdin.readline())\n",
    "    if num == 0:\n",
    "        break\n",
    "    print(ers(num))\n",
    "# 희안한 문법들이 많이 나오는데, 람다 등으로 런타임을 줄인것은 알겠다\n",
    "# 그리고 어떤 케이스는 N이 123456까지인것을 이용해서 루프 한계를 준 경우도 있다.\n",
    "# 더 강해져서 돌아오겠다."
   ]
  },
  {
   "cell_type": "code",
   "execution_count": null,
   "metadata": {},
   "outputs": [],
   "source": [
    "#9020번 골드바희의 추측\n",
    "# 첫째줄에 테스트 케이스 개수 T가 주어진다.\n",
    "# 각 케이스는 한줄로 이루어져있고, 짝수 n이 주어진다\n",
    "# n의 골드바흐 파티션을 출력한다. 출력하는 소수는 작은 것부터 먼저 출력\n",
    "# 만약 가능한 n의 골드바흐 파티션이 여러 가지인 경우에는 두 소수의 차이가 가장 작은 것을 출력한다.\n",
    "for i in range(int(input())):\n",
    "    n = int(input())\n",
    "    \n",
    "\n",
    "#1. 소수 - 소수 = 소수 # 두쌍으로 만들기...\n",
    "#2. 소수 - 소수 != 소수 "
   ]
  },
  {
   "cell_type": "code",
   "execution_count": 18,
   "metadata": {},
   "outputs": [
    {
     "data": {
      "text/plain": [
       "2"
      ]
     },
     "execution_count": 18,
     "metadata": {},
     "output_type": "execute_result"
    }
   ],
   "source": [
    "8%"
   ]
  },
  {
   "cell_type": "code",
   "execution_count": null,
   "metadata": {},
   "outputs": [],
   "source": []
  }
 ],
 "metadata": {
  "kernelspec": {
   "display_name": "Python 3",
   "language": "python",
   "name": "python3"
  },
  "language_info": {
   "codemirror_mode": {
    "name": "ipython",
    "version": 3
   },
   "file_extension": ".py",
   "mimetype": "text/x-python",
   "name": "python",
   "nbconvert_exporter": "python",
   "pygments_lexer": "ipython3",
   "version": "3.8.3"
  }
 },
 "nbformat": 4,
 "nbformat_minor": 4
}
