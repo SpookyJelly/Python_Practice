{
 "cells": [
  {
   "cell_type": "code",
   "execution_count": 1,
   "metadata": {},
   "outputs": [
    {
     "name": "stdout",
     "output_type": "stream",
     "text": [
      "5\n",
      "5 * 1 = 5\n",
      "5 * 2 = 10\n",
      "5 * 3 = 15\n",
      "5 * 4 = 20\n",
      "5 * 5 = 25\n",
      "5 * 6 = 30\n",
      "5 * 7 = 35\n",
      "5 * 8 = 40\n",
      "5 * 9 = 45\n"
     ]
    }
   ],
   "source": [
    "#2739번\n",
    "#N을 입력 받은뒤 구구단 N단을 출력하는 프로그램을 작성하시오\n",
    "\n",
    "n = int(input())\n",
    "for i in range(1,10) :\n",
    "    print(\"%d * %d = %d\" %(n,i,n*i)) # 이 구문 손에 익혀라. C랑 다르게 파이썬은 %() 꼴이 된다"
   ]
  },
  {
   "cell_type": "code",
   "execution_count": 3,
   "metadata": {},
   "outputs": [
    {
     "name": "stdout",
     "output_type": "stream",
     "text": [
      "2\n",
      "1 2\n",
      "3\n",
      "3 4\n",
      "7\n"
     ]
    }
   ],
   "source": [
    "#10950번\n",
    "# 두 정수 A와 B를 입력받은 다음, A+B를 출력하는 프로그램을 작성하시오\n",
    "n = int(input())\n",
    "for i in range(0,n):#여기서 n이 int라서(정수) 이런식으로 써도 된다 range(시작숫자, 끝숫자) 이니까\n",
    "    a,b = list(map(int,input().split()))\n",
    "    print(a+b) #각 입력마다 출력이 되어야하니까 이렇게 짰는데, 입력 다 받은 다음 결과값\n",
    "    #한번에 출력하려면 다르게 짜야겠네. 변수를 하나 더 만든다음 거기에 입력값 계산을 저장한다음\n",
    "    #나중에 출력하게 한다던지"
   ]
  },
  {
   "cell_type": "code",
   "execution_count": 4,
   "metadata": {},
   "outputs": [
    {
     "name": "stdout",
     "output_type": "stream",
     "text": [
      "7\n",
      "28\n"
     ]
    }
   ],
   "source": [
    "#8393번\n",
    "# n이 주어졌을 때, 1부터 n까지 합을 구하는 프로그램을 작성하시오\n",
    "\n",
    "n = int(input()) #주어진 n\n",
    "result= 0 #여기서 0으로 선언 안해주면 최초의 result에 이상한 값이 들어간 채 루프가 돈다\n",
    "for i in range(1,n+1): # 이렇게 해야 1~n까지의 요소를 가지고 있는 range가 생성됨\n",
    "    result += i #루프 돌때마다 result에 i를 더하게 된다 \n",
    "    pass\n",
    "print(result) #그리고 그 결과값 출력"
   ]
  },
  {
   "cell_type": "code",
   "execution_count": null,
   "metadata": {},
   "outputs": [],
   "source": [
    "#15552번\n",
    "# 빠른 A+B // 각 테스트케이스마다 A+B를 한줄에 하나씩 출력한다"
   ]
  },
  {
   "cell_type": "code",
   "execution_count": null,
   "metadata": {},
   "outputs": [],
   "source": [
    "'''import sys #일단 sys.stdin.readline()을 사용하려면 sys를 불러와야한다\n",
    "n = input()\n",
    "n = int(n)\n",
    "for i in range(0,n):\n",
    "    x,y = sys.stdin.readline().rsplit()\n",
    "    x = int(x)\n",
    "    y = int(y)\n",
    "    print(x+y)\n",
    "    \n",
    "# 구글에서 이렇게 하라고 해서 했는데, 여기 해석이 안된다...\n",
    "# 따로 공부 해봐야겠다 '''\n",
    "\n",
    "print('=' * 50)"
   ]
  },
  {
   "cell_type": "code",
   "execution_count": null,
   "metadata": {},
   "outputs": [],
   "source": [
    "#15552번 연구\n",
    "'''import sys\n",
    "input = sys.stdin.readline() #일단 input이라는 객체를 readline 메소드로 대체한거는 이해가 간다\n",
    "\n",
    "num = int(input())\n",
    "for i in range(0,num):\n",
    "    a,b = map(int,input().split())\n",
    "    print(a+b)'''\n",
    "# 근데 여기 노트에서 실행하면 에러나는 이유?? stdin에서 readline할수 없어서??\n",
    "print('=' *50)"
   ]
  },
  {
   "cell_type": "code",
   "execution_count": 24,
   "metadata": {},
   "outputs": [
    {
     "name": "stdout",
     "output_type": "stream",
     "text": [
      "4\n",
      "0\n",
      "1\n",
      "2\n",
      "3\n"
     ]
    }
   ],
   "source": [
    "#2741번\n",
    "#자연수 N이 주어졌을 떄, 1부터 N까지 한줄에 하나씩 출력하는 프로그램을 작성하시오\n",
    "#첫째 줄에 100,000보다 작거나 같은 자연수 N이 주어진다\n",
    "n = int(input())\n",
    "for i in range(0,n):\n",
    "    # i +=1 #이거 없어도 되지않음??? 그러네, 어짜피 for는 리스트에 있는 요소들을 알아서 순서대로 쓰니까\n",
    "    print(i)\n",
    "# 기본은 이거인데, 여기서 입력값이 크니까, readline()을 쓸고 하는거 같다\n",
    "# 백준에서 비교해보니까 readline()보다 더 빨랐음. 100,000정도는 큰 숫자도 아닌듯"
   ]
  },
  {
   "cell_type": "code",
   "execution_count": 7,
   "metadata": {},
   "outputs": [
    {
     "ename": "ValueError",
     "evalue": "invalid literal for int() with base 10: ''",
     "output_type": "error",
     "traceback": [
      "\u001b[1;31m---------------------------------------------------------------------------\u001b[0m",
      "\u001b[1;31mValueError\u001b[0m                                Traceback (most recent call last)",
      "\u001b[1;32m<ipython-input-7-a8c1557676a2>\u001b[0m in \u001b[0;36m<module>\u001b[1;34m\u001b[0m\n\u001b[0;32m      2\u001b[0m \u001b[1;32mimport\u001b[0m \u001b[0msys\u001b[0m\u001b[1;33m\u001b[0m\u001b[1;33m\u001b[0m\u001b[0m\n\u001b[0;32m      3\u001b[0m \u001b[0minput1\u001b[0m \u001b[1;33m=\u001b[0m \u001b[0msys\u001b[0m\u001b[1;33m.\u001b[0m\u001b[0mstdin\u001b[0m\u001b[1;33m.\u001b[0m\u001b[0mreadline\u001b[0m\u001b[1;33m\u001b[0m\u001b[1;33m\u001b[0m\u001b[0m\n\u001b[1;32m----> 4\u001b[1;33m \u001b[0mn\u001b[0m \u001b[1;33m=\u001b[0m \u001b[0mint\u001b[0m\u001b[1;33m(\u001b[0m\u001b[0minput1\u001b[0m\u001b[1;33m(\u001b[0m\u001b[1;33m)\u001b[0m\u001b[1;33m)\u001b[0m\u001b[1;33m\u001b[0m\u001b[1;33m\u001b[0m\u001b[0m\n\u001b[0m\u001b[0;32m      5\u001b[0m \u001b[0mi\u001b[0m \u001b[1;33m=\u001b[0m \u001b[1;36m1\u001b[0m\u001b[1;33m\u001b[0m\u001b[1;33m\u001b[0m\u001b[0m\n\u001b[0;32m      6\u001b[0m \u001b[1;32mfor\u001b[0m \u001b[0mi\u001b[0m \u001b[1;32min\u001b[0m \u001b[0mrange\u001b[0m\u001b[1;33m(\u001b[0m\u001b[1;36m0\u001b[0m\u001b[1;33m,\u001b[0m\u001b[0mn\u001b[0m\u001b[1;33m)\u001b[0m\u001b[1;33m:\u001b[0m\u001b[1;33m\u001b[0m\u001b[1;33m\u001b[0m\u001b[0m\n",
      "\u001b[1;31mValueError\u001b[0m: invalid literal for int() with base 10: ''"
     ]
    }
   ],
   "source": [
    "#2741번 readline 쓴 버전\n",
    "'''import sys\n",
    "input1 = sys.stdin.readline\n",
    "n = int(input1())\n",
    "i = 1\n",
    "for i in range(0,n):\n",
    "    i +=1\n",
    "    print(i)'''\n",
    "\n",
    "# 아니 근데 백준에서는 맞는데 왜 노트북에서는 이렇게 에러가 나고\n",
    "#나머지 input쓰는 애들까지 보내버리냐...input1로 지정하면 input은 안날리겠지?"
   ]
  },
  {
   "cell_type": "code",
   "execution_count": 3,
   "metadata": {},
   "outputs": [
    {
     "name": "stdout",
     "output_type": "stream",
     "text": [
      "==================================================\n",
      "2020/11/18\n",
      "==================================================\n"
     ]
    }
   ],
   "source": [
    "line = '='*50\n",
    "print(line)\n",
    "print(\"2020/11/18\")\n",
    "print(line)"
   ]
  },
  {
   "cell_type": "code",
   "execution_count": 23,
   "metadata": {},
   "outputs": [
    {
     "name": "stdout",
     "output_type": "stream",
     "text": [
      "5\n",
      "5\n",
      "4\n",
      "3\n",
      "2\n",
      "1\n"
     ]
    }
   ],
   "source": [
    "#2742번\n",
    "#기찍 N\n",
    "# 자연수 N이 주어졌을때, 첫째 줄부터 N번째 줄 까지 차례로 출력하는 문제\n",
    "# 2741번 역순으로 출력\n",
    "\n",
    "n = int(input())\n",
    "n=list(range(1,n+1)) #reverse 함수 쓰기 위해서 list()를 이용해 리스트화 시킴,\n",
    "#range의 첫 숫자는 1, 끝숫자는 n+1이다 근데 끝 숫자는 포함되지 않으므로 실제 for에서 사용되는것은 1~n이다\n",
    "n.reverse() \n",
    "for i in n :\n",
    "    print(i) # i -=1 안써도 되는게ㅡ for문은 알아서 range(리스트)에 있는 요소들을 순차적으로 사용하니까 그냥 print만 해도 됨"
   ]
  },
  {
   "cell_type": "code",
   "execution_count": 25,
   "metadata": {},
   "outputs": [
    {
     "name": "stdout",
     "output_type": "stream",
     "text": [
      "==================================================\n"
     ]
    }
   ],
   "source": [
    "'''Range 내장 함수\n",
    "range(start,stop,step)으로 사용된다.\n",
    "인수가 하나일 경우 : list(range(5)) --> 시작 숫자가 없는 것으로 보아 0부터 시작된다\n",
    "                    [0,1,2,3,4]\n",
    "인수가 2개인 경우 : list(range(5,10))  --> 시작과 끝 숫자를 나타낸 경우다\n",
    "                    [5,6,7,8,9]\n",
    "인수가 3개인 경우 : list(range(1,10,2)) --> 세번째 숫자는 숫자 사이의 거리다\n",
    "                    [1,3,5,7,9]'''\n",
    "\n",
    "print(line)"
   ]
  },
  {
   "cell_type": "code",
   "execution_count": 26,
   "metadata": {},
   "outputs": [
    {
     "name": "stdout",
     "output_type": "stream",
     "text": [
      "4\n",
      "4\n",
      "3\n",
      "2\n",
      "1\n"
     ]
    }
   ],
   "source": [
    "#위 Range 배경 지식을 바탕으로 2742번을 간략해 해보자\n",
    "\n",
    "n = int(input())\n",
    "for i in range(n,0,-1):\n",
    "    print(i)"
   ]
  },
  {
   "cell_type": "code",
   "execution_count": 31,
   "metadata": {},
   "outputs": [
    {
     "name": "stdout",
     "output_type": "stream",
     "text": [
      "5\n",
      "1 1\n",
      "Case #1 : 2\n",
      "2 3\n",
      "Case #2 : 5\n",
      "3 4\n",
      "Case #3 : 7\n",
      "9 8\n",
      "Case #4 : 17\n",
      "5 2\n",
      "Case #5 : 7\n"
     ]
    }
   ],
   "source": [
    "#11021번 A+B -7\n",
    "# 두 정수 A와 B를 입력한 다음 A+B를 출력하는 프로그램 제작\n",
    "# 첫째 줄에 테스트 케이스 개수 T가 주어지고,\n",
    "# 각 테스트 케이스는 한줄로 이루어져 있으며, A와 B가 주어진다\n",
    "# 각 테스트케이스마다 \"Case #x:\"를 출력하고 A+B를 출력한다. 케이스 번호는 1부터 시작\n",
    "n = int(input())\n",
    "for i in range(1,n+1) :\n",
    "    a,b = list(map(int,input().split()))\n",
    "    print(\"Case #%d: %d\" %(i,a+b))"
   ]
  },
  {
   "cell_type": "code",
   "execution_count": 33,
   "metadata": {},
   "outputs": [
    {
     "name": "stdout",
     "output_type": "stream",
     "text": [
      "5\n",
      "1 1\n",
      "Case #1: 1 + 1 = 2\n",
      "2 3\n",
      "Case #2: 2 + 3 = 5\n",
      "3 4\n",
      "Case #3: 3 + 4 = 7\n",
      "9 8\n",
      "Case #4: 9 + 8 = 17\n",
      "5 2\n",
      "Case #5: 5 + 2 = 7\n"
     ]
    }
   ],
   "source": [
    "#110212 A+B -8\n",
    "# 두 정수 A와 B를 입력한 다음 A+B를 출력하는 프로그램 제작\n",
    "# 첫째 줄에 테스트 케이스 개수 T가 주어지고,\n",
    "# 각 테스트 케이스는 한줄로 이루어져 있으며, A와 B가 주어진다\n",
    "# 각 테스트케이스마다 \"Case #x: A + B = C\" 꼴로 출력한다. 케이스 번호는 1부터 시작\n",
    "n = int(input())\n",
    "for i in range(1,n+1) :\n",
    "    a,b = list(map(int,input().split()))\n",
    "    print(\"Case #%d: %d + %d = %d\" %(i,a,b,a+b))"
   ]
  },
  {
   "cell_type": "code",
   "execution_count": 68,
   "metadata": {},
   "outputs": [
    {
     "name": "stdout",
     "output_type": "stream",
     "text": [
      "5\n",
      "*\n",
      "**\n",
      "***\n",
      "****\n",
      "*****\n"
     ]
    }
   ],
   "source": [
    "#2438번 별찍기\n",
    "#첫째 줄에는 별 1개, 둘째 줄에는 별 2개 ... N번째줄에는 별 N개를 찍는 문제\n",
    "\n",
    "n = int(input()) #n=5라고 가정하자\n",
    "k = list(range(1,n+1))#1부터5를 가진 range list 만들어짐. 다시 말하지만 range(1,6)에서 마지막 숫자는 포함 안된다.\n",
    "# 요솟값 보려고 list 적긴 했는데, 사실 이것도 필요없다\n",
    "for i in k: #k 리스트에 있는 요소마다 이하를 실행...리스트 크기가 5이므로 총 5번 실행 되겠다\n",
    "    print(\"*\"*k[i-1]) #k[0] = 1 부터 곱해 k[4] = 5를 곱하려고 i-1로 설정. i로 하면 시작부터 k[1]=2 가 나온다\n",
    "    #문자열도 곱하기가 된다는걸 잊지마라"
   ]
  },
  {
   "cell_type": "code",
   "execution_count": 110,
   "metadata": {},
   "outputs": [
    {
     "name": "stdout",
     "output_type": "stream",
     "text": [
      "5\n",
      "      *\n",
      "     **\n",
      "    ***\n",
      "   ****\n",
      "  *****\n"
     ]
    }
   ],
   "source": [
    "#2439번 별찍기 2\n",
    "#첫째 줄에는 별 1개, 둘째 줄에는 별 2개 ... N번째줄에는 별 N개를 찍는 문제\n",
    "# 근데 오른쪽을 기준으로 정렬한 별을 만드세요\n",
    "n = int(input())\n",
    "# j = n과 상반되는 뭔가로..그냥 k의 역순으로 만들었다\n",
    "k = list(range(1,n+1))\n",
    "j = list(range(n+1,1,-1))\n",
    "for i in k : #리스트 k가 1부터 들어있으니까, i는 1이 된다\n",
    "    print(\" \"*j[i-1] + \"*\"*k[i-1]) #근데 그 i가 j[i-1],k[i-1]에 들어가서 j[0],k[0]으로 시작된다\n",
    "    # 문자열이 사칙연산되는거 기억해라"
   ]
  },
  {
   "cell_type": "code",
   "execution_count": null,
   "metadata": {},
   "outputs": [],
   "source": [
    "#2439번 별찍기 2 출력형식이 잘못되었다고 하여 재작성\n",
    "# 위에 코드의 마지막 줄을 보면 공백없이 *로 꽉차있어야하는데,\n",
    "# 그런거 없이 공백 따로, *따로 작성되어있음"
   ]
  },
  {
   "cell_type": "code",
   "execution_count": 23,
   "metadata": {},
   "outputs": [
    {
     "name": "stdout",
     "output_type": "stream",
     "text": [
      "5\n"
     ]
    }
   ],
   "source": [
    "# 골자는 \" \" + \"*\"인데, 그 갯수를 정확히 맞추어야하는게 중요\n",
    "n = int(input())\n",
    "k = list(range(1,n+1)) # 그래서 별에 곱해줄 리스트\n",
    "j = list(range(n-1,-1,-1)) #공백에 곱해줄 리스트를 따로 만들었다."
   ]
  },
  {
   "cell_type": "code",
   "execution_count": 24,
   "metadata": {},
   "outputs": [
    {
     "data": {
      "text/plain": [
       "[1, 2, 3, 4, 5]"
      ]
     },
     "execution_count": 24,
     "metadata": {},
     "output_type": "execute_result"
    }
   ],
   "source": [
    "k #별 리스트의 요소값는 다음행으로 갈 수록 1씩 커지고"
   ]
  },
  {
   "cell_type": "code",
   "execution_count": 25,
   "metadata": {},
   "outputs": [
    {
     "data": {
      "text/plain": [
       "[4, 3, 2, 1, 0]"
      ]
     },
     "execution_count": 25,
     "metadata": {},
     "output_type": "execute_result"
    }
   ],
   "source": [
    "j # \" \" 리스트의 요소값은 다음행으로 갈 수록 -1 이 되는데, 포인트는 k[i] + j[i] = n 이 되어야한다는 것.\n",
    "# 그래야 공백이 안생김.\n",
    "# 그래서 시작값을 n-1로 하였고, 종료값도 0으로 맞추었다"
   ]
  },
  {
   "cell_type": "code",
   "execution_count": 26,
   "metadata": {},
   "outputs": [
    {
     "name": "stdout",
     "output_type": "stream",
     "text": [
      "    *\n",
      "   **\n",
      "  ***\n",
      " ****\n",
      "*****\n"
     ]
    }
   ],
   "source": [
    "for i in range(0,n): # print에 이용되는 리스트가 서로 다르므로 for 에 사용될 새로운 range도 만듬\n",
    "    print(\" \"*j[i] + \"*\"*k[i]) #그 결과 조건에 아주 적합하다"
   ]
  },
  {
   "cell_type": "code",
   "execution_count": 30,
   "metadata": {},
   "outputs": [
    {
     "name": "stdout",
     "output_type": "stream",
     "text": [
      "3\n",
      "  *\n",
      " **\n",
      "***\n"
     ]
    }
   ],
   "source": [
    "#2439번 최종\n",
    "n = int(input())\n",
    "k = range(1,n+1)\n",
    "j = range(n-1,-1,-1)\n",
    "for i in range(0,n): #range를 자꾸 헷갈려하는데 이러면 [0,1,2,3,4] 리스트객체를 만드는 것이다\n",
    "    print(\" \"*j[i] + \"*\"*k[i])\n",
    "    "
   ]
  },
  {
   "cell_type": "code",
   "execution_count": 51,
   "metadata": {},
   "outputs": [
    {
     "name": "stdout",
     "output_type": "stream",
     "text": [
      "10 5\n",
      "1 10 4 9 2 3 8 5 7 6\n",
      "1 4 2 3 "
     ]
    }
   ],
   "source": [
    "#10871번 X보다 작은 수\n",
    "# 정수 N개로 이루어진 수열 A와 정수 X가 주어진다. 이때, A에서 X보다 작은 수를\n",
    "# 모두 출력하는 프로그램을 작성하시오.\n",
    "# 첫째 줄에 N과 X가 주어진다\n",
    "# 둘째 줄에 수열 A를 이루는 정수 N개가 주어진다.\n",
    "# X보다 작은 수를 입력받은 순서대로 공백으로 구분해 출력한다.\n",
    "'''공백 구분은 end=\"\" 이거 쓰면 될거 같은데'''\n",
    "N,X= list(map(int,input().split())) # 항상 하던데로, N,X를 한줄에 입력 받는 코드\n",
    "A = list(map(int,input().split())) # 상동. A가 둘째 줄에 주어진다길래 두번째 줄로 배치\n",
    "for i in range(0,N): #N이 int니까 N번 아래 for문을 반복한다\n",
    "    if(A[i]<X): # A[0] < X ~~~~A[N-1] < X \n",
    "        print(A[i], end=' ') # 흔히들 A의 마지막 요소가 A[N]이라고 생각하는데,\n",
    "        #파이썬은 0부터 시작이니까 A의 마지막 요소는 A[N-1]이다"
   ]
  },
  {
   "cell_type": "code",
   "execution_count": 47,
   "metadata": {},
   "outputs": [
    {
     "data": {
      "text/plain": [
       "[1, 2, 3]"
      ]
     },
     "execution_count": 47,
     "metadata": {},
     "output_type": "execute_result"
    }
   ],
   "source": [
    "A"
   ]
  },
  {
   "cell_type": "code",
   "execution_count": 49,
   "metadata": {},
   "outputs": [
    {
     "data": {
      "text/plain": [
       "int"
      ]
     },
     "execution_count": 49,
     "metadata": {},
     "output_type": "execute_result"
    }
   ],
   "source": [
    "type(X)"
   ]
  },
  {
   "cell_type": "code",
   "execution_count": null,
   "metadata": {},
   "outputs": [],
   "source": []
  }
 ],
 "metadata": {
  "kernelspec": {
   "display_name": "Python 3",
   "language": "python",
   "name": "python3"
  },
  "language_info": {
   "codemirror_mode": {
    "name": "ipython",
    "version": 3
   },
   "file_extension": ".py",
   "mimetype": "text/x-python",
   "name": "python",
   "nbconvert_exporter": "python",
   "pygments_lexer": "ipython3",
   "version": "3.8.3"
  }
 },
 "nbformat": 4,
 "nbformat_minor": 4
}
