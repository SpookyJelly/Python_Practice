{
 "cells": [
  {
   "cell_type": "code",
   "execution_count": 1,
   "metadata": {},
   "outputs": [],
   "source": [
    "#리스트 자료형\n",
    "\n",
    "a = [ 1, 2, ['Life', 'is','strange']] # 자료형 관계 없이 지정 가능. 단 string은 다음과 같이 묶어야한다\n",
    "b = [] # 공백도 포함가능하다"
   ]
  },
  {
   "cell_type": "code",
   "execution_count": 3,
   "metadata": {},
   "outputs": [
    {
     "data": {
      "text/plain": [
       "3"
      ]
     },
     "execution_count": 3,
     "metadata": {},
     "output_type": "execute_result"
    }
   ],
   "source": [
    "# 인덱싱 가능, 슬라이싱 가능\n",
    "\n",
    "a[0] + a[1]"
   ]
  },
  {
   "cell_type": "code",
   "execution_count": 4,
   "metadata": {},
   "outputs": [
    {
     "data": {
      "text/plain": [
       "'Life'"
      ]
     },
     "execution_count": 4,
     "metadata": {},
     "output_type": "execute_result"
    }
   ],
   "source": [
    "#리스트에 포함된 리스트 값도 꺼낼 수 있다\n",
    "a[-1][0] #리스트 a의 뒤에서 첫번째 객체의 0번째 값을 꺼내라."
   ]
  },
  {
   "cell_type": "code",
   "execution_count": 8,
   "metadata": {},
   "outputs": [
    {
     "data": {
      "text/plain": [
       "[1, 2]"
      ]
     },
     "execution_count": 8,
     "metadata": {},
     "output_type": "execute_result"
    }
   ],
   "source": [
    "a[0:2]"
   ]
  },
  {
   "cell_type": "code",
   "execution_count": 6,
   "metadata": {},
   "outputs": [
    {
     "data": {
      "text/plain": [
       "[1]"
      ]
     },
     "execution_count": 6,
     "metadata": {},
     "output_type": "execute_result"
    }
   ],
   "source": [
    "a[0:3] # 이렇게 슬라이싱 할 때 마지막 factor(??)는 포함하지 않는다..."
   ]
  },
  {
   "cell_type": "code",
   "execution_count": 10,
   "metadata": {},
   "outputs": [
    {
     "data": {
      "text/plain": [
       "[1, 2, 3, 4, 5, 6]"
      ]
     },
     "execution_count": 10,
     "metadata": {},
     "output_type": "execute_result"
    }
   ],
   "source": [
    "#리스트의 더하기, 반복하기, 길이 구하기\n",
    "\n",
    "a = [1,2,3]\n",
    "b = [4,5,6]\n",
    "a+b"
   ]
  },
  {
   "cell_type": "code",
   "execution_count": 13,
   "metadata": {},
   "outputs": [
    {
     "data": {
      "text/plain": [
       "[1, 2, 3, 1, 2, 3, 1, 2, 3, 4, 5, 6, 4, 5, 6]"
      ]
     },
     "execution_count": 13,
     "metadata": {},
     "output_type": "execute_result"
    }
   ],
   "source": [
    "c = a*3 + b*2\n",
    "c"
   ]
  },
  {
   "cell_type": "code",
   "execution_count": 14,
   "metadata": {},
   "outputs": [
    {
     "data": {
      "text/plain": [
       "15"
      ]
     },
     "execution_count": 14,
     "metadata": {},
     "output_type": "execute_result"
    }
   ],
   "source": [
    "len(c) #len은 리스트를 구하는 함수이다. 문자열, 리스트 외에도 튜플과 딕셔너리에서도 사용"
   ]
  },
  {
   "cell_type": "code",
   "execution_count": 38,
   "metadata": {},
   "outputs": [
    {
     "data": {
      "text/plain": [
       "[1, 2, 4]"
      ]
     },
     "execution_count": 38,
     "metadata": {},
     "output_type": "execute_result"
    }
   ],
   "source": [
    "#리스트는 문자열과 다르게 내부 요솟값을 바꿀 수 있다\n",
    "\n",
    "a = [1,2,3]\n",
    "a[2] = 4\n",
    "a"
   ]
  },
  {
   "cell_type": "code",
   "execution_count": 39,
   "metadata": {},
   "outputs": [
    {
     "data": {
      "text/plain": [
       "[2, 4]"
      ]
     },
     "execution_count": 39,
     "metadata": {},
     "output_type": "execute_result"
    }
   ],
   "source": [
    "#del 함수의 이용\n",
    "# del a[x]는 x번째 요솟값을 삭제한다\n",
    "del a[0] #del 하고 띄어쓰기 하는 거 주의!\n",
    "a"
   ]
  },
  {
   "cell_type": "code",
   "execution_count": 48,
   "metadata": {},
   "outputs": [
    {
     "data": {
      "text/plain": [
       "[2, 3, 4, 5]"
      ]
     },
     "execution_count": 48,
     "metadata": {},
     "output_type": "execute_result"
    }
   ],
   "source": [
    "'''리스트 관련 함수들\n",
    ".append(x) : 리스트의 맨 마지막에 x를 추가\n",
    ".sort() : 리스트 요소들 순차정렬\n",
    ".reverse() : 리스트를 역순으로 뒤집어 준다\n",
    ".index(x) : x의 위치값을 return 한다\n",
    ".insert(a,b) : 리스트의 a번째 위치에 b를 삽입한다\n",
    ".remove(x) : 리스트에서 첫 번째로 나오는 x를 삭제한다\n",
    ".pop(x) : 리스트의 x번째 요소를 return 하고 그것을 삭제한다 빈칸이면 리스트의 끝에다 대고 실행\n",
    ".count(x) : 리스트 안에 x가 몇개 있는지 조사하여 그 개수를 돌려준다\n",
    ".extend(x) : x는 리스트 만 올 수 있으며 원래 리스트에 x 리스트를 더한다'''\n",
    "\n",
    "a = [2,3]\n",
    "b = [4,5]\n",
    "a.extend(b) # a + b랑 같네\n",
    "a"
   ]
  },
  {
   "cell_type": "code",
   "execution_count": 50,
   "metadata": {},
   "outputs": [],
   "source": [
    "#튜플 자료형\n",
    "'''튜플(tuple)은 몇 가지 점을 제외하곤 리스트와 거의 비슷하며 리스트와 다른 점은 다음과 같다.\n",
    "\n",
    "리스트는 [ ]으로 둘러싸지만 튜플은 ( )으로 둘러싼다.\n",
    "리스트는 그 값의 생성, 삭제, 수정이 가능하지만 튜플은 그 값을 바꿀 수 없다.'''\n",
    "\n",
    "t1 = ()\n",
    "t2 = (1,) # 요소가 1개일 때는 마지막에 , 무조건 붙어야한다\n",
    "t3 = (1, 2, 3)\n",
    "t4 = 1, 2, 3 # 괄호생략 가능\n",
    "t5 = ('a', 'b', ('ab', 'cd')) \n",
    "t6 = (['ab']) # 튜플에 리스트 넣기 가능\n",
    "\n",
    "# 인덱싱, 슬라이딩, 사칙연산, 길이 구하기 가능하다\n"
   ]
  },
  {
   "cell_type": "code",
   "execution_count": 62,
   "metadata": {},
   "outputs": [
    {
     "data": {
      "text/plain": [
       "[1, 3, 2, 4, 5]"
      ]
     },
     "execution_count": 62,
     "metadata": {},
     "output_type": "execute_result"
    }
   ],
   "source": [
    "ex1 =[1,2,3,4,5]\n",
    "import random as rd #내장된 클래스 random을 쓰기 위해서 import로 불러옴 as rd라고 함으로서 random 클래스를 rd라고 부르겠다는 뜻\n",
    "rd.shuffle(ex1) # random class 인 rd의 attribute 인 shuffle을 리스트 ex1 에 사용\n",
    "ex1 # 그 결과 리스트 요소가 랜덤한 순서로 shuffle 됨"
   ]
  },
  {
   "cell_type": "code",
   "execution_count": 63,
   "metadata": {},
   "outputs": [],
   "source": [
    "# 딕셔너리 자료형\n",
    "'''Key와 Value로 구성되어 있는 자료형.순차적 검색이 아니라는 것이 가장 큰 특징\n",
    "중괄호로 만들고, Key : Value 형태로 구성한다. Key에는 변하지 않는 값을 사용.\n",
    "Value에는 변하는 값과 변하지 않는 값을 모두 사용 할 수 있다\n",
    "Key는 변하지 않는 값을 사용해야하므로, 리스트 자료형은 사용할 수 없다.\n",
    "(튜플은 가능)'''\n",
    "\n",
    "dic = {\"name\" : 'Lee', 'Phone' : '01080189987', 'birth' : \"1123\"}\n"
   ]
  },
  {
   "cell_type": "code",
   "execution_count": 71,
   "metadata": {},
   "outputs": [],
   "source": [
    "dic[\"Blood_type\"] = 'AB' #딕셔너리에 쌍 추가하는 방법. 대괄호랑 = 를 활용한다\n",
    "# .update({x : y}) 사용해도 된다"
   ]
  },
  {
   "cell_type": "code",
   "execution_count": 74,
   "metadata": {},
   "outputs": [
    {
     "ename": "KeyError",
     "evalue": "'name'",
     "output_type": "error",
     "traceback": [
      "\u001b[1;31m---------------------------------------------------------------------------\u001b[0m",
      "\u001b[1;31mKeyError\u001b[0m                                  Traceback (most recent call last)",
      "\u001b[1;32m<ipython-input-74-65ec3db4ee06>\u001b[0m in \u001b[0;36m<module>\u001b[1;34m\u001b[0m\n\u001b[1;32m----> 1\u001b[1;33m \u001b[1;32mdel\u001b[0m \u001b[0mdic\u001b[0m\u001b[1;33m[\u001b[0m\u001b[1;34m\"name\"\u001b[0m\u001b[1;33m]\u001b[0m\u001b[1;33m\u001b[0m\u001b[1;33m\u001b[0m\u001b[0m\n\u001b[0m\u001b[0;32m      2\u001b[0m \u001b[0mdic\u001b[0m\u001b[1;33m\u001b[0m\u001b[1;33m\u001b[0m\u001b[0m\n",
      "\u001b[1;31mKeyError\u001b[0m: 'name'"
     ]
    }
   ],
   "source": [
    "del dic[\"name\"] # del 함수로 쌍 삭제도 가능 (아래 오류는 실수로 이번 행 두번 실행해서 나온것)"
   ]
  },
  {
   "cell_type": "code",
   "execution_count": 75,
   "metadata": {},
   "outputs": [
    {
     "data": {
      "text/plain": [
       "{'Phone': '01080189987', 'birth': '1123', 'Blood_type': 'AB'}"
      ]
     },
     "execution_count": 75,
     "metadata": {},
     "output_type": "execute_result"
    }
   ],
   "source": [
    "dic"
   ]
  },
  {
   "cell_type": "code",
   "execution_count": 78,
   "metadata": {},
   "outputs": [
    {
     "data": {
      "text/plain": [
       "'AB'"
      ]
     },
     "execution_count": 78,
     "metadata": {},
     "output_type": "execute_result"
    }
   ],
   "source": [
    "dic['Blood_type'] #Key를 이용해 딕셔너리의 Value를 찾음"
   ]
  },
  {
   "cell_type": "code",
   "execution_count": 79,
   "metadata": {},
   "outputs": [
    {
     "ename": "KeyError",
     "evalue": "'AB'",
     "output_type": "error",
     "traceback": [
      "\u001b[1;31m---------------------------------------------------------------------------\u001b[0m",
      "\u001b[1;31mKeyError\u001b[0m                                  Traceback (most recent call last)",
      "\u001b[1;32m<ipython-input-79-d6e16e3edba3>\u001b[0m in \u001b[0;36m<module>\u001b[1;34m\u001b[0m\n\u001b[1;32m----> 1\u001b[1;33m \u001b[0mdic\u001b[0m\u001b[1;33m[\u001b[0m\u001b[1;34m'AB'\u001b[0m\u001b[1;33m]\u001b[0m\u001b[1;33m\u001b[0m\u001b[1;33m\u001b[0m\u001b[0m\n\u001b[0m",
      "\u001b[1;31mKeyError\u001b[0m: 'AB'"
     ]
    }
   ],
   "source": [
    "dic['AB'] # 반대로 Value로 Key를 찾을수 는 없는듯 ??"
   ]
  },
  {
   "cell_type": "code",
   "execution_count": 80,
   "metadata": {},
   "outputs": [
    {
     "data": {
      "text/plain": [
       "dict_keys(['Phone', 'birth', 'Blood_type'])"
      ]
     },
     "execution_count": 80,
     "metadata": {},
     "output_type": "execute_result"
    }
   ],
   "source": [
    "dic.keys() # 딕셔너리의 키들을 return 받는 명령\n",
    "#예전에는 list화 자동으로해서 돌려줬는데 메모리 낭비가 심해서 dict_ 객체를 돌려준다고 함"
   ]
  },
  {
   "cell_type": "code",
   "execution_count": 81,
   "metadata": {},
   "outputs": [
    {
     "data": {
      "text/plain": [
       "['Phone', 'birth', 'Blood_type']"
      ]
     },
     "execution_count": 81,
     "metadata": {},
     "output_type": "execute_result"
    }
   ],
   "source": [
    "list(dic.keys()) # 그 키들을 list화 시키는 방법"
   ]
  },
  {
   "cell_type": "code",
   "execution_count": 82,
   "metadata": {},
   "outputs": [
    {
     "data": {
      "text/plain": [
       "dict_values(['01080189987', '1123', 'AB'])"
      ]
     },
     "execution_count": 82,
     "metadata": {},
     "output_type": "execute_result"
    }
   ],
   "source": [
    "dic.values() # 반대로 딕셔너리의 value를 return"
   ]
  },
  {
   "cell_type": "code",
   "execution_count": 83,
   "metadata": {},
   "outputs": [
    {
     "data": {
      "text/plain": [
       "['01080189987', '1123', 'AB']"
      ]
     },
     "execution_count": 83,
     "metadata": {},
     "output_type": "execute_result"
    }
   ],
   "source": [
    "list(dic.values()) # return 받은 value를 list화"
   ]
  },
  {
   "cell_type": "code",
   "execution_count": 85,
   "metadata": {},
   "outputs": [
    {
     "data": {
      "text/plain": [
       "[('Phone', '01080189987'), ('birth', '1123'), ('Blood_type', 'AB')]"
      ]
     },
     "execution_count": 85,
     "metadata": {},
     "output_type": "execute_result"
    }
   ],
   "source": [
    "list(dic.items()) # key와 value를 쌍으로 하여 객체화 (이후 리스트)"
   ]
  },
  {
   "cell_type": "code",
   "execution_count": 86,
   "metadata": {},
   "outputs": [],
   "source": [
    "# .clear <-- 전부 지우기"
   ]
  },
  {
   "cell_type": "code",
   "execution_count": 87,
   "metadata": {},
   "outputs": [
    {
     "data": {
      "text/plain": [
       "'01080189987'"
      ]
     },
     "execution_count": 87,
     "metadata": {},
     "output_type": "execute_result"
    }
   ],
   "source": [
    "dic.get('Phone') # get(x) 함수는 x라는 Key에 대응되는 Value를 돌려준다\n",
    "'''a.get('name')은 a['name']을 사용했을 때와 동일한 결괏값을 돌려받는다.\n",
    "다만  a['nokey']처럼 존재하지 않는 키(nokey)로 값을 가져오려고 할 경우\n",
    "a['nokey']는 Key 오류를 발생시키고 a.get('nokey')는 None을 돌려준다는 차이가 있다.\n",
    "'''"
   ]
  },
  {
   "cell_type": "code",
   "execution_count": 88,
   "metadata": {},
   "outputs": [
    {
     "data": {
      "text/plain": [
       "'absent'"
      ]
     },
     "execution_count": 88,
     "metadata": {},
     "output_type": "execute_result"
    }
   ],
   "source": [
    "#.get(x,y) x는 딕셔너리에 포함되어 있는 Key를 뜻하고 y는 디폴트 값이다.\n",
    "#만약에 딕셔너리에 x라는 키가 없으면 디폴트 값을 가져온다.\n",
    "dic.get('Jellyfish','absent')"
   ]
  },
  {
   "cell_type": "code",
   "execution_count": 89,
   "metadata": {},
   "outputs": [
    {
     "data": {
      "text/plain": [
       "False"
      ]
     },
     "execution_count": 89,
     "metadata": {},
     "output_type": "execute_result"
    }
   ],
   "source": [
    "# 해당 키가 딕셔너리 안에 있는지 조사하는 \"in\"\n",
    "\n",
    "'name' in dic"
   ]
  },
  {
   "cell_type": "code",
   "execution_count": 90,
   "metadata": {},
   "outputs": [
    {
     "data": {
      "text/plain": [
       "True"
      ]
     },
     "execution_count": 90,
     "metadata": {},
     "output_type": "execute_result"
    }
   ],
   "source": [
    "'Phone' in dic"
   ]
  },
  {
   "cell_type": "code",
   "execution_count": 92,
   "metadata": {},
   "outputs": [],
   "source": [
    "dic.update({\"mind\" : \"empty\"}) # dic[\"Blood_type\"] = 'AB' 와 마찬가지로 새로운 쌍 추가법"
   ]
  },
  {
   "cell_type": "code",
   "execution_count": null,
   "metadata": {},
   "outputs": [],
   "source": []
  }
 ],
 "metadata": {
  "kernelspec": {
   "display_name": "Python 3",
   "language": "python",
   "name": "python3"
  },
  "language_info": {
   "codemirror_mode": {
    "name": "ipython",
    "version": 3
   },
   "file_extension": ".py",
   "mimetype": "text/x-python",
   "name": "python",
   "nbconvert_exporter": "python",
   "pygments_lexer": "ipython3",
   "version": "3.8.3"
  }
 },
 "nbformat": 4,
 "nbformat_minor": 4
}
