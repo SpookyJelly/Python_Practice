{
 "cells": [
  {
   "cell_type": "code",
   "execution_count": 1,
   "metadata": {},
   "outputs": [],
   "source": [
    "line = '='* 50\n",
    "def title_output(a) :\n",
    "    print (line)\n",
    "    print ('{0:50}'.format(a))\n",
    "    print (line)"
   ]
  },
  {
   "cell_type": "code",
   "execution_count": 2,
   "metadata": {},
   "outputs": [
    {
     "name": "stdout",
     "output_type": "stream",
     "text": [
      "==================================================\n",
      "input의 사용                                         \n",
      "==================================================\n"
     ]
    }
   ],
   "source": [
    "title_output(\"input의 사용\")"
   ]
  },
  {
   "cell_type": "code",
   "execution_count": 3,
   "metadata": {},
   "outputs": [
    {
     "name": "stdout",
     "output_type": "stream",
     "text": [
      "Life is short,\n"
     ]
    }
   ],
   "source": [
    "a = input() #input은 입력되는 모든 것을 문자열로 취급한다"
   ]
  },
  {
   "cell_type": "code",
   "execution_count": 6,
   "metadata": {},
   "outputs": [
    {
     "name": "stdout",
     "output_type": "stream",
     "text": [
      "31231234\n"
     ]
    }
   ],
   "source": [
    "a = input()"
   ]
  },
  {
   "cell_type": "code",
   "execution_count": 9,
   "metadata": {},
   "outputs": [
    {
     "data": {
      "text/plain": [
       "str"
      ]
     },
     "execution_count": 9,
     "metadata": {},
     "output_type": "execute_result"
    }
   ],
   "source": [
    "type(a) #객체의 형태를 돌려주는 함수"
   ]
  },
  {
   "cell_type": "code",
   "execution_count": 10,
   "metadata": {},
   "outputs": [
    {
     "data": {
      "text/plain": [
       "str"
      ]
     },
     "execution_count": 10,
     "metadata": {},
     "output_type": "execute_result"
    }
   ],
   "source": [
    "a.__class__ #인스턴스의 클래스로, 클래스에 있는 메서드를 나타낸다. 클래스에서\n",
    "#점을 찍으면 해당 클래스에 있는 attribute를 참조한다는 의미?? 뭐지??\n",
    "#여기는 좀더 공부가 필요할거 같으니까 일단 넘어가고"
   ]
  },
  {
   "cell_type": "code",
   "execution_count": 12,
   "metadata": {},
   "outputs": [
    {
     "name": "stdout",
     "output_type": "stream",
     "text": [
      "숫자를 입력하세요 : 3\n"
     ]
    }
   ],
   "source": [
    "'''프롬프트를 띄워서 사용자 입력 받기'''\n",
    "\n",
    "number = input(\"숫자를 입력하세요 : \") #\"숫자를 입력하세요 : 까지는 문자가 출력되고\n",
    "# 그 뒷 칸 공백에 값을 입력할 수 있게 하는 창이 뜬다."
   ]
  },
  {
   "cell_type": "code",
   "execution_count": 15,
   "metadata": {},
   "outputs": [
    {
     "name": "stdout",
     "output_type": "stream",
     "text": [
      "3\n"
     ]
    }
   ],
   "source": [
    "print(number) #number 변수에 이라는 값이 제대로 대입되었다."
   ]
  },
  {
   "cell_type": "code",
   "execution_count": 18,
   "metadata": {},
   "outputs": [
    {
     "name": "stdout",
     "output_type": "stream",
     "text": [
      "==================================================\n",
      "print문 자세히 알기                                     \n",
      "==================================================\n"
     ]
    }
   ],
   "source": [
    "title_output(\"print문 자세히 알기\")"
   ]
  },
  {
   "cell_type": "markdown",
   "metadata": {},
   "source": [
    "# 기본적으로 Print문이 하는 역할은 입력한 자료형 출력하는 것이다\n",
    "> 규칙 1. 큰따옴표(\")로 둘러싸인 문자열은 + 연산과 동일하다.\n",
    ">> 규칙 2. 문자열 띄어쓰기는 콤마로 한다"
   ]
  },
  {
   "cell_type": "code",
   "execution_count": 23,
   "metadata": {},
   "outputs": [
    {
     "name": "stdout",
     "output_type": "stream",
     "text": [
      "0 1 2 3 4 5 6 7 8 9 "
     ]
    }
   ],
   "source": [
    "#한 줄에 결괏값 출력하기\n",
    "# 매개변수 end를 사용해 끝 문자를 지정해야한다\n",
    "for i in range (0,10) :\n",
    "    print(i, end = ' ') # 출력되는 값 외에 다른 매개변수 집어 넣을라면, ,쉼표를 반드시 활용"
   ]
  },
  {
   "cell_type": "code",
   "execution_count": null,
   "metadata": {},
   "outputs": [],
   "source": []
  }
 ],
 "metadata": {
  "kernelspec": {
   "display_name": "Python 3",
   "language": "python",
   "name": "python3"
  },
  "language_info": {
   "codemirror_mode": {
    "name": "ipython",
    "version": 3
   },
   "file_extension": ".py",
   "mimetype": "text/x-python",
   "name": "python",
   "nbconvert_exporter": "python",
   "pygments_lexer": "ipython3",
   "version": "3.8.3"
  }
 },
 "nbformat": 4,
 "nbformat_minor": 4
}
