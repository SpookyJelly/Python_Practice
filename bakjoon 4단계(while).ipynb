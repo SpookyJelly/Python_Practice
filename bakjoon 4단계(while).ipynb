{
 "cells": [
  {
   "cell_type": "code",
   "execution_count": 8,
   "metadata": {},
   "outputs": [
    {
     "name": "stdout",
     "output_type": "stream",
     "text": [
      "1 1\n",
      "2\n",
      "2 3\n",
      "5\n",
      "3 4\n",
      "7\n",
      "9 8\n",
      "17\n",
      "5 2\n",
      "7\n",
      "0 0\n"
     ]
    }
   ],
   "source": [
    "# 10952번 A+B -5\n",
    "# 두 정수 A와 B를 입력 받은 다음, A+B를 출력하는 프로그램을 작성하시오\n",
    "# 입력은 어려개의 테스트 케이스로 이루어져있고, 0 0 입력 전까지는 계속 반복\n",
    "\n",
    "while True :\n",
    "    a,b = list(map(int,input().split()))\n",
    "    if [a,b] == [0,0]:\n",
    "        break\n",
    "    print(a+b)"
   ]
  },
  {
   "cell_type": "code",
   "execution_count": 16,
   "metadata": {},
   "outputs": [
    {
     "name": "stdout",
     "output_type": "stream",
     "text": [
      "4 2\n",
      "6\n",
      "1\n"
     ]
    }
   ],
   "source": [
    "# 10951번 A+B -4 \n",
    "# 두 정수 A와 B를 입력받은 다음, A + B를 출력하는 프로그램을 작성하시오\n",
    "while True :\n",
    "    try : #try / except 구문 : try 구문에 이상이 없으면 정상 실행\n",
    "        a,b = list(map(int,input().split()))\n",
    "    except : # 에러가 발생하면 except 구문 실행 , 여기서는 입력이 뭔가 잘못되면 except가 실행된다\n",
    "        break\n",
    "    print(a+b) # 이거까지 while 구문 안에 들어가 있기에, 계속 실행"
   ]
  },
  {
   "cell_type": "code",
   "execution_count": 99,
   "metadata": {},
   "outputs": [
    {
     "name": "stdout",
     "output_type": "stream",
     "text": [
      "26\n",
      "4\n"
     ]
    }
   ],
   "source": [
    "# 1110번 더하기 사이클\n",
    "# 원래수로 돌아오는 사이클 N 구하기\n",
    "'''0보다 크거나 같고, 99보다 작거나 같은 정수가 주어질 때 다음과 같은 연산을 할 수 있다. 먼저 주어진 수가 10보다 작다면 앞에 0을 붙여 두 자리 수로 만들고, 각 자리의 숫자를 더한다. 그 다음, 주어진 수의 가장 오른쪽 자리 수와 앞에서 구한 합의 가장 오른쪽 자리 수를 이어 붙이면 새로운 수를 만들 수 있다. 다음 예를 보자.\n",
    "\n",
    "26부터 시작한다. 2+6 = 8이다. 새로운 수는 68이다. 6+8 = 14이다. 새로운 수는 84이다. 8+4 = 12이다. 새로운 수는 42이다. 4+2 = 6이다. 새로운 수는 26이다.\n",
    "\n",
    "위의 예는 4번만에 원래 수로 돌아올 수 있다. 따라서 26의 사이클의 길이는 4이다.\n",
    "\n",
    "N이 주어졌을 때, N의 사이클의 길이를 구하는 프로그램을 작성하시오.'''\n",
    "\n",
    "n = int(input())#최초 입력값\n",
    "d = n # 비교용 정수 설정\n",
    "N = 0 # 사이클 길이 재는 변수\n",
    "while True : \n",
    "    if n < 10: # 입력값이 10보다 작으면 10더하기 아니네 시발 다른 조건이네\n",
    "        n =n*10 +n\n",
    "        N +=1\n",
    "        if n == d : #여기에 브레이크를 안넣어서 계속 돌아갔었네.... 새로운 n이 10이하일때 만들어지는 새로운 숫자로 원래 숫자로 올수 있다\n",
    "            break\n",
    "    else :\n",
    "        a = n //10 # 10의 자리\n",
    "        b = n - a*10 #1의 자리# 여기까지는 잘됨. 입력 받은 정수와 자리수로 거름\n",
    "        c = a + b\n",
    "        if c >=10 : # a+b이 10이 넘었을때도 그의 일의 자리를 사용해야하니까, if 추가\n",
    "            k = c-10\n",
    "            n = b*10 + k\n",
    "        else :\n",
    "            n = b*10 + c #a+b가 10 이하이면 그냥 써도 되니까 걍 돌린다\n",
    "        N +=1 # 위의 c에 대한 if나 else 그 어떤걸 걸쳐도 여기 else문 돌아가면 N이 하나 커져야하니까, else에 N =+1 거는거 맞다\n",
    "        if n == d :\n",
    "            break\n",
    "print(N)\n",
    "# 뭔가 전반적으로 드럽게 복잡하네"
   ]
  },
  {
   "cell_type": "code",
   "execution_count": 148,
   "metadata": {},
   "outputs": [
    {
     "name": "stdout",
     "output_type": "stream",
     "text": [
      "55\n",
      "3\n"
     ]
    }
   ],
   "source": [
    "# 1110번 개선수정\n",
    "n = int(input())\n",
    "N = 0\n",
    "d = n\n",
    "while True :\n",
    "    a = ((n//10)+(n%10)) # // 나눗셈 후 몫을 반환 하는 연산자, % 나눗셈후 나머지 반환 (a는 n의 십의 자리와 일의자리 더한 새로운 정수)\n",
    "    n = ((n%10)*10) + (a%10) # n%10이 일의 자리니까 그게 *10해서 십의 자리로 올라감 그리고 a%10 해서 a의 일의 자리만 냄겨서 새로운 일의 자리로 만듬\n",
    "    N +=1\n",
    "    if n == d :\n",
    "        break\n",
    "print(N)"
   ]
  },
  {
   "cell_type": "markdown",
   "metadata": {},
   "source": [
    "##### a = (28//10)*10 + (28%10)\n",
    "print(a)"
   ]
  },
  {
   "cell_type": "code",
   "execution_count": 125,
   "metadata": {},
   "outputs": [
    {
     "data": {
      "text/plain": [
       "8"
      ]
     },
     "execution_count": 125,
     "metadata": {},
     "output_type": "execute_result"
    }
   ],
   "source": [
    "82//10"
   ]
  },
  {
   "cell_type": "code",
   "execution_count": 121,
   "metadata": {},
   "outputs": [
    {
     "data": {
      "text/plain": [
       "8"
      ]
     },
     "execution_count": 121,
     "metadata": {},
     "output_type": "execute_result"
    }
   ],
   "source": [
    "8%10"
   ]
  },
  {
   "cell_type": "code",
   "execution_count": 136,
   "metadata": {},
   "outputs": [
    {
     "data": {
      "text/plain": [
       "0"
      ]
     },
     "execution_count": 136,
     "metadata": {},
     "output_type": "execute_result"
    }
   ],
   "source": [
    "0 //10 + n%10"
   ]
  },
  {
   "cell_type": "code",
   "execution_count": null,
   "metadata": {},
   "outputs": [],
   "source": []
  }
 ],
 "metadata": {
  "kernelspec": {
   "display_name": "Python 3",
   "language": "python",
   "name": "python3"
  },
  "language_info": {
   "codemirror_mode": {
    "name": "ipython",
    "version": 3
   },
   "file_extension": ".py",
   "mimetype": "text/x-python",
   "name": "python",
   "nbconvert_exporter": "python",
   "pygments_lexer": "ipython3",
   "version": "3.8.3"
  }
 },
 "nbformat": 4,
 "nbformat_minor": 4
}
