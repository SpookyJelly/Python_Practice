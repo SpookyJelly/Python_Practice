{
 "cells": [
  {
   "cell_type": "code",
   "execution_count": 2,
   "metadata": {},
   "outputs": [],
   "source": [
    "line = '='* 50\n",
    "def title_output(a) :\n",
    "    print (line)\n",
    "    print ('{0:50}'.format(a))\n",
    "    print (line)\n",
    "\n",
    "f = open(\"C:/doit/새피일.txt\",'w') # C:/doit/ 경로에 새파일이라는 txt 문서를 생성\n",
    "f.close()"
   ]
  },
  {
   "cell_type": "code",
   "execution_count": 3,
   "metadata": {},
   "outputs": [
    {
     "name": "stdout",
     "output_type": "stream",
     "text": [
      "==================================================\n",
      "파일 읽고 쓰기                                          \n",
      "==================================================\n"
     ]
    }
   ],
   "source": [
    "title_output('파일 읽고 쓰기')"
   ]
  },
  {
   "cell_type": "code",
   "execution_count": 5,
   "metadata": {},
   "outputs": [],
   "source": [
    "# open 함수는 \"파일 이름\" 과 \"파일 열기 모드\"를 입력값으로 받고 결과값으로 \n",
    "# 파일객체를 돌려준다\n",
    "#ex. 파일 객체 = open (파일 이름, 파일 열기 모드)\n",
    "'''r : 읽기모드 (파일을 읽기만 할 때 사용)\n",
    "   w : 쓰기모드 (파일에 내용을 쓸 때 사용)\n",
    "   a : 추가모드 (파일의 마지막에 새로운 내용을 추가 시킬 때 사용)'''\n",
    "f = open(\"새파일.txt\", 'w') #객체 f\n",
    "for i in range(1, 11):\n",
    "    data = \"%d번째 줄입니다.\\n\" % i #경로 지정 안하면 지금 폴더에 생성됨.\n",
    "    f.write(data) #객체 f의 .write 함수를 사용했음. (print함수와 동일한 역할)\n",
    "f.close() # 객체 f를 닫는다\n",
    "# 폴더에 생긴 txt 파일 열어보면 for 문 실행되고 출력되어 있음"
   ]
  },
  {
   "cell_type": "code",
   "execution_count": 6,
   "metadata": {},
   "outputs": [
    {
     "name": "stdout",
     "output_type": "stream",
     "text": [
      "1번째 줄입니다.\n",
      "\n"
     ]
    }
   ],
   "source": [
    "#readline()함수를 이용해서 프로그램 외부에 저장된 파일을 읽기\n",
    "\n",
    "f = open(\"새파일.txt\", 'r')\n",
    "line1 = f.readline()\n",
    "print(line1)\n",
    "f.close()\n",
    "\n",
    "# 위에서 만든 \"새파일.txt\"의 첫번째 줄을 불러와서 출력한것."
   ]
  },
  {
   "cell_type": "code",
   "execution_count": 11,
   "metadata": {},
   "outputs": [
    {
     "name": "stdout",
     "output_type": "stream",
     "text": [
      "1번째 줄입니다.\n",
      "\n",
      "2번째 줄입니다.\n",
      "\n",
      "3번째 줄입니다.\n",
      "\n",
      "4번째 줄입니다.\n",
      "\n",
      "5번째 줄입니다.\n",
      "\n",
      "6번째 줄입니다.\n",
      "\n",
      "7번째 줄입니다.\n",
      "\n",
      "8번째 줄입니다.\n",
      "\n",
      "9번째 줄입니다.\n",
      "\n",
      "10번째 줄입니다.\n",
      "\n"
     ]
    }
   ],
   "source": [
    "f = open(\"새파일.txt\", 'r')\n",
    "while True:\n",
    "    line = f.readline() #readline 함수가 다른 명령없어도 위에서부터 한줄씩 읽어 내려가는 거인듯\n",
    "    if not line: break #라인이 false면 break 하라는 뜻.\n",
    "    print(line) #readline으로 line에 저장된 데이터를 print하라는 것\n",
    "f.close()"
   ]
  },
  {
   "cell_type": "code",
   "execution_count": 14,
   "metadata": {},
   "outputs": [
    {
     "name": "stdout",
     "output_type": "stream",
     "text": [
      "1번째 줄입니다.\n",
      "\n",
      "2번째 줄입니다.\n",
      "\n",
      "3번째 줄입니다.\n",
      "\n",
      "4번째 줄입니다.\n",
      "\n",
      "5번째 줄입니다.\n",
      "\n",
      "6번째 줄입니다.\n",
      "\n",
      "7번째 줄입니다.\n",
      "\n",
      "8번째 줄입니다.\n",
      "\n",
      "9번째 줄입니다.\n",
      "\n",
      "10번째 줄입니다.\n",
      "\n"
     ]
    }
   ],
   "source": [
    "# readlines 함수 사용하기\n",
    "# readlines는 파일의 모든 줄을 읽어서 각각의 줄을 요소로 갖는 리스트로 반환...\n",
    "# 그러니까 일단 리스트를 만드는 함수네\n",
    "\n",
    "f = open(\"새파일.txt\",'r')\n",
    "lines = f.readlines()\n",
    "for line in lines : #이번엔 lines가 list이기 때문에 각각의 요솟값을 for문을 이용해서 출력할 필요가 있다\n",
    "    print(line) #리스트 맨 앞에 있는 요소부터 print하고 그 다음으로 넘어가고... 쭉쭉쭉\n",
    "f.close()"
   ]
  },
  {
   "cell_type": "code",
   "execution_count": 17,
   "metadata": {},
   "outputs": [
    {
     "name": "stdout",
     "output_type": "stream",
     "text": [
      "1번째 줄입니다.\n",
      "2번째 줄입니다.\n",
      "3번째 줄입니다.\n",
      "4번째 줄입니다.\n",
      "5번째 줄입니다.\n",
      "6번째 줄입니다.\n",
      "7번째 줄입니다.\n",
      "8번째 줄입니다.\n",
      "9번째 줄입니다.\n",
      "10번째 줄입니다.\n",
      "\n"
     ]
    }
   ],
   "source": [
    "#read 함수 사용하기\n",
    "# read함수는 파일의 내용 전체를 \"문자열\"로 돌려준다. 따라서 위 예의 data는 파일의\n",
    "# 전체 내용이다.\n",
    "\n",
    "f = open(\"새파일.txt\", 'r')\n",
    "data = f.read()\n",
    "print(data)\n",
    "f.close() # 출력되는 값은 똑같지만 data는 아래 내용을 문자열로 저장하고 있는 객체이다"
   ]
  },
  {
   "cell_type": "code",
   "execution_count": null,
   "metadata": {},
   "outputs": [],
   "source": []
  }
 ],
 "metadata": {
  "kernelspec": {
   "display_name": "Python 3",
   "language": "python",
   "name": "python3"
  },
  "language_info": {
   "codemirror_mode": {
    "name": "ipython",
    "version": 3
   },
   "file_extension": ".py",
   "mimetype": "text/x-python",
   "name": "python",
   "nbconvert_exporter": "python",
   "pygments_lexer": "ipython3",
   "version": "3.8.3"
  }
 },
 "nbformat": 4,
 "nbformat_minor": 4
}
