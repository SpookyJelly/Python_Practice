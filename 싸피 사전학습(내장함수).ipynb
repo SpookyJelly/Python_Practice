{
 "cells": [
  {
   "cell_type": "code",
   "execution_count": 6,
   "metadata": {},
   "outputs": [
    {
     "name": "stdout",
     "output_type": "stream",
     "text": [
      "ㅇㅇㅇ\n",
      "26\n",
      "ㅇㅇㅇ(은)는 2093년에 100세가 될 것입니다.\n"
     ]
    }
   ],
   "source": [
    "#6308번 내장함수 연습 1번\n",
    "\n",
    "'''\n",
    "다음의 결과와 같이 이름과 나이를 입력 받아\n",
    "\n",
    "올해를 기준으로 100세가 되는 해를 표시하는 코드를 작성하십시오.\n",
    " \n",
    "\n",
    "입력\n",
    "\n",
    "홍길동\n",
    "20\n",
    "\n",
    "출력\n",
    "\n",
    "홍길동(은)는 2099년에 100세가 될 것입니다.\n",
    "\n",
    "'''\n",
    "\n",
    "name = input()\n",
    "age = input()\n",
    "\n",
    "print('{0}(은)는 {1}년에 100세가 될 것입니다.'.format(name,100-int(age)+2019))"
   ]
  },
  {
   "cell_type": "code",
   "execution_count": 56,
   "metadata": {},
   "outputs": [
    {
     "name": "stdout",
     "output_type": "stream",
     "text": [
      "184\n"
     ]
    }
   ],
   "source": [
    "#6311번 내장함수 연습 2번\n",
    "\n",
    "'''\"ADCBBBBCABBCBDACBDCAACDDDCAABABDBCBCBDBDBDDABBAAAAAAADADBDBCBDABADCADC\"와\n",
    "\n",
    "같은 문자열이 주어지고, A는 4점, B는 3점, C는 2점, D는 1점이라고 할 때 문자열에 사용된\n",
    "\n",
    "알파벳 점수의 총합을 map 함수와 람다식을 이용해 구하십시오.\n",
    "\n",
    "입력\n",
    "\n",
    "입력 없음\n",
    "\n",
    "\n",
    "출력\n",
    "184\n",
    "'''\n",
    "\n",
    "str_list = list(\"ADCBBBBCABBCBDACBDCAACDDDCAABABDBCBCBDBDBDDABBAAAAAAADADBDBCBDABADCADC\")\n",
    "\n",
    "a = str_list.count('A')\n",
    "b = str_list.count('B')\n",
    "c = str_list.count('C')\n",
    "d = str_list.count('D')\n",
    "chr_list = [a,b,c,d] # 리스트에 있는 A,B,C,D 갯수를 다 센 후 그것을 리스트로\n",
    "score_list = [4,3,2,1] # 각 알파벳 별로 가산점의 리스트\n",
    "# 포인트는 map(function(lambda),list)에 쓸수 있는 리스트와 함수를 만드는 것이다.\n",
    "map_list = list(map(lambda a,b: a*b, chr_list,score_list)) #map(함수, **리스트**) 꼴... \n",
    "#여기서는 함수 위치에 람다가 왔고, 리스트 위치에 람다가 필요로하는 2개의 매개변수. \n",
    "#2개의 리스트를 셋팅했다. 그러면 두개의 리스트는 각각 a와 b가 되어서\n",
    "#lambda에 따라, a*b를 수행한다.(리스트 곱셈), map함수는 이 두 리스트를 lambda에 따를 수 있도록 하는 함수..\n",
    "# 아 뭔가 알거 같은데...\n",
    "#map lambda 이거 익숙해지면 엄청 유용할거 같은데...숙달하자\n",
    "print(sum(map_list))\n",
    "# lambda '입력' :출력 ㄲ\n",
    "\n"
   ]
  },
  {
   "cell_type": "code",
   "execution_count": 42,
   "metadata": {},
   "outputs": [
    {
     "data": {
      "text/plain": [
       "100"
      ]
     },
     "execution_count": 42,
     "metadata": {},
     "output_type": "execute_result"
    }
   ],
   "source": [
    "(lambda a,b,c,d : a + b+c+d )(10,20,30,40)"
   ]
  },
  {
   "cell_type": "code",
   "execution_count": 46,
   "metadata": {},
   "outputs": [
    {
     "data": {
      "text/plain": [
       "[2, 4, 6, 8]"
      ]
     },
     "execution_count": 46,
     "metadata": {},
     "output_type": "execute_result"
    }
   ],
   "source": [
    "list(map(lambda a,b : a+b, [1,2,3,4],[1,2,3,4]))"
   ]
  },
  {
   "cell_type": "code",
   "execution_count": 31,
   "metadata": {},
   "outputs": [
    {
     "data": {
      "text/plain": [
       "list"
      ]
     },
     "execution_count": 31,
     "metadata": {},
     "output_type": "execute_result"
    }
   ],
   "source": []
  },
  {
   "cell_type": "code",
   "execution_count": 26,
   "metadata": {},
   "outputs": [
    {
     "ename": "TypeError",
     "evalue": "'set' object is not subscriptable",
     "output_type": "error",
     "traceback": [
      "\u001b[1;31m---------------------------------------------------------------------------\u001b[0m",
      "\u001b[1;31mTypeError\u001b[0m                                 Traceback (most recent call last)",
      "\u001b[1;32m<ipython-input-26-54c50137a733>\u001b[0m in \u001b[0;36m<module>\u001b[1;34m\u001b[0m\n\u001b[1;32m----> 1\u001b[1;33m \u001b[0mstr_set\u001b[0m\u001b[1;33m[\u001b[0m\u001b[1;36m0\u001b[0m\u001b[1;33m]\u001b[0m\u001b[1;33m\u001b[0m\u001b[1;33m\u001b[0m\u001b[0m\n\u001b[0m",
      "\u001b[1;31mTypeError\u001b[0m: 'set' object is not subscriptable"
     ]
    }
   ],
   "source": [
    "str_set[0]"
   ]
  },
  {
   "cell_type": "code",
   "execution_count": null,
   "metadata": {},
   "outputs": [],
   "source": []
  }
 ],
 "metadata": {
  "kernelspec": {
   "display_name": "Python 3",
   "language": "python",
   "name": "python3"
  },
  "language_info": {
   "codemirror_mode": {
    "name": "ipython",
    "version": 3
   },
   "file_extension": ".py",
   "mimetype": "text/x-python",
   "name": "python",
   "nbconvert_exporter": "python",
   "pygments_lexer": "ipython3",
   "version": "3.8.3"
  }
 },
 "nbformat": 4,
 "nbformat_minor": 4
}
