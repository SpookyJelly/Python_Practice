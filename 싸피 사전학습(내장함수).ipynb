{
 "cells": [
  {
   "cell_type": "code",
   "execution_count": 6,
   "metadata": {},
   "outputs": [
    {
     "name": "stdout",
     "output_type": "stream",
     "text": [
      "ㅇㅇㅇ\n",
      "26\n",
      "ㅇㅇㅇ(은)는 2093년에 100세가 될 것입니다.\n"
     ]
    }
   ],
   "source": [
    "#6308번 내장함수 연습 1번\n",
    "\n",
    "'''\n",
    "다음의 결과와 같이 이름과 나이를 입력 받아\n",
    "\n",
    "올해를 기준으로 100세가 되는 해를 표시하는 코드를 작성하십시오.\n",
    " \n",
    "\n",
    "입력\n",
    "\n",
    "홍길동\n",
    "20\n",
    "\n",
    "출력\n",
    "\n",
    "홍길동(은)는 2099년에 100세가 될 것입니다.\n",
    "\n",
    "'''\n",
    "\n",
    "name = input()\n",
    "age = input()\n",
    "\n",
    "print('{0}(은)는 {1}년에 100세가 될 것입니다.'.format(name,100-int(age)+2019))"
   ]
  },
  {
   "cell_type": "code",
   "execution_count": 56,
   "metadata": {},
   "outputs": [
    {
     "name": "stdout",
     "output_type": "stream",
     "text": [
      "184\n"
     ]
    }
   ],
   "source": [
    "#6311번 내장함수 연습 2번\n",
    "\n",
    "'''\"ADCBBBBCABBCBDACBDCAACDDDCAABABDBCBCBDBDBDDABBAAAAAAADADBDBCBDABADCADC\"와\n",
    "\n",
    "같은 문자열이 주어지고, A는 4점, B는 3점, C는 2점, D는 1점이라고 할 때 문자열에 사용된\n",
    "\n",
    "알파벳 점수의 총합을 map 함수와 람다식을 이용해 구하십시오.\n",
    "\n",
    "입력\n",
    "\n",
    "입력 없음\n",
    "\n",
    "\n",
    "출력\n",
    "184\n",
    "'''\n",
    "\n",
    "str_list = list(\"ADCBBBBCABBCBDACBDCAACDDDCAABABDBCBCBDBDBDDABBAAAAAAADADBDBCBDABADCADC\")\n",
    "\n",
    "a = str_list.count('A')\n",
    "b = str_list.count('B')\n",
    "c = str_list.count('C')\n",
    "d = str_list.count('D')\n",
    "chr_list = [a,b,c,d] # 리스트에 있는 A,B,C,D 갯수를 다 센 후 그것을 리스트로\n",
    "score_list = [4,3,2,1] # 각 알파벳 별로 가산점의 리스트\n",
    "# 포인트는 map(function(lambda),list)에 쓸수 있는 리스트와 함수를 만드는 것이다.\n",
    "map_list = list(map(lambda a,b: a*b, chr_list,score_list)) #map(함수, **리스트**) 꼴... \n",
    "#여기서는 함수 위치에 람다가 왔고, 리스트 위치에 람다가 필요로하는 2개의 매개변수. \n",
    "#2개의 리스트를 셋팅했다. 그러면 두개의 리스트는 각각 a와 b가 되어서\n",
    "#lambda에 따라, a*b를 수행한다.(리스트 곱셈), map함수는 이 두 리스트를 lambda에 따를 수 있도록 하는 함수..\n",
    "# 아 뭔가 알거 같은데...\n",
    "#map lambda 이거 익숙해지면 엄청 유용할거 같은데...숙달하자\n",
    "print(sum(map_list))\n",
    "'''lambda '입력' :출력 형태로 만드는 간단한 함수라고 생각하자'''\n",
    "\n"
   ]
  },
  {
   "cell_type": "code",
   "execution_count": 19,
   "metadata": {},
   "outputs": [
    {
     "name": "stdout",
     "output_type": "stream",
     "text": [
      "[4, 16, 36, 64, 100]\n"
     ]
    }
   ],
   "source": [
    "#6316번 내장함수 연습문제 9\n",
    "\n",
    "'''\n",
    "1~10까지의 정수를 항목으로 갖는 리스트 객체에서 filter 함수와 람다식을 이용해\n",
    " \n",
    "짝수만을 선택한 후, map 함수와 람다식을 이용해 항목의 제곱 값을 갖는 리스트를 반환하는\n",
    " \n",
    "프로그램을 작성하십시오.\n",
    "\n",
    "입력\n",
    "\n",
    "입력없음\n",
    "\n",
    "\n",
    "\n",
    "출력\n",
    "\n",
    "[4, 16, 36, 64, 100]\n",
    "\n",
    "'''\n",
    "def even_square(x): # pow(a,b) 메소드가 리스트를 받지 못해서 리스트를 처리할수 있는 함수꼴로 만들었다.\n",
    "    for i in range(len(x)):\n",
    "        x[i]=pow(x[i],2)\n",
    "    return x\n",
    "\n",
    "a = list(range(1,11))\n",
    "a_even = list(filter(lambda x : x%2==0,a)) # filter를 써야지, lambda 조건에 맞는 값들이 출력된다. 안그럼 True, False 값만 나온다.\n",
    "a_even_square = even_square(a_even)\n",
    "print(a_even_square)"
   ]
  },
  {
   "cell_type": "code",
   "execution_count": 31,
   "metadata": {},
   "outputs": [
    {
     "name": "stdout",
     "output_type": "stream",
     "text": [
      "max(3, 5, 4, 1, 8, 10, 2) => 10\n"
     ]
    }
   ],
   "source": [
    "#6317번 내장함수 연습문제 10\n",
    "'''\n",
    "가변형 인자를 전달 받아 가장 큰 값을 반환하는 함수를 정의하고,\n",
    " \n",
    "다음과 같은 결과를 출력하는 프로그램을 작성하십시오.\n",
    "\n",
    "입력\n",
    "\n",
    "입력없음\n",
    "\n",
    "\n",
    "출력\n",
    "\n",
    "max(3, 5, 4, 1, 8, 10, 2) => 10\n",
    "'''\n",
    "#가변형 인자 : 함수가 몇개의 인자를 받을지 정해지지 않은 함수\n",
    "\n",
    "def maxi(*arugments): #print(arugments)# 이렇게 함수 입력값을 가변형으로 하면, 함수 호출하고 변수 입력할때 , 로만 구분 해주면\n",
    "    # 그냥 알아서 다른 값으로 인식하네\n",
    "    x = max(arugments)\n",
    "    return x\n",
    "test = maxi(3,5,4,1,8,10,2)\n",
    "print('max(3, 5, 4, 1, 8, 10, 2) => {0}'.format(test))\n",
    "#.format(maxi(test)) 하면 maxi가 실행된 값이 아니고 그냥 test가 출력된다.\n",
    "# 왜지? --> format 함수가 함수 포매팅을 지원하지 않기 때문에 그냥 넘기는 거 같다..\n",
    "# eval은 왜 안되지? --> eval(\"식\")만을 받기 때문, maxi는 함수라서 안되는듯?"
   ]
  },
  {
   "cell_type": "code",
   "execution_count": 51,
   "metadata": {},
   "outputs": [
    {
     "name": "stdout",
     "output_type": "stream",
     "text": [
      "a: 0\n",
      "b: 1\n",
      "c: 2\n",
      "d: 3\n",
      "e: 4\n",
      "f: 5\n"
     ]
    }
   ],
   "source": [
    "#6318번 내장함수 연습문제 11번\n",
    "\n",
    "'''\n",
    "다음의 결과와 같이 'abcdef' 문자열의 각각의 문자를 키로 하고 0~5 사이의 정수를\n",
    " \n",
    "값으로 하는 딕셔너리 객체를 생성하고, 이 딕셔너리 객체의 키와 값 정보를 출력하는\n",
    "\n",
    "프로그램을 작성하십시오.\n",
    "\n",
    "입력\n",
    "\n",
    "입력없음\n",
    "\n",
    "\n",
    "출력\n",
    "\n",
    "a: 0\n",
    "\n",
    "b: 1\n",
    "\n",
    "c: 2\n",
    "\n",
    "d: 3\n",
    "\n",
    "e: 4\n",
    "\n",
    "f: 5\n",
    "'''\n",
    "dic = {0:'a',1:'b',2:'c',3:'d',4:'e',5:'f'}\n",
    "for v in dic.items():#dic.items() 함수는 딕셔너리의 키/밸류를 튜플형태로 리턴한다.\n",
    "    # v = dic_iems([(0,a),(1,b),(2,c),(3,d),(4,e),(5,f)]) 이다\n",
    "        print('{0}: {1}'.format(v[1],v[0]))#v가 (0,a)인 튜플이므로, 그 요소값을 추려서 출력\n",
    "    # 루프 돌때마다 v 값 바뀜"
   ]
  },
  {
   "cell_type": "code",
   "execution_count": 38,
   "metadata": {},
   "outputs": [
    {
     "data": {
      "text/plain": [
       "'b'"
      ]
     },
     "execution_count": 38,
     "metadata": {},
     "output_type": "execute_result"
    }
   ],
   "source": [
    "dic[1]"
   ]
  },
  {
   "cell_type": "code",
   "execution_count": 49,
   "metadata": {},
   "outputs": [
    {
     "name": "stdout",
     "output_type": "stream",
     "text": [
      "a:0\n",
      "b:1\n",
      "c:2\n",
      "d:3\n",
      "e:4\n",
      "f:5\n"
     ]
    }
   ],
   "source": [
    "for v in dic.items():\n",
    "        print('{0}:{1}'.format(v[1],v[0]))"
   ]
  },
  {
   "cell_type": "code",
   "execution_count": 41,
   "metadata": {},
   "outputs": [
    {
     "ename": "TypeError",
     "evalue": "'dict_keys' object is not subscriptable",
     "output_type": "error",
     "traceback": [
      "\u001b[1;31m---------------------------------------------------------------------------\u001b[0m",
      "\u001b[1;31mTypeError\u001b[0m                                 Traceback (most recent call last)",
      "\u001b[1;32m<ipython-input-41-028d421c2ccf>\u001b[0m in \u001b[0;36m<module>\u001b[1;34m\u001b[0m\n\u001b[1;32m----> 1\u001b[1;33m \u001b[0mdic\u001b[0m\u001b[1;33m.\u001b[0m\u001b[0mkeys\u001b[0m\u001b[1;33m(\u001b[0m\u001b[1;33m)\u001b[0m\u001b[1;33m[\u001b[0m\u001b[1;36m1\u001b[0m\u001b[1;33m]\u001b[0m\u001b[1;33m\u001b[0m\u001b[1;33m\u001b[0m\u001b[0m\n\u001b[0m",
      "\u001b[1;31mTypeError\u001b[0m: 'dict_keys' object is not subscriptable"
     ]
    }
   ],
   "source": []
  },
  {
   "cell_type": "code",
   "execution_count": null,
   "metadata": {},
   "outputs": [],
   "source": []
  }
 ],
 "metadata": {
  "kernelspec": {
   "display_name": "Python 3",
   "language": "python",
   "name": "python3"
  },
  "language_info": {
   "codemirror_mode": {
    "name": "ipython",
    "version": 3
   },
   "file_extension": ".py",
   "mimetype": "text/x-python",
   "name": "python",
   "nbconvert_exporter": "python",
   "pygments_lexer": "ipython3",
   "version": "3.8.3"
  }
 },
 "nbformat": 4,
 "nbformat_minor": 4
}
