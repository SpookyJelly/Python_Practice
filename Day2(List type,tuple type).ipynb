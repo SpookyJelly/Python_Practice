{
 "cells": [
  {
   "cell_type": "code",
   "execution_count": 1,
   "metadata": {},
   "outputs": [],
   "source": [
    "#리스트 자료형\n",
    "\n",
    "a = [ 1, 2, ['Life', 'is','strange']] # 자료형 관계 없이 지정 가능. 단 string은 다음과 같이 묶어야한다\n",
    "b = [] # 공백도 포함가능하다"
   ]
  },
  {
   "cell_type": "code",
   "execution_count": 3,
   "metadata": {},
   "outputs": [
    {
     "data": {
      "text/plain": [
       "3"
      ]
     },
     "execution_count": 3,
     "metadata": {},
     "output_type": "execute_result"
    }
   ],
   "source": [
    "# 인덱싱 가능, 슬라이싱 가능\n",
    "\n",
    "a[0] + a[1]"
   ]
  },
  {
   "cell_type": "code",
   "execution_count": 4,
   "metadata": {},
   "outputs": [
    {
     "data": {
      "text/plain": [
       "'Life'"
      ]
     },
     "execution_count": 4,
     "metadata": {},
     "output_type": "execute_result"
    }
   ],
   "source": [
    "#리스트에 포함된 리스트 값도 꺼낼 수 있다\n",
    "a[-1][0] #리스트 a의 뒤에서 첫번째 객체의 0번째 값을 꺼내라."
   ]
  },
  {
   "cell_type": "code",
   "execution_count": 8,
   "metadata": {},
   "outputs": [
    {
     "data": {
      "text/plain": [
       "[1, 2]"
      ]
     },
     "execution_count": 8,
     "metadata": {},
     "output_type": "execute_result"
    }
   ],
   "source": [
    "a[0:2]"
   ]
  },
  {
   "cell_type": "code",
   "execution_count": 6,
   "metadata": {},
   "outputs": [
    {
     "data": {
      "text/plain": [
       "[1]"
      ]
     },
     "execution_count": 6,
     "metadata": {},
     "output_type": "execute_result"
    }
   ],
   "source": [
    "a[0:3] # 이렇게 슬라이싱 할 때 마지막 factor(??)는 포함하지 않는다..."
   ]
  },
  {
   "cell_type": "code",
   "execution_count": 10,
   "metadata": {},
   "outputs": [
    {
     "data": {
      "text/plain": [
       "[1, 2, 3, 4, 5, 6]"
      ]
     },
     "execution_count": 10,
     "metadata": {},
     "output_type": "execute_result"
    }
   ],
   "source": [
    "#리스트의 더하기, 반복하기, 길이 구하기\n",
    "\n",
    "a = [1,2,3]\n",
    "b = [4,5,6]\n",
    "a+b"
   ]
  },
  {
   "cell_type": "code",
   "execution_count": 13,
   "metadata": {},
   "outputs": [
    {
     "data": {
      "text/plain": [
       "[1, 2, 3, 1, 2, 3, 1, 2, 3, 4, 5, 6, 4, 5, 6]"
      ]
     },
     "execution_count": 13,
     "metadata": {},
     "output_type": "execute_result"
    }
   ],
   "source": [
    "c = a*3 + b*2\n",
    "c"
   ]
  },
  {
   "cell_type": "code",
   "execution_count": 14,
   "metadata": {},
   "outputs": [
    {
     "data": {
      "text/plain": [
       "15"
      ]
     },
     "execution_count": 14,
     "metadata": {},
     "output_type": "execute_result"
    }
   ],
   "source": [
    "len(c) #len은 리스트를 구하는 함수이다. 문자열, 리스트 외에도 튜플과 딕셔너리에서도 사용"
   ]
  },
  {
   "cell_type": "code",
   "execution_count": 38,
   "metadata": {},
   "outputs": [
    {
     "data": {
      "text/plain": [
       "[1, 2, 4]"
      ]
     },
     "execution_count": 38,
     "metadata": {},
     "output_type": "execute_result"
    }
   ],
   "source": [
    "#리스트는 문자열과 다르게 내부 요솟값을 바꿀 수 있다\n",
    "\n",
    "a = [1,2,3]\n",
    "a[2] = 4\n",
    "a"
   ]
  },
  {
   "cell_type": "code",
   "execution_count": 39,
   "metadata": {},
   "outputs": [
    {
     "data": {
      "text/plain": [
       "[2, 4]"
      ]
     },
     "execution_count": 39,
     "metadata": {},
     "output_type": "execute_result"
    }
   ],
   "source": [
    "#del 함수의 이용\n",
    "# del a[x]는 x번째 요솟값을 삭제한다\n",
    "del a[0] #del 하고 띄어쓰기 하는 거 주의!\n",
    "a"
   ]
  },
  {
   "cell_type": "code",
   "execution_count": 48,
   "metadata": {},
   "outputs": [
    {
     "data": {
      "text/plain": [
       "[2, 3, 4, 5]"
      ]
     },
     "execution_count": 48,
     "metadata": {},
     "output_type": "execute_result"
    }
   ],
   "source": [
    "'''리스트 관련 함수들\n",
    ".append(x) : 리스트의 맨 마지막에 x를 추가\n",
    ".sort() : 리스트 요소들 순차정렬\n",
    ".reverse() : 리스트를 역순으로 뒤집어 준다\n",
    ".index(x) : x의 위치값을 return 한다\n",
    ".insert(a,b) : 리스트의 a번째 위치에 b를 삽입한다\n",
    ".remove(x) : 리스트에서 첫 번째로 나오는 x를 삭제한다\n",
    ".pop(x) : 리스트의 x번째 요소를 return 하고 그것을 삭제한다\n",
    ".count(x) : 리스트 안에 x가 몇개 있는지 조사하여 그 개수를 돌려준다\n",
    ".extend(x) : x는 리스트 만 올 수 있으며 원래 리스트에 x 리스트를 더한다'''\n",
    "\n",
    "a = [2,3]\n",
    "b = [4,5]\n",
    "a.extend(b) # a + b랑 같네\n",
    "a"
   ]
  },
  {
   "cell_type": "code",
   "execution_count": 50,
   "metadata": {},
   "outputs": [],
   "source": [
    "#튜플 자료형\n",
    "'''튜플(tuple)은 몇 가지 점을 제외하곤 리스트와 거의 비슷하며 리스트와 다른 점은 다음과 같다.\n",
    "\n",
    "리스트는 [ ]으로 둘러싸지만 튜플은 ( )으로 둘러싼다.\n",
    "리스트는 그 값의 생성, 삭제, 수정이 가능하지만 튜플은 그 값을 바꿀 수 없다.'''\n",
    "\n",
    "t1 = ()\n",
    "t2 = (1,) # 요소가 1개일 때는 마지막에 , 무조건 붙어야한다\n",
    "t3 = (1, 2, 3)\n",
    "t4 = 1, 2, 3 # 괄호생략 가능\n",
    "t5 = ('a', 'b', ('ab', 'cd')) \n",
    "t6 = (['ab']) # 튜플에 리스트 넣기 가능\n",
    "\n",
    "# 인덱싱, 슬라이딩, 사칙연산, 길이 구하기 가능하다\n"
   ]
  },
  {
   "cell_type": "code",
   "execution_count": 51,
   "metadata": {},
   "outputs": [],
   "source": []
  },
  {
   "cell_type": "code",
   "execution_count": null,
   "metadata": {},
   "outputs": [],
   "source": []
  }
 ],
 "metadata": {
  "kernelspec": {
   "display_name": "Python 3",
   "language": "python",
   "name": "python3"
  },
  "language_info": {
   "codemirror_mode": {
    "name": "ipython",
    "version": 3
   },
   "file_extension": ".py",
   "mimetype": "text/x-python",
   "name": "python",
   "nbconvert_exporter": "python",
   "pygments_lexer": "ipython3",
   "version": "3.8.3"
  }
 },
 "nbformat": 4,
 "nbformat_minor": 4
}
