{
 "cells": [
  {
   "cell_type": "code",
   "execution_count": 1,
   "metadata": {},
   "outputs": [],
   "source": [
    "import antigravity"
   ]
  },
  {
   "cell_type": "code",
   "execution_count": 2,
   "metadata": {},
   "outputs": [],
   "source": [
    "#if while for문 이건 C에서도 해봤으니까 뭔지는 안다\n",
    "line = '=' * 50\n",
    "title_if = 'if 조건문'"
   ]
  },
  {
   "cell_type": "code",
   "execution_count": 95,
   "metadata": {},
   "outputs": [
    {
     "name": "stdout",
     "output_type": "stream",
     "text": [
      "==================================================\n",
      "@@@@@@@@@@@@@@@@@@@@if 조건문@@@@@@@@@@@@@@@@@@@@@\n",
      "==================================================\n"
     ]
    }
   ],
   "source": [
    "print(line)\n",
    "print(\"{0:@^47}\".format(\"if 조건문\")) # 문자열 자료형 인덱싱 활용해서 정렬. :^는 가운데 정렬 기호\n",
    "print(line)"
   ]
  },
  {
   "cell_type": "code",
   "execution_count": 5,
   "metadata": {},
   "outputs": [
    {
     "name": "stdout",
     "output_type": "stream",
     "text": [
      "==================================================\n"
     ]
    }
   ],
   "source": [
    "'''if문을 만들 때는 if 조건문: 바로 아래 문장부터 if문에 속하는 \n",
    "모든 문장에 들여쓰기(indentation)를 해주어야 한다\n",
    "들여쓰기를 할 때는 항상 같은 너비로 해야한다'''\n",
    "'''[조건문 다음에 콜론(:)을 잊지 말자!]\n",
    "if 조건문에서 조건문이란 참과 거짓을 판단하는 문장을 말한다'''\n",
    "\n",
    "money = True\n",
    "if money :\n",
    "    print(line) # 걍 예시로 만들어본건데 포인트는. if 이하가 True이면 \n",
    "    #조건문을 실행한다...여기서는 money가 걍 true로 정의 되었기에 바로\n",
    "    #line을 출력한것\n",
    "    \n",
    "'''비교 연산자 종류\n",
    "\n",
    "x < y : x가 y보다 작다\n",
    "x > y : x가 y보다 크다\n",
    "x == y\n",
    "x != y \n",
    "x >= y\n",
    "x <= y'''"
   ]
  },
  {
   "cell_type": "code",
   "execution_count": 7,
   "metadata": {},
   "outputs": [
    {
     "name": "stdout",
     "output_type": "stream",
     "text": [
      "흑흑 너무 슬프다\n"
     ]
    }
   ],
   "source": [
    "money = 2000\n",
    "if money > 3000 : # 비교연산자 사용한것. C랑 똑같다\n",
    "    print(\"앙 기모리\")\n",
    "else : # if문 들여쓰기 위치랑 else문 들여쓰기 위치가 같아야한다. 조건문 마지막 : 까먹지 마라\n",
    "    print(\"흑흑 너무 슬프다\")"
   ]
  },
  {
   "cell_type": "code",
   "execution_count": 32,
   "metadata": {},
   "outputs": [
    {
     "name": "stdout",
     "output_type": "stream",
     "text": [
      "walk\n"
     ]
    }
   ],
   "source": [
    "#and or nor 조건문 <--- 설명 생략\n",
    "# x in s, x not in s <---- 다른 언어에는 없는 조건문\n",
    "# s안에 x가 있으면(혹은 없으면) true, 그 반대면 false 값 return\n",
    "pocket = ['paper','card','pocket_money']\n",
    "money = 2000\n",
    "if money < 3000 :\n",
    "    pocket.pop(2) # 이건 너무 원시적이야....pocket_money의 위치값을 index로 찾은다음 pop 어떄\n",
    "else :\n",
    "    pass\n",
    "if 'card' in pocket and 'pocket_money' in pocket :\n",
    "    print (\"take a taxi\")\n",
    "else :\n",
    "    print (\"walk\")"
   ]
  },
  {
   "cell_type": "code",
   "execution_count": 41,
   "metadata": {},
   "outputs": [
    {
     "name": "stdout",
     "output_type": "stream",
     "text": [
      "walk\n"
     ]
    }
   ],
   "source": [
    "pocket = ['paper','card','smartphone','pocket_money']\n",
    "money = 2000\n",
    "if money < 3000 :\n",
    "    A = pocket.index('pocket_money')\n",
    "    pocket.pop(A) \n",
    "else :\n",
    "    pass\n",
    "if 'card' in pocket and 'pocket_money' in pocket : # 처음에는 여기 조건문에서 그냥 > 3000으로 할라고 했는데 문자 자료형이라서 조건문 자체가 안먹히네\n",
    "    print (\"take a taxi\")\n",
    "else :\n",
    "    print (\"walk\") #이게 되네 시발"
   ]
  },
  {
   "cell_type": "code",
   "execution_count": 42,
   "metadata": {},
   "outputs": [
    {
     "data": {
      "text/plain": [
       "3"
      ]
     },
     "execution_count": 42,
     "metadata": {},
     "output_type": "execute_result"
    }
   ],
   "source": [
    "A #index값도 계속 바뀌네"
   ]
  },
  {
   "cell_type": "code",
   "execution_count": 49,
   "metadata": {},
   "outputs": [
    {
     "name": "stdout",
     "output_type": "stream",
     "text": [
      "walk hard\n"
     ]
    }
   ],
   "source": [
    "#elif 조건문 (else if의 준말인듯)\n",
    "#이전 조건문이 거짓일때 실행\n",
    "#그럼 위에 코드는 바꿀 수 있나\n",
    "pocket = ['paper','card','smartphone','pocket_money']\n",
    "money = 2000\n",
    "if money < 3000 :\n",
    "    A = pocket.index('pocket_money')\n",
    "    pocket.pop(A) \n",
    "    print(\"walk hard\")\n",
    "elif 'card' in pocket and 'pocket_money' in pocket : #elif는 갯수 제한 없다\n",
    "    print (\"take a taxi\")\n",
    "else :\n",
    "    print (\"walk\")"
   ]
  },
  {
   "cell_type": "code",
   "execution_count": 51,
   "metadata": {},
   "outputs": [
    {
     "name": "stdout",
     "output_type": "stream",
     "text": [
      "==================================================\n"
     ]
    }
   ],
   "source": [
    "'''if문 한 줄로 작성하기\n",
    ">>> pocket = ['paper', 'money', 'cellphone']\n",
    ">>> if 'money' in pocket: pass <-- 이렇게 조건문 뒤에 바로 콜론 찍어도 된다\n",
    "... else: print(\"카드를 꺼내라\")'''\n",
    "print(line)"
   ]
  },
  {
   "cell_type": "code",
   "execution_count": 54,
   "metadata": {},
   "outputs": [],
   "source": [
    "#조건부 표현식\n",
    "# 한줄로 간단히 표현할 수 있다.\n",
    "''' score = 60\n",
    "if score >= 60:\n",
    "    message = \"success\"\n",
    "else:\n",
    "    message = \"failure\" # 이 친구를'''\n",
    "score = 60\n",
    "message = \"success\" if score >= 60 else \"failure\" # 이렇게 간단히 표현 가능"
   ]
  },
  {
   "cell_type": "code",
   "execution_count": 93,
   "metadata": {},
   "outputs": [
    {
     "name": "stdout",
     "output_type": "stream",
     "text": [
      "==================================================\n",
      "@@@@@@@@@@@@@@@@@@@while 조건문@@@@@@@@@@@@@@@@@@@\n",
      "==================================================\n"
     ]
    }
   ],
   "source": [
    "print(line)\n",
    "print(\"{0:@^47}\".format(\"while 조건문\"))\n",
    "print(line)"
   ]
  },
  {
   "cell_type": "code",
   "execution_count": 62,
   "metadata": {},
   "outputs": [
    {
     "name": "stdout",
     "output_type": "stream",
     "text": [
      "나무를 1번 찍었습니다.\n",
      "나무를 2번 찍었습니다.\n",
      "나무를 3번 찍었습니다.\n",
      "나무를 4번 찍었습니다.\n",
      "나무를 5번 찍었습니다.\n",
      "나무를 6번 찍었습니다.\n",
      "나무를 7번 찍었습니다.\n",
      "나무를 8번 찍었습니다.\n",
      "나무를 9번 찍었습니다.\n",
      "나무를 10번 찍었습니다.\n",
      "나무 넘어갑니다.\n"
     ]
    }
   ],
   "source": [
    "#기본적으로 C와 똑같이 조건문이 참인 동안에 while문 아래의 문장이 반복되는것\n",
    "\n",
    "treeHit = 0 # treeHit 변수를 정수형으로 선언\n",
    "while treeHit < 10 : # 그래서 조건문에 treeHIt에 따옴표 안넣는다. 조건문 뒤에 : 기억\n",
    "    treeHit += 1 # treeHit = treeHit + 1와 동일한 구문임. 자주 사용하니까 기억하자\n",
    "    print(\"나무를 %d번 찍었습니다.\" %treeHit)\n",
    "    if treeHit == 10 :\n",
    "        print(\"나무 넘어갑니다.\")\n",
    "    else :pass"
   ]
  },
  {
   "cell_type": "code",
   "execution_count": 66,
   "metadata": {},
   "outputs": [
    {
     "name": "stdout",
     "output_type": "stream",
     "text": [
      "\n",
      "    1. Add\n",
      "    2. Del\n",
      "    3. List\n",
      "    4. Quit\n",
      "    \n",
      "    Enter number : \n",
      "1\n",
      "\n",
      "    1. Add\n",
      "    2. Del\n",
      "    3. List\n",
      "    4. Quit\n",
      "    \n",
      "    Enter number : \n",
      "2\n",
      "\n",
      "    1. Add\n",
      "    2. Del\n",
      "    3. List\n",
      "    4. Quit\n",
      "    \n",
      "    Enter number : \n",
      "3\n",
      "\n",
      "    1. Add\n",
      "    2. Del\n",
      "    3. List\n",
      "    4. Quit\n",
      "    \n",
      "    Enter number : \n",
      "4\n"
     ]
    }
   ],
   "source": [
    "#여러 가지 선택지 중 하나를 선택해서 입력받는 예제\n",
    "prompt = '''\n",
    "    1. Add\n",
    "    2. Del\n",
    "    3. List\n",
    "    4. Quit\n",
    "    \n",
    "    Enter number : ''' # 변수에 그냥 주석만 들어갈 수 도 있네 헐\n",
    "number = 0 #이걸 미리 선언해놓지 않으면 이하의 조건문에서 number 변수가 없다고 오류뜬다\n",
    "while number != 4:\n",
    "    print(prompt)\n",
    "    number = int(input()) #input함수가 사용자로부터 입력 받는 scanf 같은거고 앞에 int가 정수형을 받겠다는 뜻이네"
   ]
  },
  {
   "cell_type": "code",
   "execution_count": 67,
   "metadata": {},
   "outputs": [
    {
     "name": "stdout",
     "output_type": "stream",
     "text": [
      "==================================================\n"
     ]
    }
   ],
   "source": [
    "#break문\n",
    "#while문 강제로 빠져나가게 하는 구문, 항상 참인 조건으로 구동되는 조건문 탈출에 사용\n",
    "#내가 만든 coffee.psy 참고\n",
    "print(line)"
   ]
  },
  {
   "cell_type": "code",
   "execution_count": 21,
   "metadata": {},
   "outputs": [
    {
     "name": "stdout",
     "output_type": "stream",
     "text": [
      "1\n",
      "3\n",
      "5\n",
      "7\n",
      "9\n"
     ]
    }
   ],
   "source": [
    "# continue 문\n",
    "# while문을 빠져내가지 않고 while문의 맨 처음으로 돌아가게 하는 문...\n",
    "#EX\n",
    "\n",
    "a = 0\n",
    "while a< 10 : #a가 10 미만일때 쭉 실행\n",
    "    a= a+1\n",
    "    if a % 2 == 0:continue # 이 구문 없으면 그냥 1 ~10까지가 쭉print되는데,\n",
    "    print(a) #짝수들은 continue 구문을 실행해야하니까 (처음으로 올라가니까) print를 실행 안하는 것"
   ]
  },
  {
   "cell_type": "code",
   "execution_count": 90,
   "metadata": {},
   "outputs": [
    {
     "name": "stdout",
     "output_type": "stream",
     "text": [
      "==================================================\n",
      "@@@@@@@@@@@@@@@@@@@@@@for문@@@@@@@@@@@@@@@@@@@@@@@\n",
      "==================================================\n"
     ]
    }
   ],
   "source": [
    "print(line)\n",
    "print(\"{0:@^49}\".format(\"for문\")) # 새삼스럽지만 여기 format에 들어가는 요소?는 실제 글자수에 관계 없이 한 덩어리로 보는듯. (띄어쓰기로만 덩어리 구분하는듯)\n",
    "print(line)"
   ]
  },
  {
   "cell_type": "code",
   "execution_count": 98,
   "metadata": {},
   "outputs": [
    {
     "name": "stdout",
     "output_type": "stream",
     "text": [
      "one\n",
      "two\n",
      "three\n"
     ]
    }
   ],
   "source": [
    "#for문은 예제를 통해서 살펴보는 것이 가장 알기 쉽다\n",
    "\n",
    "test_list = ['one','two','three']\n",
    "for i in test_list : #test_list에 있는 i 라는 뜻이 되는데...그럼 test_list의 객체를 i 로 취급한다??\n",
    "    print(i) # test_list에 있는 객체들을 다 순서대로 i로 취급한거임. 그래서 one,two, three가 차례로 print 된것"
   ]
  },
  {
   "cell_type": "code",
   "execution_count": 102,
   "metadata": {},
   "outputs": [
    {
     "name": "stdout",
     "output_type": "stream",
     "text": [
      "1번 학생은 합격입니다.\n",
      "2번 학생은 불합격입니다.\n",
      "3번 학생은 합격입니다.\n",
      "4번 학생은 불합격입니다.\n",
      "5번 학생은 합격입니다.\n"
     ]
    }
   ],
   "source": [
    "marks = [90,2,67,45,80]\n",
    "number = 0\n",
    "for mark in marks :\n",
    "    number += 1 #marks의 요소를 전부 순서대로 mark로 대입된다... 그 동안 number +=1 는 무조건 실행된다\n",
    "    if mark >= 60 :\n",
    "        print(\"%d번 학생은 합격입니다.\" %number)\n",
    "    elif mark < 60 :\n",
    "        print(\"%d번 학생은 불합격입니다.\" %number)"
   ]
  },
  {
   "cell_type": "code",
   "execution_count": 103,
   "metadata": {},
   "outputs": [
    {
     "name": "stdout",
     "output_type": "stream",
     "text": [
      "1번 학생 합격입니다!\n",
      "3번 학생 합격입니다!\n",
      "5번 학생 합격입니다!\n"
     ]
    }
   ],
   "source": [
    "marks = [90,2,67,45,80]\n",
    "number = 0\n",
    "for mark in marks :\n",
    "    number +=1\n",
    "    if mark < 60 :\n",
    "        continue # continue 구문은 여기에 걸리면 그냥 밑에 내용 수행 없이 바로 for 처음으로 돌아간다...\n",
    "    print (\"%d번 학생 합격입니다!\" %number)"
   ]
  },
  {
   "cell_type": "code",
   "execution_count": 104,
   "metadata": {},
   "outputs": [
    {
     "name": "stdout",
     "output_type": "stream",
     "text": [
      "==================================================\n"
     ]
    }
   ],
   "source": [
    "print(line)"
   ]
  },
  {
   "cell_type": "code",
   "execution_count": 1,
   "metadata": {},
   "outputs": [
    {
     "name": "stdout",
     "output_type": "stream",
     "text": [
      "4번 학생, 합격입니다\n",
      "5번 학생, 합격입니다\n"
     ]
    }
   ],
   "source": [
    "#range 함수\n",
    "#range (x,y)는 숫자 x부터 y 까지 숫자를 데이터로 갖는 객체다.\n",
    "#range를 이용한 위 코드를 간단하게 만들어보자\n",
    "\n",
    "marks = [20,40,59,80,60]\n",
    "for number in range(len(marks)): #range(len(marks)) 요솟값을 number로 부르겠다\n",
    "    if marks[number] < 60 : #marks[number] 여기서는 number가 숫자가 되겠지? marks 리스트의 [number]번째 요소가 < 60 이하라면~~ 이라는 뜻\n",
    "        continue\n",
    "    print(\"%d번 학생, 합격입니다\" %(number+1)) # +1 붙이는 이유는 파이썬은 0부터 세기 때문에"
   ]
  },
  {
   "cell_type": "code",
   "execution_count": 11,
   "metadata": {},
   "outputs": [
    {
     "name": "stdout",
     "output_type": "stream",
     "text": [
      "2 4 6 8 10 12 14 16 18  \n",
      "3 6 9 12 15 18 21 24 27  \n",
      "4 8 12 16 20 24 28 32 36  \n",
      "5 10 15 20 25 30 35 40 45  \n",
      "6 12 18 24 30 36 42 48 54  \n",
      "7 14 21 28 35 42 49 56 63  \n",
      "8 16 24 32 40 48 56 64 72  \n",
      "9 18 27 36 45 54 63 72 81  \n"
     ]
    }
   ],
   "source": [
    "for i in range(2,10) :\n",
    "    for j in range(1,10):\n",
    "        print(i*j, end = \" \") #end 붙여준 이유는 이번 for j 루프 빠지기 전까지는 줄 바꾸지 말라고 끝을 (end)를 \" \"로 잡은거\n",
    "    print(' ')"
   ]
  },
  {
   "cell_type": "code",
   "execution_count": 16,
   "metadata": {},
   "outputs": [
    {
     "name": "stdout",
     "output_type": "stream",
     "text": [
      "[3, 6, 9, 12]\n"
     ]
    }
   ],
   "source": [
    "#리스트 내포 사용하기\n",
    "#리스트 내포란 ?? 리스트 안에 for문을 포함하는 것이다\n",
    "#리스트내포 사용 전 코드 예시\n",
    "\n",
    "a = range(1,5) # 1~4까지 들어있는 객체임. 마지막 숫자는 포함 안한다는 걸 기억하자\n",
    "result = []\n",
    "for i in a :\n",
    "    result.append(i*3) # .append <--- 앞에 있는 객체에 괄호의 요소를 쑤셔넣는 함수\n",
    "print(result)"
   ]
  },
  {
   "cell_type": "code",
   "execution_count": 18,
   "metadata": {},
   "outputs": [
    {
     "name": "stdout",
     "output_type": "stream",
     "text": [
      "[3, 6, 9, 12]\n"
     ]
    }
   ],
   "source": [
    "#리스트 내포로 간단히 만든것\n",
    "a = range(1,5)\n",
    "result = [i*3 for i in a]#리스트에 들어간 for는 : 없어도 된다\n",
    "print(result) #리스트 안에서 반복하는구나...."
   ]
  },
  {
   "cell_type": "code",
   "execution_count": 20,
   "metadata": {},
   "outputs": [
    {
     "name": "stdout",
     "output_type": "stream",
     "text": [
      "[6, 12]\n"
     ]
    }
   ],
   "source": [
    "#리스트 내포 사용과 동시에 조건문도 사용 가능\n",
    "a = range(1,5)\n",
    "result = [i*3 for i in a if i%2 == 0] # if a%2 == 0 으로 하면 에러. a는 range 객체이고 i 는 정수객체이기 때문에 사칙 연산이 가능 한 정수 객체 i를 써야한다\n",
    "print(result)"
   ]
  },
  {
   "cell_type": "code",
   "execution_count": 22,
   "metadata": {},
   "outputs": [
    {
     "name": "stdout",
     "output_type": "stream",
     "text": [
      "166833\n"
     ]
    }
   ],
   "source": [
    "a = 1\n",
    "sum3 = 0\n",
    "while a <= 1000:\n",
    "    if a % 3 == 0 : \n",
    "        sum3 = sum3 + a\n",
    "    a += 1\n",
    "print(sum3)"
   ]
  },
  {
   "cell_type": "code",
   "execution_count": 23,
   "metadata": {},
   "outputs": [
    {
     "ename": "NameError",
     "evalue": "name 'dd' is not defined",
     "output_type": "error",
     "traceback": [
      "\u001b[1;31m---------------------------------------------------------------------------\u001b[0m",
      "\u001b[1;31mNameError\u001b[0m                                 Traceback (most recent call last)",
      "\u001b[1;32m<ipython-input-23-06f342d4bc0b>\u001b[0m in \u001b[0;36m<module>\u001b[1;34m\u001b[0m\n\u001b[1;32m----> 1\u001b[1;33m \u001b[0mdd\u001b[0m\u001b[1;33m\u001b[0m\u001b[1;33m\u001b[0m\u001b[0m\n\u001b[0m",
      "\u001b[1;31mNameError\u001b[0m: name 'dd' is not defined"
     ]
    }
   ],
   "source": [
    "dd"
   ]
  },
  {
   "cell_type": "code",
   "execution_count": null,
   "metadata": {},
   "outputs": [],
   "source": []
  }
 ],
 "metadata": {
  "kernelspec": {
   "display_name": "Python 3",
   "language": "python",
   "name": "python3"
  },
  "language_info": {
   "codemirror_mode": {
    "name": "ipython",
    "version": 3
   },
   "file_extension": ".py",
   "mimetype": "text/x-python",
   "name": "python",
   "nbconvert_exporter": "python",
   "pygments_lexer": "ipython3",
   "version": "3.8.3"
  }
 },
 "nbformat": 4,
 "nbformat_minor": 4
}
