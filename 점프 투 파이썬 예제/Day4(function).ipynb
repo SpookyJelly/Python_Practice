{
 "cells": [
  {
   "cell_type": "code",
   "execution_count": 1,
   "metadata": {},
   "outputs": [
    {
     "name": "stdout",
     "output_type": "stream",
     "text": [
      "7\n"
     ]
    }
   ],
   "source": [
    "line = \"=\" * 50\n",
    "#함수 : 똑같은 내용 반복을 생략하게 도와주는 것\n",
    "#파이썬 함수의 구조는 다음과 같다.\n",
    "# def 함수명 (매개변수) :\n",
    "#     <수행할 문장 >\n",
    "\n",
    "def add (a,b) : #a,b를 변수로 받는 add라는 함수이고 , 여기서 함수를 만드는 def는 예약어이다. print와 같은 타임\n",
    "    return a+ b # 그 역할은 a+b를 return 해준다\n",
    "\n",
    "\n",
    "a = 3\n",
    "b = 4\n",
    "\n",
    "c= add(a,b)\n",
    "print(c)"
   ]
  },
  {
   "cell_type": "code",
   "execution_count": 2,
   "metadata": {},
   "outputs": [
    {
     "name": "stdout",
     "output_type": "stream",
     "text": [
      "7\n"
     ]
    }
   ],
   "source": [
    "#매개변수와 인수\n",
    "# 매개변수 : 함수에 입력으로 전달 된 값을 받는 변수\n",
    "# 인수 : 함수를 호출할 때 전달하는 입력값\n",
    "\n",
    "def add(a,b) : # a,b는 매개변수\n",
    "    return a+b\n",
    "\n",
    "print(add(3,4)) # 3,4 는 인수"
   ]
  },
  {
   "cell_type": "code",
   "execution_count": 3,
   "metadata": {},
   "outputs": [
    {
     "name": "stdout",
     "output_type": "stream",
     "text": [
      "==================================================\n"
     ]
    }
   ],
   "source": [
    "'''함수의 종류\n",
    "\n",
    "일반적인 함수 : 입력값이 있고 결과값이 있는 함수 --> 아까 위에서 만든 add같은 함수\n",
    "입력값이 없는 함수 : 결과값만 출력하는 함수 // 결과값을 받을 변수 = 함수이름() 꼴로 사용\n",
    "결과값이 없는 함수 : 입력값이 없는 함수 // 함수이름(입력인수1,입력인수2) 꼴로 사용\n",
    "둘다 없는 함수 : 오잉?''' \n",
    "print(line)"
   ]
  },
  {
   "cell_type": "code",
   "execution_count": 8,
   "metadata": {},
   "outputs": [
    {
     "name": "stdout",
     "output_type": "stream",
     "text": [
      "Hi\n"
     ]
    }
   ],
   "source": [
    "#입력값이 없는 함수 예시\n",
    "def say(): # 여기 입력 매개변수를 비어서 설정했음. 따라서 입력값이 없다\n",
    "    return (\"Hi\") #결과값은return 명령어로만 받을 수 있음. 이번 행에서 Hi라는 것을 반환 받음\n",
    "a = say() #결과값을 받을 변수인 a 에 say 함수를 넣음\n",
    "print (a)"
   ]
  },
  {
   "cell_type": "code",
   "execution_count": 11,
   "metadata": {},
   "outputs": [
    {
     "name": "stdout",
     "output_type": "stream",
     "text": [
      "3, 4의 합은 7입니다.\n",
      "None\n"
     ]
    }
   ],
   "source": [
    "#결과값이 없는 함수 예시\n",
    "def add (a,b) :\n",
    "    print (\"%d, %d의 합은 %d입니다.\" %(a,b,a+b)) #마지막 정수 포매팅한걸 잘 봐라, 여러가지 정수가 들어갈때, %() 꼴로 쓴다. 문법 주의\n",
    "\n",
    "    \n",
    "a = add(3,4) # print문은 그냥 수행할 문장에 해당하는 것이라 문장이 출력되는것. 결과값이 아니다\n",
    "\n",
    "print(a) #결과값은 오직 return 명령어로만 받을 수 있기에 a만 따로 출력했을때 None이 나오는 것이다\n",
    "    "
   ]
  },
  {
   "cell_type": "code",
   "execution_count": 13,
   "metadata": {},
   "outputs": [
    {
     "name": "stdout",
     "output_type": "stream",
     "text": [
      "Hi\n",
      "None\n",
      "Hi\n"
     ]
    }
   ],
   "source": [
    "# 입력값도 결과값도 없는 함수 예시\n",
    "def say(): # 입력매개변수 슬롯이 비어있다 --> 입력값 없음\n",
    "    print('Hi') # return 명령어 없이 print 예약어만 걸려있고 함수 끝 ---> 결과값 없음\n",
    "b = say() #한 변수에 say()함수를 넣을 수는 있다.\n",
    "print(b) #그러나 그 변수를 출력하면 결과 값이 없기 때문에 None이 나온다\n",
    "say() # 이런 입력값, 결과값 없는 함수를 사용할 떄는 그냥 함수를 호출하는 방법 밖에 없다."
   ]
  },
  {
   "cell_type": "code",
   "execution_count": 17,
   "metadata": {},
   "outputs": [
    {
     "name": "stdout",
     "output_type": "stream",
     "text": [
      "10\n",
      "3\n"
     ]
    }
   ],
   "source": [
    "#매개변수 지정하여 호출하기\n",
    "#함수를 호출할 때 매개변수를 지정할 수 도 있다.\n",
    "def add(a,b):\n",
    "    return a+b\n",
    "result = add(a=3,b=7) #그냥 a,b 슬롯에 맞추어 값을 넣어도 되지만, 여기서는 예시를 들기 위해 매개변수 지정\n",
    "print (result) # 동일한 결과\n",
    "\n",
    "result_2 = add(b=2, a=1) #매개변수를 지정하면 순서와 상관없이 사용할 수 있는 장점\n",
    "print(result_2)"
   ]
  },
  {
   "cell_type": "code",
   "execution_count": 29,
   "metadata": {},
   "outputs": [
    {
     "name": "stdout",
     "output_type": "stream",
     "text": [
      "==================================================\n",
      "@@@@@@@@@@입력값이 몇개인지 모르는 함수@@@@@@@@@@@\n",
      "==================================================\n"
     ]
    }
   ],
   "source": [
    "print(line)\n",
    "print(\"{0:@^37}\".format(\"입력값이 몇개인지 모르는 함수\"))\n",
    "print(line)"
   ]
  },
  {
   "cell_type": "code",
   "execution_count": 30,
   "metadata": {},
   "outputs": [],
   "source": [
    "#기본적으로 매개변수 앞에 *를 붙이면 입력값을 전부 모아서\"튜플\"로 바꿔준다\n",
    "\n",
    "def add_many(*args) :\n",
    "    result = 0\n",
    "    for i in args:\n",
    "        result += i\n",
    "    return result"
   ]
  },
  {
   "cell_type": "code",
   "execution_count": 33,
   "metadata": {},
   "outputs": [
    {
     "data": {
      "text/plain": [
       "15"
      ]
     },
     "execution_count": 33,
     "metadata": {},
     "output_type": "execute_result"
    }
   ],
   "source": [
    "add_many(1,2,3,4,5)"
   ]
  },
  {
   "cell_type": "code",
   "execution_count": 34,
   "metadata": {},
   "outputs": [
    {
     "data": {
      "text/plain": [
       "21"
      ]
     },
     "execution_count": 34,
     "metadata": {},
     "output_type": "execute_result"
    }
   ],
   "source": [
    "add_many(1,2,3,4,5,6) #보다 시피"
   ]
  },
  {
   "cell_type": "code",
   "execution_count": 39,
   "metadata": {},
   "outputs": [],
   "source": [
    "#하지만 여러 개의 입력을 처리할 때 *꼴과 비*꼴을 혼용할 수 있다.\n",
    "\n",
    "def add_mul(choice, *args): \n",
    "    if choice == \"add\":\n",
    "        result = 0 \n",
    "        for i in args: \n",
    "            result = result + i \n",
    "    elif choice == \"mul\":\n",
    "        result = 1 \n",
    "        for i in args:\n",
    "             result = result * i\n",
    "    return result "
   ]
  },
  {
   "cell_type": "code",
   "execution_count": 45,
   "metadata": {},
   "outputs": [
    {
     "name": "stdout",
     "output_type": "stream",
     "text": [
      "15\n"
     ]
    }
   ],
   "source": [
    "answer =add_mul('add',1,2,3,4,5) # 문자 변수로 add가 오니 if 문에 따라서 더하기 구문 실행\n",
    "print(answer)"
   ]
  },
  {
   "cell_type": "code",
   "execution_count": 46,
   "metadata": {},
   "outputs": [
    {
     "name": "stdout",
     "output_type": "stream",
     "text": [
      "120\n"
     ]
    }
   ],
   "source": [
    "answer = add_mul('mul',1,2,3,4,5) #문자로 mul이 오니 elif에 따라서 곱하기 실행\n",
    "print(answer)"
   ]
  },
  {
   "cell_type": "code",
   "execution_count": 47,
   "metadata": {},
   "outputs": [
    {
     "ename": "UnboundLocalError",
     "evalue": "local variable 'result' referenced before assignment",
     "output_type": "error",
     "traceback": [
      "\u001b[1;31m---------------------------------------------------------------------------\u001b[0m",
      "\u001b[1;31mUnboundLocalError\u001b[0m                         Traceback (most recent call last)",
      "\u001b[1;32m<ipython-input-47-5d88469c7c52>\u001b[0m in \u001b[0;36m<module>\u001b[1;34m\u001b[0m\n\u001b[1;32m----> 1\u001b[1;33m \u001b[0manswer\u001b[0m \u001b[1;33m=\u001b[0m \u001b[0madd_mul\u001b[0m\u001b[1;33m(\u001b[0m\u001b[1;34m'diff'\u001b[0m\u001b[1;33m,\u001b[0m\u001b[1;36m1\u001b[0m\u001b[1;33m,\u001b[0m\u001b[1;36m2\u001b[0m\u001b[1;33m,\u001b[0m\u001b[1;36m3\u001b[0m\u001b[1;33m,\u001b[0m\u001b[1;36m4\u001b[0m\u001b[1;33m,\u001b[0m\u001b[1;36m5\u001b[0m\u001b[1;33m)\u001b[0m\u001b[1;33m\u001b[0m\u001b[1;33m\u001b[0m\u001b[0m\n\u001b[0m",
      "\u001b[1;32m<ipython-input-39-f839e053c9c3>\u001b[0m in \u001b[0;36madd_mul\u001b[1;34m(choice, *args)\u001b[0m\n\u001b[0;32m     10\u001b[0m         \u001b[1;32mfor\u001b[0m \u001b[0mi\u001b[0m \u001b[1;32min\u001b[0m \u001b[0margs\u001b[0m\u001b[1;33m:\u001b[0m\u001b[1;33m\u001b[0m\u001b[1;33m\u001b[0m\u001b[0m\n\u001b[0;32m     11\u001b[0m              \u001b[0mresult\u001b[0m \u001b[1;33m=\u001b[0m \u001b[0mresult\u001b[0m \u001b[1;33m*\u001b[0m \u001b[0mi\u001b[0m\u001b[1;33m\u001b[0m\u001b[1;33m\u001b[0m\u001b[0m\n\u001b[1;32m---> 12\u001b[1;33m     \u001b[1;32mreturn\u001b[0m \u001b[0mresult\u001b[0m\u001b[1;33m\u001b[0m\u001b[1;33m\u001b[0m\u001b[0m\n\u001b[0m",
      "\u001b[1;31mUnboundLocalError\u001b[0m: local variable 'result' referenced before assignment"
     ]
    }
   ],
   "source": [
    "answer = add_mul('diff',1,2,3,4,5) # choice에 조건문에 지정되지 않은 문자 오니까 에러"
   ]
  },
  {
   "cell_type": "code",
   "execution_count": 54,
   "metadata": {},
   "outputs": [
    {
     "name": "stdout",
     "output_type": "stream",
     "text": [
      "==================================================\n",
      "@@@@@@@@@@@@@@키워드 파라미터 kwargs@@@@@@@@@@@@@@@\n",
      "==================================================\n"
     ]
    }
   ],
   "source": [
    "print(line)\n",
    "print('{0:@^44}'.format(\"키워드 파라미터 kwargs\"))\n",
    "print(line)"
   ]
  },
  {
   "cell_type": "code",
   "execution_count": 59,
   "metadata": {},
   "outputs": [
    {
     "name": "stdout",
     "output_type": "stream",
     "text": [
      "{'a': 1, 'b': 'shit'}\n"
     ]
    }
   ],
   "source": [
    "#키워드 파라미터를 사용할 때는 매개변수 앞에 별 두개를 (**) 붙인다\n",
    "\n",
    "def print_kwargs(**kwargs):\n",
    "    print(kwargs)\n",
    "\n",
    "print_kwargs(a=1, b='shit')#보다 시피 매개변수 이름 앞에 **를 붙이면 그 매개변수는 \n",
    "#딕셔너리가 된다. 여기서는 kwargs가 딕셔너리가 된것."
   ]
  },
  {
   "cell_type": "code",
   "execution_count": 97,
   "metadata": {},
   "outputs": [],
   "source": [
    "#맨날 제목 만들기 귀찮아서 함수로 만들어봤다 (절충안)\n",
    "line = '='* 50\n",
    "def title_output(a) :\n",
    "    print (line)\n",
    "    print ('{0:50}'.format(a))\n",
    "    print (line)\n",
    "# 백업해야지    "
   ]
  },
  {
   "cell_type": "code",
   "execution_count": 99,
   "metadata": {},
   "outputs": [
    {
     "name": "stdout",
     "output_type": "stream",
     "text": [
      "==================================================\n",
      "함수의 결과값은 언제나 하나이다                                 \n",
      "==================================================\n"
     ]
    }
   ],
   "source": [
    "title_output('함수의 결과값은 언제나 하나이다')"
   ]
  },
  {
   "cell_type": "code",
   "execution_count": 100,
   "metadata": {},
   "outputs": [],
   "source": [
    "def add_and_mul(a,b): \n",
    "    return a+b, a*b # 리턴의 결과값이 2개인데"
   ]
  },
  {
   "cell_type": "code",
   "execution_count": 102,
   "metadata": {},
   "outputs": [
    {
     "name": "stdout",
     "output_type": "stream",
     "text": [
      "(7, 12)\n"
     ]
    }
   ],
   "source": [
    "result = add_and_mul(3,4) #그걸 받는 result는 한개 변수네? 오류 안생기나??\n",
    "print(result) # 안생긴다. 튜플값 하나 꼴로 돌려주었다"
   ]
  },
  {
   "cell_type": "code",
   "execution_count": 104,
   "metadata": {},
   "outputs": [
    {
     "name": "stdout",
     "output_type": "stream",
     "text": [
      "7 12\n"
     ]
    }
   ],
   "source": [
    "#만약에 2개 결과값처럼 받고 싶다면 다음과 깉이 함수 호출\n",
    "result1,result2 = add_and_mul(3,4)\n",
    "print(result1,result2) #보다시피 각 변수에 하나씩의 결과값이 들어감"
   ]
  },
  {
   "cell_type": "code",
   "execution_count": 106,
   "metadata": {},
   "outputs": [
    {
     "name": "stdout",
     "output_type": "stream",
     "text": [
      "5\n"
     ]
    }
   ],
   "source": [
    "#반대로 return 명령어가 2개인 경우는??\n",
    "def add_and_mul(a,b) :\n",
    "    return a+b\n",
    "    return a*b\n",
    "\n",
    "result = add_and_mul(2,3)\n",
    "print(result) #보다시피 첫번째 리턴값만 반환되고 끝. 함수는 return 하나를 해결하면 바로 종료된다고\n",
    "#생각해도 좋을듯. 두번째 리턴은 실행되지 않았다는 뜻."
   ]
  },
  {
   "cell_type": "code",
   "execution_count": 107,
   "metadata": {},
   "outputs": [],
   "source": [
    "#이에 착안해 return으로 함수를 빠져나가는 방법은 많이 쓴다\n",
    "def say_nick(nick) :\n",
    "    if nick == \"바보\":\n",
    "        return\n",
    "    print(\"나의 별명은 %s입니다.\"% nick)"
   ]
  },
  {
   "cell_type": "code",
   "execution_count": 109,
   "metadata": {},
   "outputs": [
    {
     "name": "stdout",
     "output_type": "stream",
     "text": [
      "나의 별명은 안녕입니다.\n"
     ]
    }
   ],
   "source": [
    "say_nick('안녕')"
   ]
  },
  {
   "cell_type": "code",
   "execution_count": 110,
   "metadata": {},
   "outputs": [],
   "source": [
    "say_nick('바보') #if에 명시된'바보'를 입력하자 return으로 들어가서 함수가 종료됨"
   ]
  },
  {
   "cell_type": "code",
   "execution_count": 111,
   "metadata": {},
   "outputs": [],
   "source": [
    "#매개변수에 초깃값 미리 설정하기\n",
    "def say_myself(name, old, man=True): #man으로 이름지어진 매개변수를 True로 초기값 지정\n",
    "    print(\"나의 이름은 %s 입니다.\" % name) \n",
    "    print(\"나이는 %d살입니다.\" % old) \n",
    "    if man: \n",
    "        print(\"남자입니다.\")\n",
    "    else: \n",
    "        print(\"여자입니다.\")"
   ]
  },
  {
   "cell_type": "code",
   "execution_count": 112,
   "metadata": {},
   "outputs": [
    {
     "name": "stdout",
     "output_type": "stream",
     "text": [
      "나의 이름은 박응용 입니다.\n",
      "나이는 27살입니다.\n",
      "남자입니다.\n"
     ]
    }
   ],
   "source": [
    "say_myself(\"박응용\", 27) #man 변수를 입력하지 않았지만, 이미 자동으로 True로 입력 되었기에\n",
    "# '남자입니다.'문장이 출력됨\n",
    "#주의 사항) 초기값 지정할 매개변수를 맨 마지막에 입력해야함.\n",
    "#그렇지 않으면 그 다음에 오는 값을 어떤 매개변수에 넣어야하는지 몰라서 에러..."
   ]
  },
  {
   "cell_type": "code",
   "execution_count": 113,
   "metadata": {},
   "outputs": [
    {
     "ename": "SyntaxError",
     "evalue": "non-default argument follows default argument (<ipython-input-113-34c945d0957e>, line 2)",
     "output_type": "error",
     "traceback": [
      "\u001b[1;36m  File \u001b[1;32m\"<ipython-input-113-34c945d0957e>\"\u001b[1;36m, line \u001b[1;32m2\u001b[0m\n\u001b[1;33m    def say_myself(name, man=True, old):\u001b[0m\n\u001b[1;37m                   ^\u001b[0m\n\u001b[1;31mSyntaxError\u001b[0m\u001b[1;31m:\u001b[0m non-default argument follows default argument\n"
     ]
    }
   ],
   "source": [
    "#초기값 지정 매개변수를 중간에 넣었을 때 예시\n",
    "def say_myself(name, man=True, old): \n",
    "    print(\"나의 이름은 %s 입니다.\" % name) \n",
    "    print(\"나이는 %d살입니다.\" % old) \n",
    "    if man: \n",
    "        print(\"남자입니다.\") \n",
    "    else: \n",
    "        print(\"여자입니다.\")\n",
    "        \n",
    "say_myself(\"박응용\",27) # 이 27이 man에 들어가는건지, old에 들어가는건지 판단을 못해서 에러 발생"
   ]
  },
  {
   "cell_type": "code",
   "execution_count": 114,
   "metadata": {},
   "outputs": [
    {
     "name": "stdout",
     "output_type": "stream",
     "text": [
      "==================================================\n",
      "함수 안에서 선언한 변수의 효력범위                               \n",
      "==================================================\n"
     ]
    }
   ],
   "source": [
    "title_output(\"함수 안에서 선언한 변수의 효력범위\")"
   ]
  },
  {
   "cell_type": "code",
   "execution_count": 120,
   "metadata": {},
   "outputs": [
    {
     "name": "stdout",
     "output_type": "stream",
     "text": [
      "1\n",
      "2\n"
     ]
    }
   ],
   "source": [
    "'''결론부터 말하면 함수 안에서 사용하는 매개변수는\n",
    "함수 밖의 변수 이름과는 전혀 상관이 없다'''\n",
    "a = 1\n",
    "def vartest(a):\n",
    "    a = a +1\n",
    "    return a\n",
    "print(a) # 1행에 기재된 a라는 값 자체를 출력\n",
    "print(vartest(a)) #vartest 함수에 a를 넣고 그 return 값을 출력\n",
    "\n",
    "#vartest 함수에 들어가는 매개변수 이름을 a로 하여도, a라는 변수 값은 바뀌지 않는다"
   ]
  },
  {
   "cell_type": "code",
   "execution_count": 121,
   "metadata": {},
   "outputs": [
    {
     "name": "stdout",
     "output_type": "stream",
     "text": [
      "2\n"
     ]
    }
   ],
   "source": [
    "# 그럼 함수를 사용해서 함수 외부 변수를 바꿀 수 없는건가?\n",
    "# 가능은 하다.\n",
    "# 방법 1. 함수 밖에서 외부 변수값 == 함수 값으로 명령하기\n",
    "a = 1 \n",
    "def vartest(a): \n",
    "    a = a +1 \n",
    "    return a\n",
    "\n",
    "a = vartest(a) # a라는 변수를 vartest 함수를 거쳐서 나온 값으로 재지정한다\n",
    "print(a)"
   ]
  },
  {
   "cell_type": "code",
   "execution_count": 124,
   "metadata": {},
   "outputs": [
    {
     "name": "stdout",
     "output_type": "stream",
     "text": [
      "2\n"
     ]
    }
   ],
   "source": [
    "#방법 2. global 명령어 사용하기\n",
    "a = 1 \n",
    "def vartest(): \n",
    "    global a # 함수 외부에 지정되어 있는 a라는 변수를 직접 끌어오겠다고 하는거\n",
    "    a = a+1 #만약에 외부에 a라는 변수가 지정되어 있지 않다면 당연히 에러 나겠지\n",
    "\n",
    "vartest() # 입력값이 없는 함수니까 그냥 호출. 널 사용하겠다고 하는거임\n",
    "print(a)\n",
    "\n",
    "# 함수는 독립적으로 존재해야하는 것이 좋기에, 가급적 사용하지마라"
   ]
  },
  {
   "cell_type": "code",
   "execution_count": 125,
   "metadata": {},
   "outputs": [
    {
     "name": "stdout",
     "output_type": "stream",
     "text": [
      "==================================================\n",
      "lambda 예약어                                        \n",
      "==================================================\n"
     ]
    }
   ],
   "source": [
    "title_output(\"lambda 예약어\")"
   ]
  },
  {
   "cell_type": "code",
   "execution_count": 126,
   "metadata": {},
   "outputs": [
    {
     "name": "stdout",
     "output_type": "stream",
     "text": [
      "7\n"
     ]
    }
   ],
   "source": [
    "# lambda는 함수를 생성할때 사용하는 예약어(함수 표현식)이다.\n",
    "# 주로 복잡하지 않은 함수를 생성하거나, def를 못 쓰는 곳에 사용\n",
    "# 특징 : return 명령어 없어도 결괏값을 항상 반환\n",
    "# 특징 2 : 이름을 지정안해도 되기에,이름공간에 저장되지 않는다\n",
    "# 예시 1\n",
    "\n",
    "add = lambda a,b : a+b #,로 들어가는 변수들 지정. :로 변수들의 처리결과 표식\n",
    "result = add(3,4)\n",
    "print (result)"
   ]
  },
  {
   "cell_type": "code",
   "execution_count": 128,
   "metadata": {},
   "outputs": [
    {
     "data": {
      "text/plain": [
       "'<lambda>'"
      ]
     },
     "execution_count": 128,
     "metadata": {},
     "output_type": "execute_result"
    }
   ],
   "source": [
    "add.__name__ #add의 속성은 람다라고 나옴."
   ]
  },
  {
   "cell_type": "code",
   "execution_count": 133,
   "metadata": {},
   "outputs": [
    {
     "data": {
      "text/plain": [
       "function"
      ]
     },
     "execution_count": 133,
     "metadata": {},
     "output_type": "execute_result"
    }
   ],
   "source": [
    "add.__class__ # 람다도 함수의 일종이기에 클래스는 펑션이다."
   ]
  },
  {
   "cell_type": "code",
   "execution_count": 134,
   "metadata": {},
   "outputs": [
    {
     "data": {
      "text/plain": [
       "<function __main__.<lambda>(a)>"
      ]
     },
     "execution_count": 134,
     "metadata": {},
     "output_type": "execute_result"
    }
   ],
   "source": [
    "lambda a : a # 이렇게 람다만을 이용해서 함수표현식으로 만들수 있지만, 변수에 값을 저장하지 않아서 처리가 안됨"
   ]
  },
  {
   "cell_type": "code",
   "execution_count": 135,
   "metadata": {},
   "outputs": [
    {
     "data": {
      "text/plain": [
       "5"
      ]
     },
     "execution_count": 135,
     "metadata": {},
     "output_type": "execute_result"
    }
   ],
   "source": [
    "(lambda a : a)(5) # 하지만 괄호 안에 함수표현식을 정의하고 다시 괄호를 써서 값을 넣으면 \n",
    "#넣은 값이 매개변수에 할당되서 결과값을 반환받을 수 있음"
   ]
  },
  {
   "cell_type": "code",
   "execution_count": null,
   "metadata": {},
   "outputs": [],
   "source": []
  }
 ],
 "metadata": {
  "kernelspec": {
   "display_name": "Python 3",
   "language": "python",
   "name": "python3"
  },
  "language_info": {
   "codemirror_mode": {
    "name": "ipython",
    "version": 3
   },
   "file_extension": ".py",
   "mimetype": "text/x-python",
   "name": "python",
   "nbconvert_exporter": "python",
   "pygments_lexer": "ipython3",
   "version": "3.8.3"
  }
 },
 "nbformat": 4,
 "nbformat_minor": 4
}
