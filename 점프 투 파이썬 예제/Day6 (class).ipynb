{
 "cells": [
  {
   "cell_type": "code",
   "execution_count": 1,
   "metadata": {},
   "outputs": [
    {
     "name": "stdout",
     "output_type": "stream",
     "text": [
      "==================================================\n"
     ]
    }
   ],
   "source": [
    "#클래스는 무엇인가?\n",
    "'''파이썬 입문 교재에서는 자동차로 치면 프레임 설계도 역할을 한다는데..\n",
    "C 같은 언어에서는 없는 개념이잖아. \n",
    "J2P에서는 길게 설명하긴 했는데, 결국 함수 꾸러미들을 모아 어디에 저장해놓은 다음\n",
    "필요할때마다 불러서 쓸 수 있는 것이 클래스 같다.\n",
    "--> 똑같은 무언가를 계속해서 만들어낼수 있는 \"틀\" --> 이게 클래스\n",
    "그리고 그 클래스로 만들어진 것들이 \"객체\"(인스턴스)\n",
    "--> 동일한 클래스로 만든 객체라고 해도 그들은 서로 독립적이다.\n",
    "--> 한 객체의 손상이 다른 객체에 영향을 미치지 않는다.'''\n",
    "line = \"=\"*50\n",
    "print(line)"
   ]
  },
  {
   "cell_type": "code",
   "execution_count": 3,
   "metadata": {},
   "outputs": [
    {
     "data": {
      "text/plain": [
       "__main__.Fourcal"
      ]
     },
     "execution_count": 3,
     "metadata": {},
     "output_type": "execute_result"
    }
   ],
   "source": [
    "#실습을 통한 학습 _ 사칙연산을 가능하게 하는 클래스 만들기\n",
    "\n",
    "class Fourcal : # class 명령어를 통해 클래스를 만든다\n",
    "    pass #일단 아무 기능없이 만들었다.\n",
    "\n",
    "a = Fourcal()\n",
    "type(a) #a를 Fourcal 객체로 만든후 타입 확인. a는 Fourcal 클래스의 객체임이라고 나옴"
   ]
  },
  {
   "cell_type": "code",
   "execution_count": 12,
   "metadata": {},
   "outputs": [
    {
     "name": "stdout",
     "output_type": "stream",
     "text": [
      "==================================================\n"
     ]
    }
   ],
   "source": [
    "class Fourcal :\n",
    "    def setdata(self,first,second): #메서드(클래스 안의 함수)의 매개변수\n",
    "        self.first = first #메서드의 수행문\n",
    "        self.second = second #메서드의 수행문\n",
    "#setdata 메서드는 (self,)라는 변수가 들어가는데, 이것은 이후 자기자신을 호출한 후 전달하기 위해서 쓰는것.\n",
    "#저기를 저렇게 해야지 \n",
    "'''a.setdata(4,2)을 타이핑할 때, 'a.'구문에 의해서 자동으로 self에 a가 전달된다.\n",
    "그래서 이후 구문이 a.first = first a.second = second로 바뀐다고 생각하면 된다.\n",
    "'''\n",
    "print(line)"
   ]
  },
  {
   "cell_type": "code",
   "execution_count": 16,
   "metadata": {},
   "outputs": [
    {
     "name": "stdout",
     "output_type": "stream",
     "text": [
      "4 2\n"
     ]
    }
   ],
   "source": [
    "a = Fourcal() #먼저 객체 a를 Foucal이라는 클래스로 지정하고\n",
    "a.setdata(4,2) # 그 클래스에 들어가있는 method를 실행하게 한 다음\n",
    "print(a.first, a.second) # 그 메소드에 의해 삽입된 값을 출력하게 한다"
   ]
  },
  {
   "cell_type": "code",
   "execution_count": 18,
   "metadata": {},
   "outputs": [
    {
     "data": {
      "text/plain": [
       "140719665592192"
      ]
     },
     "execution_count": 18,
     "metadata": {},
     "output_type": "execute_result"
    }
   ],
   "source": [
    "#같은 클래스로 만든 인스턴드라도 서로 독립적이다\n",
    "a = Fourcal()\n",
    "b = Fourcal()\n",
    "a.setdata(4,2)\n",
    "b.setdata(3,7)\n",
    "id(a.first)#보다시피, 같은 클래스로 만든 인스턴스지만,"
   ]
  },
  {
   "cell_type": "code",
   "execution_count": 20,
   "metadata": {},
   "outputs": [
    {
     "data": {
      "text/plain": [
       "140719665592160"
      ]
     },
     "execution_count": 20,
     "metadata": {},
     "output_type": "execute_result"
    }
   ],
   "source": [
    "id(b.first) #값이 서로 다른 주소에 저장된다."
   ]
  },
  {
   "cell_type": "code",
   "execution_count": 23,
   "metadata": {},
   "outputs": [
    {
     "name": "stdout",
     "output_type": "stream",
     "text": [
      "6\n"
     ]
    }
   ],
   "source": [
    "class Fourcal :\n",
    "    def setdata(self,first,second): \n",
    "        self.first = first\n",
    "        self.second = second\n",
    "    def add(self) : # 두개의 숫자값을 더해주는 함수 설정\n",
    "        result = self.first + self.second #self. 으로 적어야한다. 이 클래스에서 다룰 변수들은 메서드들이다\n",
    "        return result\n",
    "    \n",
    "a = Fourcal() #point) 클래스 지정할때도 입력이 없으니 () 붙여야한다.\n",
    "a.setdata(4,2)\n",
    "a.add() # 위에서 지정을 add(self)로 하였으니, 괄호 안에 a를 넣을 필요가 없다.\n",
    "print(a.add())"
   ]
  },
  {
   "cell_type": "code",
   "execution_count": 24,
   "metadata": {},
   "outputs": [
    {
     "name": "stdout",
     "output_type": "stream",
     "text": [
      "==================================================\n"
     ]
    }
   ],
   "source": [
    "print(line)\n",
    "#그럼 동일한 원리로 사칙연산이 되는 class를 만들자"
   ]
  },
  {
   "cell_type": "code",
   "execution_count": 30,
   "metadata": {},
   "outputs": [
    {
     "data": {
      "text/plain": [
       "2.0"
      ]
     },
     "execution_count": 30,
     "metadata": {},
     "output_type": "execute_result"
    }
   ],
   "source": [
    "class Fourcal :\n",
    "    def setdata(self,first,second):\n",
    "        self.first = first\n",
    "        self.second = second\n",
    "    def add(self):\n",
    "        result = self.first + self.second\n",
    "        return result\n",
    "    def sub(self):\n",
    "        result = self.first - self.second\n",
    "        return result\n",
    "    def mul(self):\n",
    "        result = self.first * self.second\n",
    "        return result\n",
    "    def div(self):\n",
    "        result = self.first / self.second\n",
    "        return result\n",
    "\n",
    "a = Fourcal()\n",
    "\n",
    "a.setdata(4,2)\n",
    "a.add()\n",
    "a.sub()\n",
    "a.mul()\n",
    "a.div()"
   ]
  },
  {
   "cell_type": "code",
   "execution_count": 31,
   "metadata": {},
   "outputs": [],
   "source": [
    "#생성자 __init__\n",
    "#객체에 초깃값을 설정해야할 때는 setdata와 같은 메서드보다는\n",
    "#생성자를 통해 구현하는게 더 효과적이다.\n",
    "#__init__가 붙은 매서드는 객체가 생성되는 시점에 자동으로 호출된다.\n",
    "\n",
    "class Fourcal :\n",
    "    def __init__(self,first,second): # 이제 Fourcal을 호출하면 자동으로 생성됨\n",
    "        self.first = first\n",
    "        self.second = second\n",
    "    def add(self):\n",
    "        result = self.first + self.second\n",
    "        return result\n",
    "    def sub(self):\n",
    "        result = self.first - self.second\n",
    "        return result\n",
    "    def mul(self):\n",
    "        result = self.first * self.second\n",
    "        return result\n",
    "    def div(self):\n",
    "        result = self.first / self.second\n",
    "        return result"
   ]
  },
  {
   "cell_type": "code",
   "execution_count": 33,
   "metadata": {},
   "outputs": [
    {
     "ename": "TypeError",
     "evalue": "__init__() missing 2 required positional arguments: 'first' and 'second'",
     "output_type": "error",
     "traceback": [
      "\u001b[1;31m---------------------------------------------------------------------------\u001b[0m",
      "\u001b[1;31mTypeError\u001b[0m                                 Traceback (most recent call last)",
      "\u001b[1;32m<ipython-input-33-9eb651c6a769>\u001b[0m in \u001b[0;36m<module>\u001b[1;34m\u001b[0m\n\u001b[1;32m----> 1\u001b[1;33m \u001b[0ma\u001b[0m \u001b[1;33m=\u001b[0m \u001b[0mFourcal\u001b[0m\u001b[1;33m(\u001b[0m\u001b[1;33m)\u001b[0m\u001b[1;33m\u001b[0m\u001b[1;33m\u001b[0m\u001b[0m\n\u001b[0m",
      "\u001b[1;31mTypeError\u001b[0m: __init__() missing 2 required positional arguments: 'first' and 'second'"
     ]
    }
   ],
   "source": [
    "a = Fourcal() # 초기값 지정후 그냥 fourcal을 호출하면 __init__ 값이 안들어갔다고 에러가 남"
   ]
  },
  {
   "cell_type": "code",
   "execution_count": 34,
   "metadata": {},
   "outputs": [],
   "source": [
    "a = Fourcal(4,2) #이렇게 __init__부분에 대응되는 arguments를 삽입해줘야한다."
   ]
  },
  {
   "cell_type": "code",
   "execution_count": 35,
   "metadata": {},
   "outputs": [
    {
     "data": {
      "text/plain": [
       "6"
      ]
     },
     "execution_count": 35,
     "metadata": {},
     "output_type": "execute_result"
    }
   ],
   "source": [
    "a.add() #메서드도 정상동작한다"
   ]
  },
  {
   "cell_type": "code",
   "execution_count": 36,
   "metadata": {},
   "outputs": [],
   "source": [
    "#클래스의 상속\n",
    "# 쉽게 말해서 클래스를 기반으로 하는 새로운 클래스를 만들어서\n",
    "# 그 원래의 유산에 새로운 메소드를 더하거나, 수정하는 것을 말한다.\n",
    "\n",
    "class MoreFourcal(Fourcal) : #이렇게 작성하면 Fourcal을 기반으로 하는 MoreFourcal 이라는 클래스가 생성된거다\n",
    "    pass"
   ]
  },
  {
   "cell_type": "code",
   "execution_count": 37,
   "metadata": {},
   "outputs": [
    {
     "data": {
      "text/plain": [
       "6"
      ]
     },
     "execution_count": 37,
     "metadata": {},
     "output_type": "execute_result"
    }
   ],
   "source": [
    "a = MoreFourcal(4,2) #항상 헷갈리지마라, 클래스는 어디 변수에 집어 넣어야한다.\n",
    "a.add()#Fourcal의 메서드들을 다 사용할수 있다"
   ]
  },
  {
   "cell_type": "code",
   "execution_count": 41,
   "metadata": {},
   "outputs": [],
   "source": [
    "#그럼 MoreFourcal에 새로운 메소드를 추가해보자\n",
    "\n",
    "class MoreFourcal(Fourcal):\n",
    "    def pow(self) : # 이 부분은 Fourcal에는 반영되지 않는다\n",
    "        result = self.first ** self.second\n",
    "        return result\n",
    "    "
   ]
  },
  {
   "cell_type": "code",
   "execution_count": 42,
   "metadata": {},
   "outputs": [],
   "source": [
    "a = MoreFourcal(4,2)"
   ]
  },
  {
   "cell_type": "code",
   "execution_count": 43,
   "metadata": {},
   "outputs": [
    {
     "data": {
      "text/plain": [
       "16"
      ]
     },
     "execution_count": 43,
     "metadata": {},
     "output_type": "execute_result"
    }
   ],
   "source": [
    "a.pow()"
   ]
  },
  {
   "cell_type": "code",
   "execution_count": 45,
   "metadata": {},
   "outputs": [],
   "source": [
    "#메서드 오버라이딩\n",
    "# 쉽다. 걍 상속으로 만든 클래스에 기존에 있던 함수 이름으로 새로 만드는 거다\n",
    "class SafeFourcal(Fourcal):\n",
    "    def div(self):\n",
    "        if self.second == 0 :\n",
    "            return 0\n",
    "        else :\n",
    "            return self.first / self.second\n",
    "# 원래 Fourcal의 div 메서드는 0으로 나누면 에러가 떴는데,\n",
    "# SafeFourcal의 div 메서드는 0으로 나누면 0을 돌려주게 코딩했다."
   ]
  },
  {
   "cell_type": "code",
   "execution_count": 47,
   "metadata": {},
   "outputs": [
    {
     "data": {
      "text/plain": [
       "0"
      ]
     },
     "execution_count": 47,
     "metadata": {},
     "output_type": "execute_result"
    }
   ],
   "source": [
    "a= SafeFourcal(2,0)\n",
    "a.div() # SafeFourcal대로 그냥 0을 출력했다."
   ]
  },
  {
   "cell_type": "code",
   "execution_count": 48,
   "metadata": {},
   "outputs": [],
   "source": [
    "#클래스 변수\n",
    "# '클래스이름. 클래스 변수' 꼴로 만들어지며, 객체변수와 달리 수정되면\n",
    "# 모든 인스턴스에 영향을 미친다.\n",
    "\n",
    "class Family : lastname = \"김\"\n",
    "    \n",
    "a = Family()\n",
    "b = Family()"
   ]
  },
  {
   "cell_type": "code",
   "execution_count": 50,
   "metadata": {},
   "outputs": [
    {
     "name": "stdout",
     "output_type": "stream",
     "text": [
      "김 김\n"
     ]
    }
   ],
   "source": [
    "print(a.lastname , b.lastname)"
   ]
  },
  {
   "cell_type": "code",
   "execution_count": 51,
   "metadata": {},
   "outputs": [],
   "source": [
    "Family.lastname = \"박\" #Family Class의 lastname을 바꾼다.."
   ]
  },
  {
   "cell_type": "code",
   "execution_count": 52,
   "metadata": {},
   "outputs": [
    {
     "name": "stdout",
     "output_type": "stream",
     "text": [
      "박 박\n"
     ]
    }
   ],
   "source": [
    "print(a.lastname, b.lastname)"
   ]
  },
  {
   "cell_type": "code",
   "execution_count": null,
   "metadata": {},
   "outputs": [],
   "source": []
  }
 ],
 "metadata": {
  "kernelspec": {
   "display_name": "Python 3",
   "language": "python",
   "name": "python3"
  },
  "language_info": {
   "codemirror_mode": {
    "name": "ipython",
    "version": 3
   },
   "file_extension": ".py",
   "mimetype": "text/x-python",
   "name": "python",
   "nbconvert_exporter": "python",
   "pygments_lexer": "ipython3",
   "version": "3.8.3"
  }
 },
 "nbformat": 4,
 "nbformat_minor": 4
}
