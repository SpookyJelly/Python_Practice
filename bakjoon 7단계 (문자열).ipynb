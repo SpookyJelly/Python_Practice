{
 "cells": [
  {
   "cell_type": "code",
   "execution_count": 2,
   "metadata": {},
   "outputs": [
    {
     "name": "stdout",
     "output_type": "stream",
     "text": [
      "a\n",
      "97\n"
     ]
    }
   ],
   "source": [
    "#11654번 아스키 코드\n",
    "# 알파벳 소문자, 대문자, 숫자 0-9중 하나가 주어졌을 때, \n",
    "#주어진 글자의 아스키 코드값을 출력하는 프로그램을 작성하시오.\n",
    "#알파벳 소문자, 대문자, 숫자 0-9 중 하나가 첫째 줄에 주어진다.\n",
    "#입력으로 주어진 글자의 아스키 코드 값을 출력한다.\n",
    "test = input()\n",
    "print(ord(test)) #ord(c)는 문자의 아스키 코드 값을 돌려주는 함수이다.\n",
    "# chr(i) 함수와 반대임. chr(i)는 아스키 코드 값을 입력 받아 그 코드에 해당하는 문자를 출력하는 함수"
   ]
  },
  {
   "cell_type": "code",
   "execution_count": 3,
   "metadata": {},
   "outputs": [
    {
     "name": "stdout",
     "output_type": "stream",
     "text": [
      "e\n",
      "101\n"
     ]
    }
   ],
   "source": [
    "#11654번 한줄 코딩\n",
    "print(ord(input()))"
   ]
  },
  {
   "cell_type": "code",
   "execution_count": 4,
   "metadata": {},
   "outputs": [
    {
     "name": "stdout",
     "output_type": "stream",
     "text": [
      "1\n",
      "213\n",
      "6\n"
     ]
    }
   ],
   "source": [
    "#11720번 숫자의 합\n",
    "#N개의 숫자가 공백 없이 쓰여있다. \n",
    "#이 숫자를 모두 합해서 출력하는 프로그램을 작성하시오.\n",
    "#첫째 줄에 숫자의 개수 N (1 ≤ N ≤ 100)이 주어진다. \n",
    "#둘째 줄에 숫자 N개가 공백없이 주어진다.\n",
    "# 입력으로 주어진 숫자 N개의 합을 출력한다.\n",
    "\n",
    "N = int(input())\n",
    "Ns= input()\n",
    "for i in range(N+1): #range(len(Ns)+1)보다 이게 더 문제의 의도에 적합할듯\n",
    "    dsa=list(map(int,Ns))#input은 입력되는 것을 모두 str 취급해서 가능\n",
    "    A = sum(dsa)\n",
    "print(A)"
   ]
  },
  {
   "cell_type": "code",
   "execution_count": 66,
   "metadata": {},
   "outputs": [
    {
     "name": "stdout",
     "output_type": "stream",
     "text": [
      "aaa\n",
      "['a', 'a', 'a'] 3\n",
      "0 -1 -1 -1 -1 -1 -1 -1 -1 -1 -1 -1 -1 -1 -1 -1 -1 -1 -1 -1 -1 -1 -1 -1 -1 -1 "
     ]
    }
   ],
   "source": [
    "#10809번 알파벳 찾기\n",
    "#알파벳 소문자로만 이루어진 단어 S가 주어진다. 각각의 알파벳에 대해서, \n",
    "#단어에 포함되어 있는 경우에는 처음 등장하는 위치를, \n",
    "#포함되어 있지 않은 경우에는 -1을 출력하는 프로그램을 작성하시오.\n",
    "# 미리 [-1 *26]리스트를 만들고, 그 안의 값을 바꾸는 방식으로 접근.\n",
    "# 문자열을 아스키화 하면 정수꼴로 맵핑해서 다룰 수 있다는 사실에 착안.\n",
    "S = list(input())\n",
    "n = len(S)\n",
    "a=[] # 문자열 저장..\n",
    "c = [] \n",
    "####################################\n",
    "for k in range(0,26):\n",
    "    c.append(-1)\n",
    "#여기까지가 c =[-1 *26 으로 만드는거]\n",
    "\n",
    "for i in range(0,n):\n",
    "    oss = ord(S[i])\n",
    "    a.append(oss) #S[0]~S[n]까지 순서대로 ord 된 값이 a에 들어간다.\n",
    "#여기까지는 입력값 S를 아스키화 하여 a 리스트에 넣는거.\n",
    "\n",
    "for j in range(97,122+1): # 검사 변수 갯수 : 26개\n",
    "    if j in a :\n",
    "        c[j-97] = a.index(j) #리스트c의 길이 : 26개. index함수도 처음으로 나오는 문자열 위치 반환하므로, 중복 걱정 할 필요 없다.\n",
    "        # \n",
    "    else :\n",
    "        pass\n",
    "# a에는 아스키화 된 리스트가 있다. c는 -1 리스트인데, 시작이 0부터이다. 만약에\n",
    "# 리스트 a 에 문자 a가 있다면, a의 위치값을 c 리스트에 그대로 씌운다.\n",
    "# 마찬가지로 리스트 a에 문자 b가 있다면, 리스트 a에서 나오는 가장 빠른 문자 b의 위치값을 반환. c에 덮어씌운다.\n",
    "# ex. a = [97,98] --> j = 97 --> if j in a 만족 --> c[0] = a.index(97) --> c[0] = 0\n",
    "# ex. a = [97,98] --> j = 98 --> if j in a 만족 --> c[1] = a.index(98) --> c[1] = 1\n",
    "# ex. a = [105,97] --> j = 97 --> if j in a 만족 --> c[0] = a.index[97] --> c[0] = 1\n",
    "for r in range(len(c)):\n",
    "    print(c[r], end = ' ')\n",
    "#출력 형식 맞출라고 만든 반복문"
   ]
  },
  {
   "cell_type": "code",
   "execution_count": 68,
   "metadata": {},
   "outputs": [
    {
     "name": "stdout",
     "output_type": "stream",
     "text": [
      "asd\n",
      "0 -1 -1 2 -1 -1 -1 -1 -1 -1 -1 -1 -1 -1 -1 -1 -1 -1 1 -1 -1 -1 -1 -1 -1 -1 "
     ]
    }
   ],
   "source": [
    "#10809번 숏코딩\n",
    "# .find(c) 뭐냐고 시발...\n",
    "s=input() \n",
    "for i in range(97,123):\n",
    "    print(s.find(chr(i)),end=' ')"
   ]
  }
 ],
 "metadata": {
  "kernelspec": {
   "display_name": "Python 3",
   "language": "python",
   "name": "python3"
  },
  "language_info": {
   "codemirror_mode": {
    "name": "ipython",
    "version": 3
   },
   "file_extension": ".py",
   "mimetype": "text/x-python",
   "name": "python",
   "nbconvert_exporter": "python",
   "pygments_lexer": "ipython3",
   "version": "3.8.3"
  }
 },
 "nbformat": 4,
 "nbformat_minor": 4
}
