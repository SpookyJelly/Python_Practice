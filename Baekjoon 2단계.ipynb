{
 "cells": [
  {
   "cell_type": "code",
   "execution_count": 10,
   "metadata": {},
   "outputs": [
    {
     "name": "stdout",
     "output_type": "stream",
     "text": [
      "1\n",
      "2\n",
      "<\n"
     ]
    }
   ],
   "source": [
    "# 1330번 두 수 비교하기\n",
    "# 두 정수 A와 B가 주어졌을 때, A와 B를 비교하는 프로그램을 작성하시오\n",
    "\n",
    "a = input()\n",
    "b = input()\n",
    "\n",
    "A = int(a)\n",
    "B = int(b)\n",
    "\n",
    "if A > B :\n",
    "    print(\">\")\n",
    "elif A< B :\n",
    "    print(\"<\")\n",
    "else :\n",
    "    print(\"==\")\n"
   ]
  },
  {
   "cell_type": "code",
   "execution_count": 4,
   "metadata": {},
   "outputs": [
    {
     "name": "stdout",
     "output_type": "stream",
     "text": [
      "1 6\n"
     ]
    }
   ],
   "source": [
    " (a,b) = input().split() #split 잘 기억해라 좀 ...."
   ]
  },
  {
   "cell_type": "code",
   "execution_count": 14,
   "metadata": {},
   "outputs": [
    {
     "name": "stdout",
     "output_type": "stream",
     "text": [
      "2 1\n",
      ">\n"
     ]
    }
   ],
   "source": [
    "# 1330번 이진솔 솔루션\n",
    "a,b=list(map(int,input().split())) #map(fun, args) args 마다 fun을 반복 return할때는 map타입으로 나온다. 그래서 혹시나 하는 error 방지 차원으로 list한번ㄷ ㅓ\n",
    "'''inp = list(map ~~~)\n",
    "    a = inp[0]\n",
    "    b = inp[1] 이라는 과정이랑 동일하다고 보면 된다'''\n",
    "r=\">\"if a>b else(\"==\"if a==b else\"<\") #삼항연산자 3개 이상으로 연결할 수 있음\n",
    "print(r)"
   ]
  },
  {
   "cell_type": "code",
   "execution_count": 29,
   "metadata": {},
   "outputs": [
    {
     "name": "stdout",
     "output_type": "stream",
     "text": [
      "55\n",
      "F\n"
     ]
    }
   ],
   "source": [
    "#9498번 \n",
    "# 시험 점수를 입력받아 90 ~ 100점은 A, 80 ~ 89점은 B, 70 ~ 79점은 C, \n",
    "# 60 ~ 69점은 D, 나머지 점수는 F를 출력하는 프로그램을 작성하시오.\n",
    "\n",
    "result = int(input())\n",
    "if (90<=result and result <=100) : # 여기서 포인트는 90<=result<=100 이런 식은 안된다고\n",
    "        print(\"A\")                  # 아니 시발 되는데?? 뭐지?? 이런식으로 써서 구동된 코드가 있음\n",
    "elif (80<=result and result <=89) : # 왜냐면 그건 조건 비교가 아니라서? 암튼 안됨\n",
    "        print(\"B\")\n",
    "elif (70<=result and result <=79) :\n",
    "        print(\"C\")\n",
    "elif (60<= result and result <= 69) :\n",
    "        print (\"D\")\n",
    "else : print(\"F\")"
   ]
  },
  {
   "cell_type": "code",
   "execution_count": 33,
   "metadata": {},
   "outputs": [
    {
     "name": "stdout",
     "output_type": "stream",
     "text": [
      "FF\n"
     ]
    }
   ],
   "source": [
    "# 숏코딩 예시\n",
    "print('FFFFFFDCBAA'[0:2]) #print 명령어에 들어간 str 타입에 인덱스를 주면 해당 요소만 출력됨\n",
    "#인덱싱도 되고 슬라이싱도 된다."
   ]
  },
  {
   "cell_type": "code",
   "execution_count": 43,
   "metadata": {},
   "outputs": [
    {
     "name": "stdout",
     "output_type": "stream",
     "text": [
      "1999\n",
      "0\n"
     ]
    }
   ],
   "source": [
    "#2753번 \n",
    "'''연도가 주어졌을 때, 윤년이면 1, 아니면 0을 출력하는 프로그램을 만들어라\n",
    "윤년은 연도가 4의 배수이면서, 100의 배수가 아니거나.\n",
    "100의 배수라도 400의 배수인 년도이다.'''\n",
    "\n",
    "a = int(input())\n",
    "if (a%400 == 0) :\n",
    "    print(\"1\")\n",
    "elif(a%4 == 0 and a%100 != 0):\n",
    "    print('1')\n",
    "else : print(\"0\")"
   ]
  },
  {
   "cell_type": "code",
   "execution_count": 50,
   "metadata": {},
   "outputs": [
    {
     "name": "stdout",
     "output_type": "stream",
     "text": [
      "-12\n",
      "5\n",
      "2\n"
     ]
    }
   ],
   "source": [
    "#14681번\n",
    "'''사분면 고르기, 좌표를 입력하면 어느 사분면에 속해있는지 확인해주는 프로그램\n",
    "제작하시오. 단, 첫줄에는 x값이 , 둘째줄에는 y값이 주어진다(x,y는 전부 양수 혹은 음수)'''\n",
    "#x,y는 각각 한줄 한줄로 따로 주어짐 --> split() 안써도 된다\n",
    "x =int(input())\n",
    "y =int(input())\n",
    "\n",
    "if (x>0) :\n",
    "    if(y>0):\n",
    "        print(\"1\")\n",
    "    else : print(\"4\")\n",
    "    \n",
    "else :\n",
    "    if(y>0):\n",
    "        print(\"2\")\n",
    "    else : print(\"3\")"
   ]
  },
  {
   "cell_type": "code",
   "execution_count": 70,
   "metadata": {},
   "outputs": [
    {
     "name": "stdout",
     "output_type": "stream",
     "text": [
      "23 40\n",
      "22 55\n"
     ]
    }
   ],
   "source": [
    "#2884번) 알람시계\n",
    "'''첫째 줄에 두 정수 H와 M이 주어진다\n",
    "입력시간은 24시간 표현법. 입력한 시간값에 -45M 한 값을 출력해라\n",
    "# 시간을 나타낼때 0은 사용하지 않는다 (0<=H, 0<=M<=59)'''\n",
    "\n",
    "H,M = list(map(int,input().split())) # H,M을 받는다\n",
    "\n",
    "if M>=45 :\n",
    "    M = M-45\n",
    "else :\n",
    "    H -= 1\n",
    "    M = (60+M)-45\n",
    "    if H < 0 : # H < 0 인 경우는 H == 0 and M<=45 인 경우일때니까, H를 조정해줌. (M는 이미 윗행에서 H와 관계없이 계산됨)\n",
    "        H = 23\n",
    "print(\"%d %d\" %(H,M))"
   ]
  },
  {
   "cell_type": "code",
   "execution_count": null,
   "metadata": {},
   "outputs": [],
   "source": []
  },
  {
   "cell_type": "code",
   "execution_count": null,
   "metadata": {},
   "outputs": [],
   "source": [
    "0"
   ]
  }
 ],
 "metadata": {
  "kernelspec": {
   "display_name": "Python 3",
   "language": "python",
   "name": "python3"
  },
  "language_info": {
   "codemirror_mode": {
    "name": "ipython",
    "version": 3
   },
   "file_extension": ".py",
   "mimetype": "text/x-python",
   "name": "python",
   "nbconvert_exporter": "python",
   "pygments_lexer": "ipython3",
   "version": "3.8.3"
  }
 },
 "nbformat": 4,
 "nbformat_minor": 4
}
