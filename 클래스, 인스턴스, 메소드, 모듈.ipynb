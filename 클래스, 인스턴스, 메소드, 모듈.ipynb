{
 "cells": [
  {
   "cell_type": "code",
   "execution_count": 28,
   "metadata": {},
   "outputs": [],
   "source": [
    "# 클래스의 선언과 인스턴스\n",
    "\n",
    "# 클래스는 빵틀, 그 빵틀로 만들어진 것들이 인스턴스 (== 오브젝트) 이다.\n",
    "#__init__ 함수는 클래스 선언되면 바로 실행되는 것. 그래서 생성자라고도 부른다.\n",
    "#메소드는 클래스가 가진 함수로 클래스에 묶여서 인스턴스와 관계되는 일을 하는 함수이다(.연산을 이용함)\n",
    "# ex) human)ex1.py // a.lstrip()\n",
    "\n",
    "'''파이썬의 self는 클래스의 인스턴스를 지칭하며, self 키워드를 통해\n",
    "클래스의 메소드와 속성에 접근할 수 있다.'''\n",
    "'''모든 메소드의 첫번째 매게변수는 자기자신을 가리키는 self 변수이다.\n",
    "즉 이 메소를 ㅡ호출한 현재 객체를 의미한다.'''\n",
    "class Person:\n",
    "    def __init__(self,name,age): # __init__가 self,name,age 3가지 변수를 받도록 설정 되어있기에, Person 클래스의 오브젝트를 만들때는 self를 제외한 name과 age 두가지 변수를 받아야한다. \n",
    "        self.name = name #여기서 self는 Person 클래스로 만들어진 객체의 이름을 뜻한다.\n",
    "        self.age = age # 상동. wonie=Person(\"워니\",20)으로 선언되었으면, 그때의 self는 wonie가 된다.\n",
    "    def say_hello(self, to_name):#person 인스턴스가 호출 하는 메소드 (1)\n",
    "        print('안녕 '+to_name+' 나는 '+self.name)\n",
    "    def introduce(self):#person 인스턴스가 호출 하는 메소드 (2)\n",
    "        print('내 이름은 ' + self.name +' 그리고 나는 ' + str(self.age) +'살이야')"
   ]
  },
  {
   "cell_type": "code",
   "execution_count": 29,
   "metadata": {},
   "outputs": [
    {
     "name": "stdout",
     "output_type": "stream",
     "text": [
      "안녕 철수 나는 워니\n",
      "안녕 영희 나는 마이클\n",
      "안녕 미지 나는 제니\n"
     ]
    }
   ],
   "source": [
    "wonie = Person(\"워니\",20) #Person 인스턴스 생성. wonie가 이를 참조함.\n",
    "michael = Person(\"마이클\",21) \n",
    "jenny = Person(\"제니\",30)\n",
    "\n",
    "wonie.say_hello(\"철수\")\n",
    "michael.say_hello(\"영희\")\n",
    "jenny.say_hello(\"미지\")"
   ]
  },
  {
   "cell_type": "code",
   "execution_count": 30,
   "metadata": {},
   "outputs": [
    {
     "name": "stdout",
     "output_type": "stream",
     "text": [
      "내 이름은 워니 그리고 나는 20살이야\n"
     ]
    }
   ],
   "source": [
    "wonie.introduce()"
   ]
  },
  {
   "cell_type": "code",
   "execution_count": 38,
   "metadata": {},
   "outputs": [],
   "source": [
    "# 상속 개념\n",
    "\n",
    "class Police(Person):\n",
    "    def arrest(self, to_arrest):\n",
    "        print(\"넌 체포됐다.\" + to_arrest)\n",
    "\n",
    "class Programmer (Person):\n",
    "    def program (self, to_program):\n",
    "        print(\"다음에는 뭘 만들지? 아 이걸 만들어야겠다 : \" + to_program)"
   ]
  },
  {
   "cell_type": "code",
   "execution_count": 42,
   "metadata": {},
   "outputs": [
    {
     "name": "stdout",
     "output_type": "stream",
     "text": [
      "안녕 아리 나는 워니\n",
      "내 이름은 워니 그리고 나는 20살이야\n",
      "\n",
      "\n",
      "안녕 아리 나는 제니\n",
      "내 이름은 제니 그리고 나는 21살이야\n",
      "넌 체포됐다.워니\n",
      "\n",
      "\n",
      "안녕 아리 나는 마이클\n",
      "내 이름은 마이클 그리고 나는 22살이야\n",
      "다음에는 뭘 만들지? 아 이걸 만들어야겠다 : 롤\n"
     ]
    }
   ],
   "source": [
    "wonie = Person('워니',20)\n",
    "jenny = Police('제니',21)\n",
    "michael = Programmer('마이클',22)\n",
    "\n",
    "wonie.say_hello('아리')\n",
    "wonie.introduce()\n",
    "print('\\n')\n",
    "jenny.say_hello('아리')\n",
    "jenny.introduce()\n",
    "jenny.arrest('워니')\n",
    "print('\\n')\n",
    "michael.say_hello('아리')\n",
    "michael.introduce()\n",
    "michael.program('롤')"
   ]
  },
  {
   "cell_type": "code",
   "execution_count": 51,
   "metadata": {},
   "outputs": [
    {
     "name": "stdout",
     "output_type": "stream",
     "text": [
      "아리(몸무게 44kg)\n"
     ]
    }
   ],
   "source": [
    "# 특수 메소드\n",
    "# 언더바 2개(__method__)로 묶인 함수 : 파이썬에서는 특별한 메소드\n",
    "# __init__() : 인스턴스를 만들 때 자동으로 실행되는 메소드\n",
    "# __str__(): 인스턴스 자체를 출력할 때의 형식을 지정해주는 메소드로, 문자열 객체를 반환한다.\n",
    "# print() 함수가 인스턴스를 출력할 때 지정된 형식으로 출력함\n",
    "\n",
    "class Human:\n",
    "    def __init__(self,name,weight): #지정된 name과 weight를 이용하여 인스턴스 변수 초기화\n",
    "        self.name = name\n",
    "        self.weight = weight\n",
    "    def __str__(self): # __str__() 메소드를 이용하여 출력할 때의 형식을 정해준다.\n",
    "        return \"{0}(몸무게 {1}kg)\".format(self.name,self.weight)\n",
    "\n",
    "person = Human('아리',44)\n",
    "print(person)\n",
    "\n",
    "'''\n",
    "왜 __str__ 함수를 호출하지도 않았는데, 마지막 줄에 출력되는가??\n",
    "\n",
    "__str__() 함수는 특별한 기능이 있는데, print()함수의 인자로 객체가 넘어가면\n",
    "자동으로 호출되는 기능이 있음. 그래서 객체를 어떻게 출력할지, 문자열로 반환하는\n",
    "기능만 넣어주면 별도의 설정없이 호출된다.\n",
    "\n",
    "정리하자면, print(person) == print(person.__str__())와 동일하다.\n",
    "\n",
    "'''"
   ]
  },
  {
   "cell_type": "code",
   "execution_count": 52,
   "metadata": {},
   "outputs": [
    {
     "name": "stdout",
     "output_type": "stream",
     "text": [
      "list1과 list1은 같은 인스턴스입니다.\n",
      "list1,list2의 데이터 값은 동일하며\n",
      "하지만 list1과 list2는 다른 인스턴스입니다.\n"
     ]
    }
   ],
   "source": [
    "# 인스턴스 관련 연산자\n",
    "\n",
    "# is 연산자 : 두 인스턴스가 같은 인스턴스인지 검사한다.\n",
    "# == 연산자 : 두 인스턴서의 데이터 값이 같은지 확인한다.\n",
    "\n",
    "list1 = [1,2,3]\n",
    "list2 = [1,2,3]\n",
    "\n",
    "if list1 is list1:\n",
    "    print(\"list1과 list1은 같은 인스턴스입니다.\")\n",
    "if list1 == list2:\n",
    "    print(\"list1,list2의 데이터 값은 동일하며\")\n",
    "    if list1 is list2:\n",
    "        print('list1과 list2는 같은 인스턴스입니다.')\n",
    "    else:\n",
    "        print(\"하지만 list1과 list2는 다른 인스턴스입니다.\")\n",
    "        \n",
    "# 둘의 클래스와 데이터값은 같지만, 서로 다른 인스턴스이다.\n",
    "# 강남역 붕어빵이랑 노원역 붕어빵이 붕어빵틀에서 만들어진 같은 팥붕어빵은 맞지만,\n",
    "# 판매지역이 다른 것처럼, 이것도 리스트지만 서로 다른 인스턴스이다."
   ]
  },
  {
   "cell_type": "code",
   "execution_count": 55,
   "metadata": {},
   "outputs": [
    {
     "name": "stdout",
     "output_type": "stream",
     "text": [
      "v1 =  (30,40) , v2 =  (10,20)\n"
     ]
    },
    {
     "ename": "TypeError",
     "evalue": "unsupported operand type(s) for +: 'Vector2D' and 'Vector2D'",
     "output_type": "error",
     "traceback": [
      "\u001b[1;31m---------------------------------------------------------------------------\u001b[0m",
      "\u001b[1;31mTypeError\u001b[0m                                 Traceback (most recent call last)",
      "\u001b[1;32m<ipython-input-55-dd6597ef1a1c>\u001b[0m in \u001b[0;36m<module>\u001b[1;34m\u001b[0m\n\u001b[0;32m     24\u001b[0m \u001b[0mprint\u001b[0m\u001b[1;33m(\u001b[0m\u001b[1;34m'v1 = '\u001b[0m\u001b[1;33m,\u001b[0m\u001b[0mv1\u001b[0m\u001b[1;33m,\u001b[0m\u001b[1;34m', v2 = '\u001b[0m\u001b[1;33m,\u001b[0m\u001b[0mv2\u001b[0m\u001b[1;33m)\u001b[0m\u001b[1;33m\u001b[0m\u001b[1;33m\u001b[0m\u001b[0m\n\u001b[0;32m     25\u001b[0m \u001b[1;33m\u001b[0m\u001b[0m\n\u001b[1;32m---> 26\u001b[1;33m \u001b[0mv3\u001b[0m \u001b[1;33m=\u001b[0m \u001b[0mv1\u001b[0m \u001b[1;33m+\u001b[0m \u001b[0mv2\u001b[0m\u001b[1;33m\u001b[0m\u001b[1;33m\u001b[0m\u001b[0m\n\u001b[0m\u001b[0;32m     27\u001b[0m \u001b[0mprint\u001b[0m\u001b[1;33m(\u001b[0m\u001b[1;34m'v1 + v2 = '\u001b[0m\u001b[1;33m,\u001b[0m\u001b[0mv3\u001b[0m\u001b[1;33m)\u001b[0m\u001b[1;33m\u001b[0m\u001b[1;33m\u001b[0m\u001b[0m\n\u001b[0;32m     28\u001b[0m \u001b[1;33m\u001b[0m\u001b[0m\n",
      "\u001b[1;31mTypeError\u001b[0m: unsupported operand type(s) for +: 'Vector2D' and 'Vector2D'"
     ]
    }
   ],
   "source": [
    "#특수 메소드\n",
    "'''\n",
    "목표\n",
    "\n",
    "- 2차원 벡터를 표현하는 Vector2D라는 클래스를 구현해보자.\n",
    "- 이 클래스의 인스턴스에 덧셈과 뺄셈을 +,- 연산자로 시도해보자.\n",
    "    --> 에러 발생 : 인스턴스를 위한 +/- 연산이 정의되어있지 않다.\n",
    "    --> 덧셈과 뺄셈을 위해서는 __add__()와 __sub__()의 특수 메소드를 구현해야만,\n",
    "        +,- 연산자를 사용할 수 있다.\n",
    "        \n",
    "'''\n",
    "\n",
    "class Vector2D:\n",
    "    def __init__(self,x,y):\n",
    "        self.x = x\n",
    "        self.y = y\n",
    "    def __str__(self):\n",
    "        return \"({0},{1})\".format(self.x,self.y) \n",
    "    # 생각해보니, format함수를 print문 없이 써보는건 처음이다.\n",
    "    # 이 return문을 해석하자면, ({0},{1})을 반환하는데, {0} , {1} 자리에 self x와 self y 를 넣어서 반환해라. 라는 뜻.\n",
    "    \n",
    "v1 = Vector2D(30,40)\n",
    "v2 = Vector2D(10,20)\n",
    "print('v1 = ',v1,', v2 = ',v2)\n",
    "\n",
    "v3 = v1 + v2\n",
    "print('v1 + v2 = ',v3)\n",
    "\n",
    "\n",
    "# 이러면 타입 에러가 난다. 왜냐고?? Vector2D class에는 '+'라는 연산자 타입을\n",
    "# 받을 수가 없거든.(+ 연산이 정의되지 않았다.)"
   ]
  },
  {
   "cell_type": "code",
   "execution_count": 65,
   "metadata": {},
   "outputs": [
    {
     "name": "stdout",
     "output_type": "stream",
     "text": [
      "v1 =  (30,40) , v2 =  (10,20)\n",
      "v1 + v2 =  (40,60)\n",
      "v1 - v2 =  (20,20)\n",
      "neg v1 =  (-30,-40)\n"
     ]
    }
   ],
   "source": [
    "class Vector2D:\n",
    "    def __init__(self,x,y):\n",
    "        self.x = x\n",
    "        self.y = y\n",
    "    def __str__(self):\n",
    "        return \"({0},{1})\".format(self.x,self.y) \n",
    "    \n",
    "    # + / - 연산자를 쓸 수 있도록 아래 함수를 통해 정의\n",
    "    \n",
    "    def __add__(self, other_vec):\n",
    "        return Vector2D(self.x + other_vec.x, self.y + other_vec.y)\n",
    "    def __sub__(self, other_vec):\n",
    "        return Vector2D(self.x - other_vec.x, self.y - other_vec.y)\n",
    "    def __neg__(self):\n",
    "        return Vector2D(-self.x,-self.y)\n",
    "    \n",
    "    # =================================================================\n",
    "    # 이 두 함수를 정의 함에 따라서, 이제 Vector2D class 는 + / - \n",
    "    # 기호를 사용할 수 있게 된다.\n",
    "v1 = Vector2D(30,40)\n",
    "v2 = Vector2D(10,20)\n",
    "print('v1 = ',v1,', v2 = ',v2)\n",
    "\n",
    "v3 = v1 + v2\n",
    "# 특수 연산자를 사용하지 않는다면, v3 = v1.__add__(v2)로 써도 되는 것이다.\n",
    "print('v1 + v2 = ',v3)\n",
    "v4 = v1 - v2\n",
    "# v4 = v1.__sub__(v2)\n",
    "print('v1 - v2 = ',v4 )\n",
    "print('neg v1 = ', -v1)"
   ]
  },
  {
   "cell_type": "code",
   "execution_count": 58,
   "metadata": {},
   "outputs": [
    {
     "name": "stdout",
     "output_type": "stream",
     "text": [
      "v1 =  (30,40) , v2 =  (10,20)\n",
      "v1 + v2 =  (20,20)\n",
      "v1 - v2 =  (40,60)\n"
     ]
    }
   ],
   "source": [
    "# 그럼 만약에, __add__ / __sub__ 함수의 내용을 실제 기호와 다르게 정의하면 어떻게 될까?\n",
    "\n",
    "class Vector2D:\n",
    "    def __init__(self,x,y):\n",
    "        self.x = x\n",
    "        self.y = y\n",
    "    def __str__(self):\n",
    "        return \"({0},{1})\".format(self.x,self.y) \n",
    "    \n",
    "    # + / - 연산자를 쓸 수 있도록 아래 함수를 통해 정의\n",
    "    \n",
    "    def __add__(self, other_vec):\n",
    "        return Vector2D(self.x - other_vec.x, self.y - other_vec.y)\n",
    "    def __sub__(self, other_vec):\n",
    "        return Vector2D(self.x + other_vec.x, self.y + other_vec.y)\n",
    "    \n",
    "    # =================================================================\n",
    "    # 두 함수가 실제 뜻하는 바와 달리, _add_ 함수는 각 벡터를 빼는 기능으로,\n",
    "    # __sub__ 함수는 각 벡터를 더하는 기능으로 만들어봤다.\n",
    "v1 = Vector2D(30,40)\n",
    "v2 = Vector2D(10,20)\n",
    "print('v1 = ',v1,', v2 = ',v2)\n",
    "\n",
    "v3 = v1 + v2\n",
    "print('v1 + v2 = ',v3)\n",
    "v4 = v1 - v2\n",
    "print('v1 - v2 = ',v4 )\n",
    "\n",
    "# 그 결과, 내가 예상한데로, + 기호는 두 벡터를 빼고, - 기호는 두 벡터를 더했다.\n",
    "# 이 말인 곧 즉, __add__ 특수 메소드와 __sub__ 특수 메소드는, 클래스에 \n",
    "# 기호를 사용할 수 있게해주는 메소드일 뿐이다. (실제 그 의미와 다르게라도.)"
   ]
  },
  {
   "cell_type": "code",
   "execution_count": 68,
   "metadata": {},
   "outputs": [
    {
     "name": "stdout",
     "output_type": "stream",
     "text": [
      "c1의 면적 :  50.24\n",
      "c2의 면적 :  78.5\n",
      "c3의 면적 :  78.5355575\n"
     ]
    }
   ],
   "source": [
    "#클래스 변수와 인스턴스 변수\n",
    "# 인스턴스 변수 : 하나의 객체(인스턴스)가 개별적으로 가지고 있는 변수값들\n",
    "# 클래스 변수 : 클래스가 가지고 있는 공통의 변수 --> 클래스로 만들어진 인스턴스 변수가\n",
    "# 모두 동일하다.\n",
    "\n",
    "\n",
    "class Circle:\n",
    "    def __init__(self,name,radius):\n",
    "        self.name = name\n",
    "        self.radius = radius\n",
    "        self.PI = 3.14 # Circle로 만드는 인스턴스들이 \n",
    "        # 자신의 이름으로 가지게 될 동일한 변수이다.\n",
    "        \n",
    "    # 현재 인스턴스의 PI에 반지름 **2을 곱하여 면적을 구함.\n",
    "    def area(self): # 항상 메서드 선언할때 self 쓰는걸 잊지말자\n",
    "        return self.PI * self.radius **2 \n",
    "    # return 꼴이 int형이라고 추측 가능함. \n",
    "    # 위 예시로 들었던 Vector2D 클래서는 return값이 전부 Vector2D 클래스를 통해서 반환해서 조금 헷갈리네.]\n",
    "\n",
    "c1 = Circle(\"C1\",4)\n",
    "print('c1의 면적 : ',c1.area())\n",
    "c2 = Circle('C2',5)\n",
    "print('c2의 면적 : ',c2.area())\n",
    "# Circle에 파이 값을 안넣었는데도, 원의 면적을 출력할 수 있다.\n",
    "\n",
    "# 근데 아래와 같은 경우는 하자가 발생한다.\n",
    "c3 = Circle('C3',5)\n",
    "c3.PI = 3.1414223 # 사용자가 임의로 PI값을 수정했다\n",
    "print('c3의 면적 : ',c3.area()) # 그렇게 출력을 하니, \n",
    "# 다른 인스턴스들과 다른 값이 나옴. 추후 오류를 부를수 있는 설계가 된다.\n",
    "\n",
    "\n"
   ]
  },
  {
   "cell_type": "code",
   "execution_count": 69,
   "metadata": {},
   "outputs": [
    {
     "name": "stdout",
     "output_type": "stream",
     "text": [
      "c1의 면적 :  50.24\n",
      "c2의 면적 :  78.5\n"
     ]
    }
   ],
   "source": [
    "class Circle:\n",
    "    PI = 3.14 # 그래서 사용자가 변수를 수정할 수 없도록, 클래스 자체에 변수를 설정한다.\n",
    "    # (self.PI가 아니라 PI로 선언)\n",
    "    # 각 인스턴스들이 공유하게 됨.\n",
    "    def __init__(self,name,radius):\n",
    "        self.name = name\n",
    "        self.radius = radius\n",
    "     \n",
    "    def area(self): \n",
    "        return Circle.PI * self.radius **2 # self.PI가 아니라, Circle.PI로 호출 (클래스 변수이므로)\n",
    "\n",
    "c1 = Circle(\"C1\",4)\n",
    "print('c1의 면적 : ',c1.area())\n",
    "c2 = Circle('C2',5)\n",
    "print('c2의 면적 : ',c2.area())\n"
   ]
  },
  {
   "cell_type": "code",
   "execution_count": 70,
   "metadata": {},
   "outputs": [
    {
     "name": "stdout",
     "output_type": "stream",
     "text": [
      "c1의 속성들 :  {'name': 'c1', 'radius': 4}\n",
      "c1의 name 변수값 :  c1\n",
      "c1의 radius 변수값 :  4\n"
     ]
    }
   ],
   "source": [
    "# __dict__ 속성\n",
    "'''\n",
    "파이썬 클래스는 디폴트 속성들과 특수 메소드들이 있다. (ex. __str()__, __init__)\n",
    "\n",
    "__dict__ 속성은 객체의 속성을 저장하는데 사용되는 딕셔너리 속성이다.\n",
    "(딕셔너리: 키/ 밸류 쌍을 가지는 자료형으로 키를 이용하여 밸류를 참조할 수 있다.)\n",
    "\n",
    "객체가 가진 여러 속성을 확인하는데 유용하다.\n",
    "\n",
    "\n",
    "\n",
    "추가) 클래스의 속성들\n",
    "\n",
    "__dict__ , __module__, __init__,__weakref__,__doc__\n",
    "'''\n",
    "class Circle:\n",
    "    PI = 3.14\n",
    "    def __init__(self,name,radius):\n",
    "        self.name = name\n",
    "        self.radius = radius\n",
    "     \n",
    "    def area(self): \n",
    "        return Circle.PI * self.radius\n",
    "c1 = Circle(\"c1\",4)\n",
    "\n",
    "# __dict__는 따로 클래스에서 선언을 하지 않는다.\n",
    "\n",
    "print(\"c1의 속성들 : \",c1.__dict__) # Circle이라는 클래스가 가진 사상과 값의 속성들을 사전형으로 보여줌\n",
    "print(\"c1의 name 변수값 : \",c1.__dict__['name']) # 딕셔너리 자료형 다룰때처럼, 키값을 이용해 밸류를 참조 할수도 있다.\n",
    "print(\"c1의 radius 변수값 : \",c1.__dict__['radius'])\n"
   ]
  },
  {
   "cell_type": "code",
   "execution_count": 89,
   "metadata": {},
   "outputs": [
    {
     "name": "stderr",
     "output_type": "stream",
     "text": [
      "UsageError: Line magic function `%%writefile` not found.\n"
     ]
    }
   ],
   "source": [
    "# 모듈 / 패키지\n",
    "# 라이브러리 == 패키지 \n",
    "# 패키지 == 모듈 + 모듈\n",
    "# 모듈 == 코드를 잘 모아서 기능 하나를 하게 만든 파일\n",
    "# animal package\n",
    "# dog,cat modules\n",
    "# dog,cat modules can say \"hi\"\n",
    "%%writefile first.py\n",
    "\n",
    "def Add(x,y):\n",
    "    return x+y"
   ]
  },
  {
   "cell_type": "code",
   "execution_count": null,
   "metadata": {},
   "outputs": [],
   "source": []
  }
 ],
 "metadata": {
  "kernelspec": {
   "display_name": "Python 3",
   "language": "python",
   "name": "python3"
  },
  "language_info": {
   "codemirror_mode": {
    "name": "ipython",
    "version": 3
   },
   "file_extension": ".py",
   "mimetype": "text/x-python",
   "name": "python",
   "nbconvert_exporter": "python",
   "pygments_lexer": "ipython3",
   "version": "3.8.3"
  }
 },
 "nbformat": 4,
 "nbformat_minor": 4
}
