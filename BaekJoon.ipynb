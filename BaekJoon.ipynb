{
 "cells": [
  {
   "cell_type": "code",
   "execution_count": 1,
   "metadata": {},
   "outputs": [
    {
     "name": "stdout",
     "output_type": "stream",
     "text": [
      "Hello World!\n"
     ]
    }
   ],
   "source": [
    "#문제 2557 (2020.11.10)\n",
    "'''Hello World!를 출력하시오'''\n",
    "print(\"Hello World!\")"
   ]
  },
  {
   "cell_type": "code",
   "execution_count": 2,
   "metadata": {},
   "outputs": [
    {
     "name": "stdout",
     "output_type": "stream",
     "text": [
      "강한친구 대한육군\n",
      "강한친구 대한육군\n"
     ]
    }
   ],
   "source": [
    "#문제 10718 (2020.11.11)\n",
    "'''강한친구 대한육군\n",
    "   강한친구 대한육군  을 출력하시오'''\n",
    "print('''강한친구 대한육군\n",
    "강한친구 대한육군''')"
   ]
  },
  {
   "cell_type": "code",
   "execution_count": 3,
   "metadata": {},
   "outputs": [
    {
     "name": "stdout",
     "output_type": "stream",
     "text": [
      "\\    /\\ \n",
      " )  ( ')\n",
      "(  /  )\n",
      " \\(__)|\n"
     ]
    }
   ],
   "source": [
    "#문제 10171 (2020.11.11)\n",
    "'''\\    /\\\n",
    "    )  ( ')\n",
    "   (  /  )\n",
    "    \\(__)|   을 출력하시오'''\n",
    "a1=\"\\    /\\ \"\n",
    "a2=\" )  ( ')\"\n",
    "a3=\"(  /  )\"\n",
    "a4=\" \\(__)|\"\n",
    "print(a1)\n",
    "print(a2)\n",
    "print(a3)\n",
    "print(a4)"
   ]
  },
  {
   "cell_type": "code",
   "execution_count": 5,
   "metadata": {},
   "outputs": [
    {
     "name": "stdout",
     "output_type": "stream",
     "text": [
      "\\    /\\ \n",
      " )  ( ') \n",
      "(  /  )\n",
      "\\(__)|  \n"
     ]
    }
   ],
   "source": [
    "# 10171 숏코딩\n",
    "print('''\\    /\\ \n",
    " )  ( ') \n",
    "(  /  )\n",
    "\\(__)|  ''') # 굳이 객체변수를 여러개 만들 필요는 없다"
   ]
  },
  {
   "cell_type": "code",
   "execution_count": 7,
   "metadata": {},
   "outputs": [
    {
     "name": "stdout",
     "output_type": "stream",
     "text": [
      "\\    /\\\n",
      " )  ( ')\n",
      "(  /  )\n",
      " \\(__)|\n"
     ]
    }
   ],
   "source": [
    "# 10171 백준 숏코드\n",
    "print(\"\\    /\\\\\\n )  ( ')\\n(  /  )\\n \\(__)|\") #여기서 포인트는 \\을 문자로 쓴 상태에서\n",
    "# 줄 변경을 하려면 \\\\n을 써야한다는것. %c%% 이거랑 똑같은 이유인듯 (%%는 뒷 문자를 문자라고 알려주는 거지)"
   ]
  },
  {
   "cell_type": "code",
   "execution_count": 13,
   "metadata": {},
   "outputs": [
    {
     "name": "stdout",
     "output_type": "stream",
     "text": [
      "|\\_/|\n",
      "|q p|   /}\n",
      "( 0 )\"\"\"\\\n",
      "|\"^\"`    |\n",
      "||_/=\\\\__|\n"
     ]
    }
   ],
   "source": [
    "#10172번\n",
    "#개를 출력하라\n",
    "\n",
    "print('''|\\_/|\n",
    "|q p|   /}\n",
    "( 0 )\"\"\"\\\\ \n",
    "|\"^\"`    |\n",
    "||_/=\\\\\\__|''') #포인트는 문자 \\가 문자열의 마지막이거나 연속으로 두번 사용 되려면\n",
    "#\\\\로 적어야한다는 것"
   ]
  },
  {
   "cell_type": "code",
   "execution_count": null,
   "metadata": {},
   "outputs": [],
   "source": []
  }
 ],
 "metadata": {
  "kernelspec": {
   "display_name": "Python 3",
   "language": "python",
   "name": "python3"
  },
  "language_info": {
   "codemirror_mode": {
    "name": "ipython",
    "version": 3
   },
   "file_extension": ".py",
   "mimetype": "text/x-python",
   "name": "python",
   "nbconvert_exporter": "python",
   "pygments_lexer": "ipython3",
   "version": "3.8.3"
  }
 },
 "nbformat": 4,
 "nbformat_minor": 4
}
