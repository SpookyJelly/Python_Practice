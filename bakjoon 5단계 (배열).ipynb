{
 "cells": [
  {
   "cell_type": "code",
   "execution_count": 11,
   "metadata": {},
   "outputs": [
    {
     "name": "stdout",
     "output_type": "stream",
     "text": [
      "4\n",
      "1 2 3 4\n",
      "1 4\n"
     ]
    }
   ],
   "source": [
    "#10818번 최소,최대값 구하기\n",
    "# N개의 정수가 주어진다. 이 때, 최솟값과 최댓값을 구하는  프로그램 작성\n",
    "\n",
    "N = int(input()) #얘는 출력 조건 맞출라고 설정한건데, 실제로 하는건 없네\n",
    "a= list(map(int,input().split())) # a라는 input을 받는 정수 리스트를 만든다\n",
    "d =[] # 빈 리스트 설정\n",
    "d.insert(0,min(a))\n",
    "d.insert(1,max(a))\n",
    "print(d[0], d[1])"
   ]
  },
  {
   "cell_type": "code",
   "execution_count": 13,
   "metadata": {},
   "outputs": [
    {
     "name": "stdout",
     "output_type": "stream",
     "text": [
      "2\n",
      "1 2\n",
      "1 2\n"
     ]
    }
   ],
   "source": [
    "n = int(input())\n",
    "numbers = [int(x) for x in input().split()]\n",
    "print(min(numbers), max(numbers))"
   ]
  },
  {
   "cell_type": "code",
   "execution_count": null,
   "metadata": {},
   "outputs": [],
   "source": []
  }
 ],
 "metadata": {
  "kernelspec": {
   "display_name": "Python 3",
   "language": "python",
   "name": "python3"
  },
  "language_info": {
   "codemirror_mode": {
    "name": "ipython",
    "version": 3
   },
   "file_extension": ".py",
   "mimetype": "text/x-python",
   "name": "python",
   "nbconvert_exporter": "python",
   "pygments_lexer": "ipython3",
   "version": "3.8.3"
  }
 },
 "nbformat": 4,
 "nbformat_minor": 4
}
