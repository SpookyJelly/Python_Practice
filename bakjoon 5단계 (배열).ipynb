{
 "cells": [
  {
   "cell_type": "code",
   "execution_count": 11,
   "metadata": {},
   "outputs": [
    {
     "name": "stdout",
     "output_type": "stream",
     "text": [
      "4\n",
      "1 2 3 4\n",
      "1 4\n"
     ]
    }
   ],
   "source": [
    "#10818번 최소,최대값 구하기\n",
    "# N개의 정수가 주어진다. 이 때, 최솟값과 최댓값을 구하는  프로그램 작성\n",
    "\n",
    "N = int(input()) #얘는 출력 조건 맞출라고 설정한건데, 실제로 하는건 없네\n",
    "a= list(map(int,input().split())) # a라는 input을 받는 정수 리스트를 만든다\n",
    "d =[] # 빈 리스트 설정\n",
    "d.insert(0,min(a)) #비어있는 리스트에 최소값 삽입 min(a) --> a리스트의 최소값 반환 --> int로 반환\n",
    "d.insert(1,max(a)) #비어있는 리스트에 최대값 삽입 max(a)  --> a리스트의 최대값 반환 --> int로 반환\n",
    "print(d[0], d[1])"
   ]
  },
  {
   "cell_type": "code",
   "execution_count": 1,
   "metadata": {},
   "outputs": [
    {
     "name": "stdout",
     "output_type": "stream",
     "text": [
      "3\n",
      "1 2 3 4 5\n",
      "1 5\n"
     ]
    }
   ],
   "source": [
    "#10818번 다른 코딩\n",
    "n = int(input())\n",
    "numbers = [int(x) for x in input().split()] #리스트에 for문 넣는 것도 된다.\n",
    "#in 뒤에는 리스트, 튜플, 문자열이 들어간다. 여러 요소든 단일 요소든 이게 input되는 순간\n",
    "# 하나의 문자열이 만들어지는거니까...자연스럽게 input된 요소들 만큼 반복됨\n",
    "#ex. input으로 1 2 3 입력 --> [1 2 3] 생성 --> range = 3 --> 세번 반복 --> 뭐가 세번 반복?? int(x)가 세번 반복\n",
    "print(min(numbers), max(numbers))"
   ]
  },
  {
   "cell_type": "code",
   "execution_count": 29,
   "metadata": {},
   "outputs": [
    {
     "name": "stdout",
     "output_type": "stream",
     "text": [
      "3\n",
      "29\n",
      "38\n",
      "12\n",
      "57\n",
      "74\n",
      "40\n",
      "85\n",
      "61\n",
      "\n",
      "85\n",
      "8\n"
     ]
    }
   ],
   "source": [
    "# 2562번 최대값과 그 위치 구하기\n",
    "# 9개의 서로 다른 자연수가 주어질때 이들 중 최대값을 찾고 그 최댓값이 몇번째 수인지 구하시오\n",
    "a = []\n",
    "while True :\n",
    "    try :\n",
    "        d = int(input())\n",
    "        a.insert(0,d) # insert(a,b) 꼴 준수. insert이용해서 같은 자리에 끼워넣어도 원래 값은 삭제 되지 않고 밀어내기로 간다\n",
    "    except :\n",
    "        a.reverse() #insert로 넣었으니까 먼저 입력받은수가 뒤로 밀림. 그래서 reverse 사용해서 입력 순으로 정렬되게 만듬\n",
    "        print(max(a))\n",
    "        print((a.index(max(a)))+1)#리스트 시작이 0으로 시작하니까 +1 해줘서 a[0]이 1번째 수로 보이도록 만듬\n",
    "        break"
   ]
  },
  {
   "cell_type": "code",
   "execution_count": 32,
   "metadata": {},
   "outputs": [
    {
     "name": "stdout",
     "output_type": "stream",
     "text": [
      "3\n",
      "29\n",
      "38\n",
      "12\n",
      "57\n",
      "74\n",
      "40\n",
      "85\n",
      "61\n",
      "\n",
      "85\n",
      "8\n"
     ]
    }
   ],
   "source": [
    "# 2562번 최대값과 그 위치 구하기 (수정// append 사용)\n",
    "a = []\n",
    "while True :\n",
    "    try :\n",
    "        a.append(int(input())) # append 쓰니까 몹시 간단하네. 이건 그냥 리스트에 맨 마지막에 x를 추가해주는 것.\n",
    "        #append()안에는 어떤 자료형도 들어갈수 있다 (정확히는 리스트의 특성이지만)\n",
    "        # 그럼에도 int 쓴 이유?? 밑에 max 메소드 사용할때 정수형이 필요하니까\n",
    "    except :\n",
    "        print(max(a))\n",
    "        print((a.index(max(a)))+1)\n",
    "        break"
   ]
  },
  {
   "cell_type": "code",
   "execution_count": 60,
   "metadata": {},
   "outputs": [
    {
     "name": "stdout",
     "output_type": "stream",
     "text": [
      "150\n",
      "266\n",
      "427\n",
      "3\n",
      "1\n",
      "0\n",
      "2\n",
      "0\n",
      "0\n",
      "0\n",
      "2\n",
      "0\n",
      "0\n"
     ]
    }
   ],
   "source": [
    "#2577번 숫자의 개수\n",
    "# 세 개의 자연수 A,B,C가 주어질 때 A*B*C를 계산할 결과에 0부터 9까지 각각의\n",
    "# 숫자가 몇번 씩 쓰였는지를 구하는 프로그램을 작성하시오.\n",
    "A = int(input())\n",
    "B = int(input())\n",
    "C = int(input())\n",
    "D = list(str(A*B*C)) # A*B*C를 문자열 리스트로 바꿔줌. count 내장함수를 쓰기 위해서\n",
    "E = ['0','1','2','3','4','5','6','7','8','9'] # 얘들을 D에 count할꺼다.\n",
    "for i in E: #여기를 range로 하면. i에 정수값들이 들어감\n",
    "    N = D.count(i) #여기서 문제가 생김..for문이 돌아도 'i'는 문자 취급이라 변하지 않는다\n",
    "    print(N) #근데 in 뒤에는 리스트,튜플,문자열이 들어갈 수 있다.\n",
    "    #for i in E를 하면 i가 E의 요소값 하나하나 대입되어 이하의 수행할 문장 수행한다.\n",
    "    # 그래서 N = D.count(i)가 N=D.count('0'), ('1'), ('2') 등등으로 나간다"
   ]
  },
  {
   "cell_type": "code",
   "execution_count": null,
   "metadata": {},
   "outputs": [],
   "source": [
    "#2577번 다른버젼\n",
    "a=input()\n",
    "b=input()\n",
    "c=input()\n",
    "r=int(a)*int(b)*int(c)\n",
    "r=str(r)\n",
    "for i in range(10): #in 이하를 정수 리스트로 돌리고\n",
    "    print(r.count(str(i))) # count(str(i))로 함으로서, i는 그대로 정수꼴로 대입되는데, \n",
    "    #그걸 str화 해서 그걸 count 하는 방식\n",
    "    \n"
   ]
  },
  {
   "cell_type": "code",
   "execution_count": 97,
   "metadata": {},
   "outputs": [
    {
     "name": "stdout",
     "output_type": "stream",
     "text": [
      "39\n",
      "40\n",
      "41\n",
      "42\n",
      "43\n",
      "44\n",
      "82\n",
      "83\n",
      "84\n",
      "85\n",
      "6\n"
     ]
    }
   ],
   "source": [
    "#3052번 나머지\n",
    "# 수 10개를 입력 받은뒤, 이를 42로 나눈 나머지로 구한다. 그 다음 서로 다른 값이 몇개 있는지 출력하라\n",
    "b = []\n",
    "for i in range(0,10) :\n",
    "    a =(int(input())%42)\n",
    "    b.append(a)\n",
    "b=set(b) # set 함수를 까먹고 있었네. set은 집합을 만들어주는 함수로, 저장되는 값에\n",
    "# 중복을 허용하지 않고, Unordered되어있다 --> 인덱싱 할 수 없다.\n",
    "print(len(b))"
   ]
  },
  {
   "cell_type": "code",
   "execution_count": 122,
   "metadata": {},
   "outputs": [
    {
     "name": "stdout",
     "output_type": "stream",
     "text": [
      "3\n",
      "40 80 60\n",
      "75.0\n"
     ]
    }
   ],
   "source": [
    "#1546번 새로운 평균 구하기\n",
    "# 첫째 줄에 시험 본 과목 수 N 이 주어지고, 둘째 줄에 현재 성적 입력\n",
    "# 출력은 새로운 점수의 평균. 새로운 점수 = (점수 / 최고점수) * 100\n",
    "N = int(input())\n",
    "A = list(map(int,input().split()))#A를 리스트화 하는거?? 이건 안하면 map으로 지정되서 그럼.\n",
    "# 무슨 문제 생기는지는 모르겠지만 일단 A[i]등의 호출이 안먹히지 않을까?\n",
    "# 그러네 'map' object is not subscriptable 쓴다.(첨자 가능하지 않다) --> means A[0] 처럼 A의 첫번째\n",
    "#원소를 나타낼수 없다는 뜻. **map은 not subscriptable object 이다!\n",
    "result = 0 # 초기값 입력. for에서 변수 생성되면 이상한 값 들어감\n",
    "for i in range(0,N):\n",
    "    result = result+((A[i]/max(A))*100) \n",
    "print(result/N)\n"
   ]
  },
  {
   "cell_type": "code",
   "execution_count": 138,
   "metadata": {},
   "outputs": [
    {
     "name": "stdout",
     "output_type": "stream",
     "text": [
      "5\n",
      "OOXXOXXOOO\n",
      "10\n",
      "OOXXOOXXOO\n",
      "9\n",
      "OOOOOOOOOOO\n",
      "66\n",
      "OX\n",
      "1\n",
      "X\n",
      "0\n",
      "OO\n",
      "3\n"
     ]
    }
   ],
   "source": [
    "#8958번 OX퀴즈\n",
    "# 첫째 줄에 테스트 케이스 개수 주어짐\n",
    "# 각 테스트 케이스 마다 O 면 +1 연속 될때마다 추가로 +1 X는 0점\n",
    "# 결과가 주어졌을 때 점수를 구하라\n",
    "\n",
    "N = int(input())\n",
    "result = 0\n",
    "bonus = 0\n",
    "for i in range(0,N):\n",
    "    a = list(input())\n",
    "    len_a = len(a)\n",
    "    for j in range(0,len_a):\n",
    "        if a[j] == 'O':\n",
    "            bonus +=1\n",
    "            result += bonus\n",
    "        elif a[j] != 'O':\n",
    "            bonus = 0\n",
    "    print(result)\n",
    "    result = 0\n",
    "    bonus = 0"
   ]
  },
  {
   "cell_type": "code",
   "execution_count": 80,
   "metadata": {
    "scrolled": true
   },
   "outputs": [
    {
     "name": "stdout",
     "output_type": "stream",
     "text": [
      "3\n",
      "5 50 50 70 80 100\n",
      "3 70 90 80\n",
      "3 70 90 81\n",
      "40.000%\n",
      "33.333%\n",
      "66.667%\n"
     ]
    }
   ],
   "source": [
    "#4344번 평균은 넘겠지\n",
    "# 첫째 줄에는 테스트 케이스 개수가 주어진다\n",
    "# 둘째 줄'부터' 각 케이스 마다 학생의 수 N이 처음에 주어지고, N명의 점수가 나온다\n",
    "# 각 케이스마다 한 줄 씩 평균을 넘는 학생들의 비율을 반올림하여 소수점 셋째까지 구한다\n",
    "# 결과 한번에 출력 버전\n",
    "A = 0 #for문에 들어가는 A 초기값 설정. A = 평균값 넘은 요소들의 개수\n",
    "B = [] # 비어있는 리스트 제작. 여기에 % 값 때려넣을꺼다\n",
    "C = int(input())\n",
    "for i in range(0,C):\n",
    "    N_case = list(map(int,input().split()))\n",
    "    total = sum(N_case)-N_case[0] #sum() == 리스트의 정수값을 합쳐준다\n",
    "    average = (total/N_case[0])\n",
    "    for j in range(1,N_case[0]+1): #이러면 j가 n_case[1]~n_case[마지막]으로 지정됨. range 만들때 흔히 하던 (0,N)을 하면 '학생들의 수'가 들어감  \n",
    "        if N_case[j] > average:\n",
    "            A +=1 # 평균 이상인 값들을 카운팅\n",
    "        else:\n",
    "            pass\n",
    "    cruel_reality = (A*100)/N_case[0] # N_case[0] == 표본의 수. 평균 초과 케이스를 %화 시킴\n",
    "    cruel_reality = round(cruel_reality,3)#round(float,X) == float를 소수점 X자리까지 냅두고 반올림\n",
    "    B.append(cruel_reality) #B에다가 각 케이스별 c_r를 때려넣음\n",
    "    A=0\n",
    "for k in range (0,len(B)):\n",
    "    print('%.3f%%' %B[k])"
   ]
  },
  {
   "cell_type": "code",
   "execution_count": 76,
   "metadata": {},
   "outputs": [
    {
     "name": "stdout",
     "output_type": "stream",
     "text": [
      "5\n",
      "5 50 50 70 80 100\n",
      "40.000%\n",
      "7 100 95 90 80 70 60 50\n",
      "57.143%\n",
      "3 70 90 80\n",
      "33.333%\n",
      "3 70 90 81\n",
      "66.667%\n",
      "9 100 99 98 97 96 95 94 93 91\n",
      "55.556%\n"
     ]
    }
   ],
   "source": [
    "#4344번 결과 즉각 출력형\n",
    "A = 0\n",
    "C = int(input())\n",
    "for i in range(0,C):\n",
    "    N_case = list(map(int,input().split()))\n",
    "    total = sum(N_case)-N_case[0]\n",
    "    average = (total/N_case[0])\n",
    "    for j in range(1,N_case[0]+1):\n",
    "        if N_case[j] > average:\n",
    "            A +=1\n",
    "        else:\n",
    "            pass\n",
    "    cruel_reality = (A*100)/N_case[0]\n",
    "    cruel_reality = round(cruel_reality,3)\n",
    "    print('%.3f%%' %(cruel_reality))\n",
    "    A=0"
   ]
  },
  {
   "cell_type": "code",
   "execution_count": 11,
   "metadata": {},
   "outputs": [
    {
     "name": "stdout",
     "output_type": "stream",
     "text": [
      "30\n"
     ]
    }
   ],
   "source": [
    "a = 30\n",
    "print('%d' %(a)) # 으우 시발 정수평 포메팅을 까먹었네.."
   ]
  }
 ],
 "metadata": {
  "kernelspec": {
   "display_name": "Python 3",
   "language": "python",
   "name": "python3"
  },
  "language_info": {
   "codemirror_mode": {
    "name": "ipython",
    "version": 3
   },
   "file_extension": ".py",
   "mimetype": "text/x-python",
   "name": "python",
   "nbconvert_exporter": "python",
   "pygments_lexer": "ipython3",
   "version": "3.8.3"
  }
 },
 "nbformat": 4,
 "nbformat_minor": 4
}
