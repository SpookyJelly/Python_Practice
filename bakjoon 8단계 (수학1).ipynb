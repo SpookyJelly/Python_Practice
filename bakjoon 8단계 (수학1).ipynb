{
 "cells": [
  {
   "cell_type": "code",
   "execution_count": 25,
   "metadata": {},
   "outputs": [
    {
     "name": "stdout",
     "output_type": "stream",
     "text": [
      "231 2 1\n"
     ]
    },
    {
     "data": {
      "text/plain": [
       "-1"
      ]
     },
     "execution_count": 25,
     "metadata": {},
     "output_type": "execute_result"
    }
   ],
   "source": [
    "#1712번 손익분기점\n",
    "#A, B, C가 주어졌을 때, 손익분기점을 구하는 프로그램을 작성하시오.\n",
    "#A == 고정비용 // 생산 판매에 관계없이 발생하는 비용\n",
    "# B == 가변 비용 // 생산에 드는 비용\n",
    "# C == 소비자가\n",
    "# 첫번째 줄에 최초로 이익이 발생하는 판매량 출력, 손익 분기점 없으면 -1 출력\n",
    "def sonik(A,B,C) :\n",
    "    N = 0\n",
    "    while True:\n",
    "        if (A+B*N)-C*N<0:\n",
    "            return N\n",
    "            break\n",
    "        if B>C :\n",
    "            return -1\n",
    "        else :\n",
    "            N+=1\n",
    "A,B,C = map(int,input().split())\n",
    "sonik(A,B,C)\n",
    "# 답은 맞는데 함수로 만드니까 시간 초과 뜨네"
   ]
  },
  {
   "cell_type": "code",
   "execution_count": 52,
   "metadata": {},
   "outputs": [
    {
     "name": "stdout",
     "output_type": "stream",
     "text": [
      "1000 70 70\n"
     ]
    },
    {
     "ename": "KeyboardInterrupt",
     "evalue": "",
     "output_type": "error",
     "traceback": [
      "\u001b[1;31m---------------------------------------------------------------------------\u001b[0m",
      "\u001b[1;31mKeyboardInterrupt\u001b[0m                         Traceback (most recent call last)",
      "\u001b[1;32m<ipython-input-52-8fc94fa4c74f>\u001b[0m in \u001b[0;36m<module>\u001b[1;34m\u001b[0m\n\u001b[0;32m     10\u001b[0m         \u001b[1;32mbreak\u001b[0m\u001b[1;33m\u001b[0m\u001b[1;33m\u001b[0m\u001b[0m\n\u001b[0;32m     11\u001b[0m     \u001b[1;32melse\u001b[0m \u001b[1;33m:\u001b[0m\u001b[1;33m\u001b[0m\u001b[1;33m\u001b[0m\u001b[0m\n\u001b[1;32m---> 12\u001b[1;33m         \u001b[0mN\u001b[0m\u001b[1;33m+=\u001b[0m\u001b[1;36m1\u001b[0m\u001b[1;33m\u001b[0m\u001b[1;33m\u001b[0m\u001b[0m\n\u001b[0m\u001b[0;32m     13\u001b[0m \u001b[1;31m# 오잉 이래도 시간 초과네. 그냥 N을 계산하는게 맞나, 일일이 +1 하지말고\u001b[0m\u001b[1;33m\u001b[0m\u001b[1;33m\u001b[0m\u001b[1;33m\u001b[0m\u001b[0m\n",
      "\u001b[1;31mKeyboardInterrupt\u001b[0m: "
     ]
    }
   ],
   "source": [
    "#1712번 논 함수 버젼\n",
    "A,B,C = map(int,input().split())\n",
    "N = 0\n",
    "while True:\n",
    "    if (A+B*N)-C*N<0:\n",
    "        print(N)\n",
    "        break\n",
    "    if B>C :\n",
    "        print('-1')\n",
    "        break\n",
    "    else :\n",
    "        N+=1\n",
    "# 오잉 이래도 시간 초과네. 그냥 N을 계산하는게 맞나, 일일이 +1 하지말고"
   ]
  },
  {
   "cell_type": "code",
   "execution_count": 51,
   "metadata": {},
   "outputs": [
    {
     "name": "stdout",
     "output_type": "stream",
     "text": [
      "11\n"
     ]
    }
   ],
   "source": [
    "A = 1000\n",
    "B = 70\n",
    "C = 170\n",
    "N = -A/(B-C)\n",
    "B*N-C*N=0\n",
    "B*N=C*N\n",
    "print(int(N+1))"
   ]
  },
  {
   "cell_type": "code",
   "execution_count": 55,
   "metadata": {},
   "outputs": [
    {
     "name": "stdout",
     "output_type": "stream",
     "text": [
      "3 2 1\n",
      "-1\n"
     ]
    }
   ],
   "source": [
    "#1712번 그냥 수학\n",
    "A,B,C = map(int,input().split())\n",
    "N = -A/(B-C)\n",
    "if B<C:\n",
    "    print(int(N+1))\n",
    "elif B>=C:\n",
    "    print(-1)\n",
    "# 아니 왜 런타임 에러야"
   ]
  },
  {
   "cell_type": "code",
   "execution_count": 74,
   "metadata": {},
   "outputs": [
    {
     "name": "stdout",
     "output_type": "stream",
     "text": [
      "1000 70 170\n",
      "11\n"
     ]
    }
   ],
   "source": [
    "A,B,C = map(int,input().split())\n",
    "if B>=C:\n",
    "    print(-1)\n",
    "else:\n",
    "    print((-A//(B-C))+1)\n",
    "# 아니 이건 위에랑 똑같은데 왜 런타임 에러 안나지....존나 신기하네 진짜\n",
    "# int를 써서??? elif를 써서??? if문이 더 복잡해서???\n",
    "# 다른 사람들 코드 보니까 그냥 N을 선언하고 계산시켜서 그런거 같다\n",
    "#print 내에서 처리하니까 문제 없음"
   ]
  },
  {
   "cell_type": "code",
   "execution_count": 148,
   "metadata": {},
   "outputs": [
    {
     "name": "stdout",
     "output_type": "stream",
     "text": [
      "12\n",
      "2\n"
     ]
    }
   ],
   "source": [
    "#2839번 설탕배달\n",
    "#3kg 봉지 A개와 5kg 봉지 B개로 N그램을 딱 맞춰라\n",
    "#A+B는 최소값이 되어야하고, N을 못 맞추면 -1을 출력하라\n",
    "A=0\n",
    "B=0\n",
    "test1=0\n",
    "test2=0\n",
    "test3=0\n",
    "N = int(input())\n",
    "A = N//5\n",
    "C = int((N-5*A)/3)\n",
    "if C == int(C):\n",
    "    B = (N-5*A)//3\n",
    "    print(A+B)\n",
    "else :\n",
    "    print(-1)"
   ]
  },
  {
   "cell_type": "code",
   "execution_count": 265,
   "metadata": {},
   "outputs": [
    {
     "name": "stdout",
     "output_type": "stream",
     "text": [
      "11\n",
      "3\n"
     ]
    }
   ],
   "source": [
    "#2839번 설탕배달\n",
    "#기본 아이디어 /5하기.\n",
    "# 안되면 -3 하고 봉지 +1\n",
    "N = int(input())\n",
    "box = 0\n",
    "while True: #여기가 while N>0 이면 N이 0되었을때 루프가 멈추고 아무런 값이 출력되지 않는다.\n",
    "    if N%5 ==0: # 포인트 : 딱 떨어지는거 구분할라면, 나머지를 return하는 % 연산자 쓰자\n",
    "        box = box + N//5 #N//5는 N을 5로 나눈 몫. 이 조건문이 애초에 5로 나누어 떨어질때 되는거니까\n",
    "        print(int(box))\n",
    "        break\n",
    "    N= N-3\n",
    "    box +=1\n",
    "    if N<0:\n",
    "        print('-1')\n",
    "        break"
   ]
  },
  {
   "cell_type": "code",
   "execution_count": 16,
   "metadata": {},
   "outputs": [
    {
     "name": "stdout",
     "output_type": "stream",
     "text": [
      "58\n",
      "5\n"
     ]
    }
   ],
   "source": [
    "#2292번 벌집\n",
    "# 다음과 같이 육각형으로 이루어진 벌집이 있다.\n",
    "#숫자 N이 주어졌을때, 벌집의 중앙 1에서 N번방까지 최소 개수의 방을 지나서 갈때\n",
    "#몇개의 방을 지나가는지 계산하는 프로그램 작성\n",
    "\n",
    "N = int(input())\n",
    "a1=1 #최초값\n",
    "plus = 6 # 등차\n",
    "count = 1 # 몇개방 통과하는지 카운트 \n",
    "if N == 1: \n",
    "    print(count) #N이 1이면 밑에 while문도 안돌아가니까, 그 위에서 바로 N==1이면 그냥 count출력\n",
    "while N>a1 :#N>a1 조건 만족하는 한 계속 돈다\n",
    "    a1 = a1 +plus # 등차수열\n",
    "    plus = plus + 6 #근데 등차가 루트 돌때마다 6씩 커진다 \n",
    "    count = count +1 # 그리고 루트 몇번 돌았는지 증가\n",
    "    if N<=a1: #while 돌다가 이 조건 만족시키면 여기로 빠진다\n",
    "        print(count)\n",
    "        \n",
    "'''포인트는 일정 범위내의 숫자가 같은 방을 통과한다는 것임.\n",
    "2~7는 최소 2개 방, 8~19는 3개방 20~37는 4개방 ...\n",
    "최대값을 뽑아서 분석해보니까, 1,7,19,37,61의 수열이고, 등차가 6씩 커지는 특성임\n",
    "이런거는 일반항 구할라면 쉽지 않지만, 다음 항으로 넘어갈때마다 객체의 값을 최신화 하는 식으로\n",
    "해결'''"
   ]
  },
  {
   "cell_type": "code",
   "execution_count": 85,
   "metadata": {},
   "outputs": [
    {
     "name": "stdout",
     "output_type": "stream",
     "text": [
      "14\n",
      "1 2 0 1\n",
      "3 3 0 2\n",
      "6 4 0 3\n",
      "10 5 0 4\n",
      "15 6 0 5\n"
     ]
    }
   ],
   "source": [
    "#1193번 분수찾기\n",
    "# 무한히 큰 배열에서 지그재그 순서로 분수 찾기\n",
    "# X가 주어졌을때, x번째 분수를 구하는 프로그램을 작성하시오\n",
    "#기본 아이디어 = N이 어떤 수열에 포함 되어있나 찾기\n",
    "#이후 해당 수열에서 몇번째 위치인지 계산\n",
    "N = int(input())\n",
    "A1 = 1 #N이 포함되있는 리스트 찾기\n",
    "A2 = 0\n",
    "count = 0\n",
    "total = 0\n",
    "while N>total:\n",
    "    total = total+ A1\n",
    "    A2 = A1+1\n",
    "    A1 = A2\n",
    "    count = count +1\n",
    "\n",
    "C = total - N\n",
    "#count가 홀짝인지 따라 진행방향이 다르므로 구분\n",
    "if count%2==1: # count가 홀수면\n",
    "    print('{0}/{1}'.format(1+C,count-C)) # print함수와 format 메소드 사용하는 방식 잘 기억해라\n",
    "elif count%2==0: #count가 짝수면\n",
    "    print('{0}/{1}'.format(count-C,1+C))"
   ]
  },
  {
   "cell_type": "code",
   "execution_count": 138,
   "metadata": {},
   "outputs": [
    {
     "name": "stdout",
     "output_type": "stream",
     "text": [
      "5 1 10\n",
      "3\n"
     ]
    }
   ],
   "source": [
    "#2869번 달팽이는 올라가고 싶다.\n",
    "'''땅 위에 달팽이가 있다. 이 달팽이는 높이가 V미터인 나무 막대를 올라갈 것이다.\n",
    "달팽이는 낮에 A미터 올라갈 수 있다. 하지만, 밤에 잠을 자는 동안 B미터 미끄러진다. \n",
    "또, 정상에 올라간 후에는 미끄러지지 않는다.\n",
    "달팽이가 나무 막대를 모두 올라가려면, 며칠이 걸리는지 구하는 프로그램을 작성하시오.'''\n",
    "#첫째 줄에 세 정수 A, B, V가 공백으로 구분되어서 주어진다. (1 ≤ B < A ≤ V ≤ 1,000,000,000)\n",
    "#첫째 줄에 달팽이가 나무 막대를 모두 올라가는데 며칠이 걸리는지 출력한다.\n",
    "\n",
    "A,B,V = list(map(int,input().split()))\n",
    "day = 0\n",
    "t = 0 # 달팽이가 올라간 총 거리\n",
    "while True:\n",
    "    t = t+A\n",
    "    if V<=t:\n",
    "        break\n",
    "    t = t-B\n",
    "    day +=1\n",
    "print(day+1)\n",
    "# 시간 초과 뜨네"
   ]
  },
  {
   "cell_type": "code",
   "execution_count": 142,
   "metadata": {},
   "outputs": [
    {
     "name": "stdout",
     "output_type": "stream",
     "text": [
      "5 1 6\n",
      "2\n"
     ]
    }
   ],
   "source": [
    "#2869번 수정본\n",
    "import math\n",
    "A,B,V = list(map(int,input().split()))\n",
    "T1 = (V-A)/(A-B) # 처음 Am는 그냥 올라가는거니까 V에서 빼고, A-B 만큼 날마다 돌라감\n",
    "# 포인트는 //가 아닌 /을 이용해 실수형으로 받았다는것. 실수로 받아야지 밑에 나오는\n",
    "#ceil 함수를 쓸수 있다.(0을 안나오게 함으로서.)\n",
    "print(math.ceil(T1)+1) # 마지막 날 아침에 등반을 하는거니까 +1을 해준다\n",
    "#math.floor(x) --> 내림 함수\n",
    "#math.ceil(x) --> 올림 함수\n",
    "#round(x) --> 반올림 함수"
   ]
  },
  {
   "cell_type": "code",
   "execution_count": 155,
   "metadata": {},
   "outputs": [
    {
     "name": "stdout",
     "output_type": "stream",
     "text": [
      "1\n",
      "30 50 72\n",
      "42 30\n",
      "422\n"
     ]
    }
   ],
   "source": [
    "#10250번 ACM 호텔\n",
    "#설명 생략\n",
    "T = int(input())\n",
    "Y=1\n",
    "for i in range(T): # 테스트 케이스 마다 반복하는 구문\n",
    "    H,W,N = list(map(int,input().split()))\n",
    "    while H<N:\n",
    "        N = N - H # 손님변수를을 H층 1호에 다 집어넣고 남은 손님으로 바꿈\n",
    "        Y +=1 # 그리고 다음 손님 웨이브는 2호에 넣으니까 Y+1함\n",
    "        # 해당 코스를 반복\n",
    "    #N는 H보다 작은 값이 되어 있을 것이고, 이게 곧 X값이랑 동일함(낮은층부터 순서대로 배정하기 때문에)\n",
    "    #그럼 XYY꼴로 표시해야하는데,\n",
    "    if Y<10:#Y를 YY 꼴로 나타내야해서 두가지 경우로 나눔.\n",
    "        print('{0}0{1}'.format(N,Y))\n",
    "    else :\n",
    "        print('{0}{1}'.format(N,Y))\n",
    "    Y = 1 # Y값 초기화 해줘야지 테스트 케이스마다 에러 안남\n",
    "# 이게 맞네 헐"
   ]
  },
  {
   "cell_type": "code",
   "execution_count": 3,
   "metadata": {},
   "outputs": [
    {
     "name": "stdout",
     "output_type": "stream",
     "text": [
      "2\n",
      "1\n",
      "3\n",
      "6\n",
      "2\n",
      "3\n",
      "10\n"
     ]
    }
   ],
   "source": [
    "#2775번 부녀회장이 될테야\n",
    "'''첫 번째 줄에 Test case의 수 T가 주어진다. \n",
    "그리고 각각의 케이스마다 입력으로 첫 번째 줄에 정수 k,\n",
    "두 번째 줄에 정수 n이 주어진다. \n",
    "(1 <= k <= 14, 1 <= n <= 14)'''\n",
    "'''주어지는 양의 정수 k와 n에 대해 k층에 n호에는 몇 명이 살고 있는지 출력하라. \n",
    "단, 아파트에는 0층부터 있고 각층에는 1호부터 있으며, 0층의 i호에는 i명이 산다.'''\n",
    "'''“a층의 b호에 살려면 자신의 아래(a-1)층의 1호부터 \n",
    "b호까지 사람들의 수의 합만큼 사람들을 데려와 살아야 한다”'''\n",
    "for i in range(int(input())):\n",
    "    k = int(input())\n",
    "    n = int(input())\n",
    "    floor = [i for i in range(1,n+1)]#굳이 14호 다 만들 필요없이 입력 받는 호 수 까지만 만들면 된다\n",
    "    for j in range(k): #k가 층 수니까 입력 받은 층수만큼 반복, 근데 이하의 반복문에서는 j 가 안 쓰이니까 걍 루프 도는 용도로 쓰인거네\n",
    "        for u in range(1,n):\n",
    "            floor[u]+=floor[u-1] #floor[u] = floor[u]+floor[u-1]인데, 이게 루프를 돌면서 k+1층의 인원수로 맞춰진다\n",
    "    print(floor[-1]) # floor[-1]은 floor 리스트의 오른쪽에서 1번째 있는 요소를 지칭하는 말이다\n",
    "# 포인트는 k층 n호에 사는 사람은 k층 n-1호에 사는 인원 + k-1층 n호에 사는 인원이다            "
   ]
  },
  {
   "cell_type": "code",
   "execution_count": null,
   "metadata": {},
   "outputs": [],
   "source": [
    "#1011번 Fly me to the Alpha Centauri\n",
    "#문제 생략\n",
    "#입력의 첫 줄에는 테스트케이스 개수 T가 주어지고\n",
    "#각각의 테스트 케이스에 대해 현재위치 x와 목표 위치 y가 주어지고\n",
    "#x는 항상 y보다 작은 값을 가진다\n",
    "#각 테스트 케이스에 대해 최소한의 공간이동 장치 작동 횟수 출력\n",
    "# 마지막 도약은 반드시 1광년으로 해야한다\n",
    "\n",
    "for i in range(int(input())):\n",
    "    x,y = list(map(int,input().split()))\n",
    "    distance = y-x # 이동해야할 거리\n",
    "    count = 0 # 이동횟수\n",
    "    move = 1 # count별 빈도수\n",
    "    move_plus = 0 # 이동한 거리의 합\n",
    "    while move_plus < distance :\n",
    "        count +=1\n",
    "        move_plus += move # count 수에 해당하는 move를 더함\n",
    "        if count %2 == 0 : #couny가 2의 배수 일 때,\n",
    "            move +=1\n",
    "    print(count)\n",
    "# 더 강해져서 돌아오겠다"
   ]
  },
  {
   "cell_type": "code",
   "execution_count": 96,
   "metadata": {},
   "outputs": [
    {
     "name": "stdout",
     "output_type": "stream",
     "text": [
      "4\n",
      "10 10 4 50\n",
      "0\n"
     ]
    }
   ],
   "source": [
    "#1978번 소수 찾기\n",
    "#첫 줄에 수의 개수 N이 주어진다. N은 100이하이다. 다음으로 N개의 수가 주어지는데\n",
    "# 수는 1,000이하의 자연수이다\n",
    "# 주어진 수들 중 소수의 개수를 출력한다.\n",
    "\n",
    "N = int(input())\n",
    "ans = 0 #소수의 개수\n",
    "sosu = list(map(int,input().split()))\n",
    "for i in range(N):\n",
    "    count = 0 # 여기에 count = 0 선언해야지 루트 돌때마다 초기화 된다\n",
    "    for j in range(1,sosu[i]+1): # j가1~소수리스트의 i번째 항이 된다\n",
    "        if sosu[i]%j==0: #그리고 sosu[i]번째 항을 전부 j로 나누어봐서 딱 떨어지면\n",
    "            count+=1 # count가 1 오른다\n",
    "    if count == 2:#count가 2인 경우 (약수가 2개인 경우)\n",
    "        ans +=1 # 소수로 인정한다\n",
    "print(ans)"
   ]
  },
  {
   "cell_type": "code",
   "execution_count": 78,
   "metadata": {},
   "outputs": [
    {
     "data": {
      "text/plain": [
       "[1, 2, 3, 4]"
      ]
     },
     "execution_count": 78,
     "metadata": {},
     "output_type": "execute_result"
    }
   ],
   "source": [
    "sosu"
   ]
  },
  {
   "cell_type": "code",
   "execution_count": 34,
   "metadata": {},
   "outputs": [
    {
     "data": {
      "text/plain": [
       "6"
      ]
     },
     "execution_count": 34,
     "metadata": {},
     "output_type": "execute_result"
    }
   ],
   "source": [
    "max(sosu)"
   ]
  },
  {
   "cell_type": "code",
   "execution_count": 68,
   "metadata": {},
   "outputs": [
    {
     "data": {
      "text/plain": [
       "9"
      ]
     },
     "execution_count": 68,
     "metadata": {},
     "output_type": "execute_result"
    }
   ],
   "source": [
    "count"
   ]
  },
  {
   "cell_type": "code",
   "execution_count": 62,
   "metadata": {},
   "outputs": [
    {
     "data": {
      "text/plain": [
       "1"
      ]
     },
     "execution_count": 62,
     "metadata": {},
     "output_type": "execute_result"
    }
   ],
   "source": [
    "1%3"
   ]
  },
  {
   "cell_type": "code",
   "execution_count": null,
   "metadata": {},
   "outputs": [],
   "source": []
  }
 ],
 "metadata": {
  "kernelspec": {
   "display_name": "Python 3",
   "language": "python",
   "name": "python3"
  },
  "language_info": {
   "codemirror_mode": {
    "name": "ipython",
    "version": 3
   },
   "file_extension": ".py",
   "mimetype": "text/x-python",
   "name": "python",
   "nbconvert_exporter": "python",
   "pygments_lexer": "ipython3",
   "version": "3.8.3"
  }
 },
 "nbformat": 4,
 "nbformat_minor": 4
}
