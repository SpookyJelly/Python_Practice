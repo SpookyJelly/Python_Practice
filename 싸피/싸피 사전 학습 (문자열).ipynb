{
 "cells": [
  {
   "cell_type": "code",
   "execution_count": 1,
   "metadata": {},
   "outputs": [
    {
     "name": "stdout",
     "output_type": "stream",
     "text": [
      "==================================================\n"
     ]
    }
   ],
   "source": [
    "'''\n",
    "str.lstrip(\" \") --> \" \"안에 있는 문자들을 왼쪽에서부터 제거, (\" \"외 다른 문자가 나올때 까지)\n",
    "str.rstrip(\" \") --> \" \"안에 있는 문자들을 오른쪽에서부터 제거. (\" \"외 다른 문자가 나올때 까지)\n",
    "str.strip(\" \" ) --> \" \"안에 있는 문자들을 양쪽으로 제거. (\" \"외 다른 문자가 나올 때 까지)\n",
    "\n",
    "str.split(\" \")  --> 전달된 인자로 문자열을 잘라 이를 항목으로 갖는 리스트 생성\n",
    "\n",
    "str.replace(a , b) --> str의 a를 b로 치환\n",
    "\n",
    "str.isdigit() --> 숫자문자열일 경우 True를 반환하는 함수\n",
    "\n",
    "\n",
    "'''\n",
    "print( '=' * 50)"
   ]
  },
  {
   "cell_type": "code",
   "execution_count": 14,
   "metadata": {},
   "outputs": [
    {
     "name": "stdout",
     "output_type": "stream",
     "text": [
      "maddam\n",
      "maddam\n",
      "입력하신 단어는 회문(Palindrome)입니다.\n"
     ]
    }
   ],
   "source": [
    "#6232번 문자열 연습문제 1\n",
    "'''\n",
    "다음의 결과와 같이 회문(앞뒤 어느 쪽에서도 같은 단어, 말) 여부를 판단하는 코드를 작성하십시오.\n",
    "\n",
    "입력\n",
    "madam\n",
    "\n",
    "\n",
    "출력\n",
    "\n",
    "madam\n",
    "\n",
    "입력하신 단어는 회문(Palindrome)입니다.\n",
    "\n",
    "\n",
    "'''\n",
    "word = input()\n",
    "word_list= list(word)\n",
    "word_re = list(reversed(word))\n",
    "if word_list == word_re:\n",
    "    print(word)\n",
    "    print('입력하신 단어는 회문(Palindrome)입니다.')\n",
    "else:\n",
    "    pass"
   ]
  },
  {
   "cell_type": "code",
   "execution_count": 8,
   "metadata": {},
   "outputs": [
    {
     "data": {
      "text/plain": [
       "['a', 's', 'd', 'a', 's', 'd']"
      ]
     },
     "execution_count": 8,
     "metadata": {},
     "output_type": "execute_result"
    }
   ],
   "source": [
    "word"
   ]
  },
  {
   "cell_type": "code",
   "execution_count": 9,
   "metadata": {},
   "outputs": [
    {
     "data": {
      "text/plain": [
       "['d', 's', 'a', 'd', 's', 'a']"
      ]
     },
     "execution_count": 9,
     "metadata": {},
     "output_type": "execute_result"
    }
   ],
   "source": [
    "word_re"
   ]
  },
  {
   "cell_type": "code",
   "execution_count": null,
   "metadata": {},
   "outputs": [],
   "source": []
  }
 ],
 "metadata": {
  "kernelspec": {
   "display_name": "Python 3",
   "language": "python",
   "name": "python3"
  },
  "language_info": {
   "codemirror_mode": {
    "name": "ipython",
    "version": 3
   },
   "file_extension": ".py",
   "mimetype": "text/x-python",
   "name": "python",
   "nbconvert_exporter": "python",
   "pygments_lexer": "ipython3",
   "version": "3.8.3"
  }
 },
 "nbformat": 4,
 "nbformat_minor": 4
}
