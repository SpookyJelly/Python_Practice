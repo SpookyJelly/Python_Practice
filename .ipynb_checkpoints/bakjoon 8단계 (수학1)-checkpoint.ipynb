{
 "cells": [
  {
   "cell_type": "code",
   "execution_count": 25,
   "metadata": {},
   "outputs": [
    {
     "name": "stdout",
     "output_type": "stream",
     "text": [
      "231 2 1\n"
     ]
    },
    {
     "data": {
      "text/plain": [
       "-1"
      ]
     },
     "execution_count": 25,
     "metadata": {},
     "output_type": "execute_result"
    }
   ],
   "source": [
    "#1712번 손익분기점\n",
    "#A, B, C가 주어졌을 때, 손익분기점을 구하는 프로그램을 작성하시오.\n",
    "#A == 고정비용 // 생산 판매에 관계없이 발생하는 비용\n",
    "# B == 가변 비용 // 생산에 드는 비용\n",
    "# C == 소비자가\n",
    "# 첫번째 줄에 최초로 이익이 발생하는 판매량 출력, 손익 분기점 없으면 -1 출력\n",
    "def sonik(A,B,C) :\n",
    "    N = 0\n",
    "    while True:\n",
    "        if (A+B*N)-C*N<0:\n",
    "            return N\n",
    "            break\n",
    "        if B>C :\n",
    "            return -1\n",
    "        else :\n",
    "            N+=1\n",
    "A,B,C = map(int,input().split())\n",
    "sonik(A,B,C)\n",
    "# 답은 맞는데 함수로 만드니까 시간 초과 뜨네"
   ]
  },
  {
   "cell_type": "code",
   "execution_count": 52,
   "metadata": {},
   "outputs": [
    {
     "name": "stdout",
     "output_type": "stream",
     "text": [
      "1000 70 70\n"
     ]
    },
    {
     "ename": "KeyboardInterrupt",
     "evalue": "",
     "output_type": "error",
     "traceback": [
      "\u001b[1;31m---------------------------------------------------------------------------\u001b[0m",
      "\u001b[1;31mKeyboardInterrupt\u001b[0m                         Traceback (most recent call last)",
      "\u001b[1;32m<ipython-input-52-8fc94fa4c74f>\u001b[0m in \u001b[0;36m<module>\u001b[1;34m\u001b[0m\n\u001b[0;32m     10\u001b[0m         \u001b[1;32mbreak\u001b[0m\u001b[1;33m\u001b[0m\u001b[1;33m\u001b[0m\u001b[0m\n\u001b[0;32m     11\u001b[0m     \u001b[1;32melse\u001b[0m \u001b[1;33m:\u001b[0m\u001b[1;33m\u001b[0m\u001b[1;33m\u001b[0m\u001b[0m\n\u001b[1;32m---> 12\u001b[1;33m         \u001b[0mN\u001b[0m\u001b[1;33m+=\u001b[0m\u001b[1;36m1\u001b[0m\u001b[1;33m\u001b[0m\u001b[1;33m\u001b[0m\u001b[0m\n\u001b[0m\u001b[0;32m     13\u001b[0m \u001b[1;31m# 오잉 이래도 시간 초과네. 그냥 N을 계산하는게 맞나, 일일이 +1 하지말고\u001b[0m\u001b[1;33m\u001b[0m\u001b[1;33m\u001b[0m\u001b[1;33m\u001b[0m\u001b[0m\n",
      "\u001b[1;31mKeyboardInterrupt\u001b[0m: "
     ]
    }
   ],
   "source": [
    "#1712번 논 함수 버젼\n",
    "A,B,C = map(int,input().split())\n",
    "N = 0\n",
    "while True:\n",
    "    if (A+B*N)-C*N<0:\n",
    "        print(N)\n",
    "        break\n",
    "    if B>C :\n",
    "        print('-1')\n",
    "        break\n",
    "    else :\n",
    "        N+=1\n",
    "# 오잉 이래도 시간 초과네. 그냥 N을 계산하는게 맞나, 일일이 +1 하지말고"
   ]
  },
  {
   "cell_type": "code",
   "execution_count": 51,
   "metadata": {},
   "outputs": [
    {
     "name": "stdout",
     "output_type": "stream",
     "text": [
      "11\n"
     ]
    }
   ],
   "source": [
    "A = 1000\n",
    "B = 70\n",
    "C = 170\n",
    "N = -A/(B-C)\n",
    "B*N-C*N=0\n",
    "B*N=C*N\n",
    "print(int(N+1))"
   ]
  },
  {
   "cell_type": "code",
   "execution_count": 55,
   "metadata": {},
   "outputs": [
    {
     "name": "stdout",
     "output_type": "stream",
     "text": [
      "3 2 1\n",
      "-1\n"
     ]
    }
   ],
   "source": [
    "#1712번 그냥 수학\n",
    "A,B,C = map(int,input().split())\n",
    "N = -A/(B-C)\n",
    "if B<C:\n",
    "    print(int(N+1))\n",
    "elif B>=C:\n",
    "    print(-1)\n",
    "# 아니 왜 런타임 에러야"
   ]
  },
  {
   "cell_type": "code",
   "execution_count": 74,
   "metadata": {},
   "outputs": [
    {
     "name": "stdout",
     "output_type": "stream",
     "text": [
      "1000 70 170\n",
      "11\n"
     ]
    }
   ],
   "source": [
    "A,B,C = map(int,input().split())\n",
    "if B>=C:\n",
    "    print(-1)\n",
    "else:\n",
    "    print((-A//(B-C))+1)\n",
    "# 아니 이건 위에랑 똑같은데 왜 런타임 에러 안나지....존나 신기하네 진짜\n",
    "# int를 써서??? elif를 써서??? if문이 더 복잡해서???\n",
    "# 다른 사람들 코드 보니까 그냥 N을 선언하고 계산시켜서 그런거 같다\n",
    "#print 내에서 처리하니까 문제 없음"
   ]
  },
  {
   "cell_type": "code",
   "execution_count": 148,
   "metadata": {},
   "outputs": [
    {
     "name": "stdout",
     "output_type": "stream",
     "text": [
      "12\n",
      "2\n"
     ]
    }
   ],
   "source": [
    "#2839번 설탕배달\n",
    "#3kg 봉지 A개와 5kg 봉지 B개로 N그램을 딱 맞춰라\n",
    "#A+B는 최소값이 되어야하고, N을 못 맞추면 -1을 출력하라\n",
    "A=0\n",
    "B=0\n",
    "test1=0\n",
    "test2=0\n",
    "test3=0\n",
    "N = int(input())\n",
    "A = N//5\n",
    "C = int((N-5*A)/3)\n",
    "if C == int(C):\n",
    "    B = (N-5*A)//3\n",
    "    print(A+B)\n",
    "else :\n",
    "    print(-1)"
   ]
  },
  {
   "cell_type": "code",
   "execution_count": 265,
   "metadata": {},
   "outputs": [
    {
     "name": "stdout",
     "output_type": "stream",
     "text": [
      "11\n",
      "3\n"
     ]
    }
   ],
   "source": [
    "#2839번 설탕배달\n",
    "#기본 아이디어 /5하기.\n",
    "# 안되면 -3 하고 봉지 +1\n",
    "N = int(input())\n",
    "box = 0\n",
    "while True: #여기가 while N>0 이면 N이 0되었을때 루프가 멈추고 아무런 값이 출력되지 않는다.\n",
    "    if N%5 ==0: # 포인트 : 딱 떨어지는거 구분할라면, 나머지를 return하는 % 연산자 쓰자\n",
    "        box = box + N//5 #N//5는 N을 5로 나눈 몫. 이 조건문이 애초에 5로 나누어 떨어질때 되는거니까\n",
    "        print(int(box))\n",
    "        break\n",
    "    N= N-3\n",
    "    box +=1\n",
    "    if N<0:\n",
    "        print('-1')\n",
    "        break"
   ]
  },
  {
   "cell_type": "code",
   "execution_count": null,
   "metadata": {},
   "outputs": [],
   "source": []
  },
  {
   "cell_type": "code",
   "execution_count": 252,
   "metadata": {},
   "outputs": [
    {
     "data": {
      "text/plain": [
       "4.0"
      ]
     },
     "execution_count": 252,
     "metadata": {},
     "output_type": "execute_result"
    }
   ],
   "source": [
    "B"
   ]
  },
  {
   "cell_type": "code",
   "execution_count": 253,
   "metadata": {},
   "outputs": [
    {
     "data": {
      "text/plain": [
       "2.4"
      ]
     },
     "execution_count": 253,
     "metadata": {},
     "output_type": "execute_result"
    }
   ],
   "source": [
    "A"
   ]
  },
  {
   "cell_type": "code",
   "execution_count": 116,
   "metadata": {},
   "outputs": [
    {
     "data": {
      "text/plain": [
       "1"
      ]
     },
     "execution_count": 116,
     "metadata": {},
     "output_type": "execute_result"
    }
   ],
   "source": [
    "int(3/3)"
   ]
  },
  {
   "cell_type": "code",
   "execution_count": 123,
   "metadata": {},
   "outputs": [
    {
     "name": "stdout",
     "output_type": "stream",
     "text": [
      "no\n"
     ]
    }
   ],
   "source": [
    "C = 2.1\n",
    "if (C == int(C)) == True :\n",
    "    print('hi')\n",
    "else :\n",
    "    print('no')"
   ]
  },
  {
   "cell_type": "code",
   "execution_count": null,
   "metadata": {},
   "outputs": [],
   "source": []
  }
 ],
 "metadata": {
  "kernelspec": {
   "display_name": "Python 3",
   "language": "python",
   "name": "python3"
  },
  "language_info": {
   "codemirror_mode": {
    "name": "ipython",
    "version": 3
   },
   "file_extension": ".py",
   "mimetype": "text/x-python",
   "name": "python",
   "nbconvert_exporter": "python",
   "pygments_lexer": "ipython3",
   "version": "3.8.3"
  }
 },
 "nbformat": 4,
 "nbformat_minor": 4
}
