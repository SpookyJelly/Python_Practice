{
 "cells": [
  {
   "cell_type": "code",
   "execution_count": 77,
   "metadata": {},
   "outputs": [
    {
     "name": "stdout",
     "output_type": "stream",
     "text": [
      "2\n",
      "3 qewe\n",
      "qqqeeewwweee\n",
      "2 qw\n",
      "qqww\n"
     ]
    }
   ],
   "source": [
    "#2675번 문자열 반복\n",
    "'''문자열 S를 입력받은 후에, 각 문자를 R번 반복해 새 문자열 P를 만든 후 \n",
    "출력하는 프로그램을 작성하시오.\n",
    "즉, 첫 번째 문자를 R번 반복하고, 두 번째 문자를 R번 반복하는 식으로 P를 만들면 된다. S에는 QR Code \"alphanumeric\" 문자만 들어있다.\n",
    "QR Code \"alphanumeric\" 문자는 0123456789ABCDEFGHIJKLMNOPQRSTUVWXYZ\\$%*+-./: 이다.'''\n",
    "'''첫째 줄에 테스트 케이스의 개수 T(1 ≤ T ≤ 1,000)가 주어진다. 각 테스트 케이스는 반복 횟수 R(1 ≤ R ≤ 8), 문자열 S가 공백으로 구분되어 주어진다.\n",
    "S의 길이는 적어도 1이며, 20글자를 넘지 않는다. '''\n",
    "R = int(input())\n",
    "for k in range(R):\n",
    "    A = []\n",
    "    U,S = input().split()\n",
    "    U = int(U) #그냥 int(U)하니까 정수화 안되더라... 다시 대입을 해줘야한다\n",
    "    for i in range(0,len(S)):\n",
    "        N = S[i]* U #for문에서 만들어진 리스트\n",
    "        A.append(N)\n",
    "    print(''.join(A))# ''.join(list)는 리스트를 문자열로 바꿔주는 함수이다.\n",
    "    # ''간격을 첨가한 문자열로 만든다."
   ]
  },
  {
   "cell_type": "code",
   "execution_count": 71,
   "metadata": {},
   "outputs": [
    {
     "data": {
      "text/plain": [
       "list"
      ]
     },
     "execution_count": 71,
     "metadata": {},
     "output_type": "execute_result"
    }
   ],
   "source": [
    "type(P)"
   ]
  },
  {
   "cell_type": "code",
   "execution_count": 67,
   "metadata": {},
   "outputs": [
    {
     "name": "stdout",
     "output_type": "stream",
     "text": [
      "ee\n",
      "m\n"
     ]
    }
   ],
   "source": [
    "print('ee\\nm')"
   ]
  },
  {
   "cell_type": "code",
   "execution_count": null,
   "metadata": {},
   "outputs": [],
   "source": []
  }
 ],
 "metadata": {
  "kernelspec": {
   "display_name": "Python 3",
   "language": "python",
   "name": "python3"
  },
  "language_info": {
   "codemirror_mode": {
    "name": "ipython",
    "version": 3
   },
   "file_extension": ".py",
   "mimetype": "text/x-python",
   "name": "python",
   "nbconvert_exporter": "python",
   "pygments_lexer": "ipython3",
   "version": "3.8.3"
  }
 },
 "nbformat": 4,
 "nbformat_minor": 4
}
