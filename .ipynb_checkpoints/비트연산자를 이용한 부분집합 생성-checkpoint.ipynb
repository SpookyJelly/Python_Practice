{
 "cells": [
  {
   "cell_type": "code",
   "execution_count": 1,
   "id": "static-cookie",
   "metadata": {},
   "outputs": [],
   "source": [
    "def bitlst(lst):\n",
    "    n = len(lst)\n",
    "    result = []\n",
    "    # 길이가 n인 리스트의 부분집합 개수는 2^n이다. 그러므로, 비트 연산자 1<<n을 이용해 2^n을 표현해주자\n",
    "    for i in range(1<<n):\n",
    "        tem = []\n",
    "        for j in range(n):\n",
    "            if i & (1<<j): # 여기서 j는 lst의 인덱스가 될 것이다. 십진법을 2진법으로 표현할때, 1 과 0 비트의 조합으로 이루어지는데,\n",
    "                # 1을 실재라고 치면, 그 실제하는 위치쌍을 lst의 인덱스로 따와서 부분집합으로 표시해주는 것이다.\n",
    "                tem.append(lst[j])\n",
    "        result.append(tem)\n",
    "    return result"
   ]
  },
  {
   "cell_type": "code",
   "execution_count": 2,
   "id": "respective-barrier",
   "metadata": {},
   "outputs": [
    {
     "data": {
      "text/plain": [
       "[[],\n",
       " [1],\n",
       " [2],\n",
       " [1, 2],\n",
       " [3],\n",
       " [1, 3],\n",
       " [2, 3],\n",
       " [1, 2, 3],\n",
       " [4],\n",
       " [1, 4],\n",
       " [2, 4],\n",
       " [1, 2, 4],\n",
       " [3, 4],\n",
       " [1, 3, 4],\n",
       " [2, 3, 4],\n",
       " [1, 2, 3, 4]]"
      ]
     },
     "execution_count": 2,
     "metadata": {},
     "output_type": "execute_result"
    }
   ],
   "source": [
    "bitlst([1,2,3,4])"
   ]
  },
  {
   "cell_type": "code",
   "execution_count": 3,
   "id": "touched-setup",
   "metadata": {},
   "outputs": [
    {
     "name": "stdout",
     "output_type": "stream",
     "text": [
      "[1, 2, 4]\n"
     ]
    }
   ],
   "source": [
    "a = bitlst([1,2,3,4])\n",
    "for idx in range(len(a)):\n",
    "    if sum(a[idx]) == 7 and len(a[idx]) == 3:\n",
    "        print(a[idx])"
   ]
  },
  {
   "cell_type": "code",
   "execution_count": 4,
   "id": "modular-pastor",
   "metadata": {},
   "outputs": [
    {
     "data": {
      "text/plain": [
       "0"
      ]
     },
     "execution_count": 4,
     "metadata": {},
     "output_type": "execute_result"
    }
   ],
   "source": [
    "1//3"
   ]
  },
  {
   "cell_type": "code",
   "execution_count": null,
   "id": "pediatric-depression",
   "metadata": {},
   "outputs": [],
   "source": []
  }
 ],
 "metadata": {
  "kernelspec": {
   "display_name": "Python 3",
   "language": "python",
   "name": "python3"
  },
  "language_info": {
   "codemirror_mode": {
    "name": "ipython",
    "version": 3
   },
   "file_extension": ".py",
   "mimetype": "text/x-python",
   "name": "python",
   "nbconvert_exporter": "python",
   "pygments_lexer": "ipython3",
   "version": "3.8.7"
  },
  "toc": {
   "base_numbering": 1,
   "nav_menu": {},
   "number_sections": true,
   "sideBar": true,
   "skip_h1_title": false,
   "title_cell": "Table of Contents",
   "title_sidebar": "Contents",
   "toc_cell": false,
   "toc_position": {},
   "toc_section_display": true,
   "toc_window_display": false
  }
 },
 "nbformat": 4,
 "nbformat_minor": 5
}
