{
 "cells": [
  {
   "cell_type": "code",
   "execution_count": null,
   "metadata": {},
   "outputs": [],
   "source": [
    "#15596번 정수 N개의 합\n",
    "# 정수 n개가 주어졌을때, n개의 합을 구하는 함수를 작성하시오.\n",
    "'''Python 2, Python 3, PyPy, PyPy3: def solve(a: list) -> int\n",
    "a: 합을 구해야 하는 정수 n개가 저장되어 있는 리스트 \n",
    "(0 ≤ a[i] ≤ 1,000,000, 1 ≤ n ≤ 3,000,000)'''\n",
    "def solve(a:list): # 함수에 들어갈 객체 타입 지정을 할 수 있다.\n",
    "    total = 0\n",
    "    for i in range(0,len(a)):\n",
    "        total = total + a[i]\n",
    "    return total"
   ]
  },
  {
   "cell_type": "code",
   "execution_count": null,
   "metadata": {},
   "outputs": [],
   "source": [
    "a=[1,2,3,4,5]"
   ]
  },
  {
   "cell_type": "code",
   "execution_count": null,
   "metadata": {},
   "outputs": [],
   "source": [
    "solve(a)"
   ]
  },
  {
   "cell_type": "code",
   "execution_count": null,
   "metadata": {},
   "outputs": [],
   "source": [
    "#15596번 정수 N개의 합\n",
    "def solve(a):#어짜피 리스트 들어갈꺼니까 굳이 타입 지정 안해도 됨.\n",
    "    ans=0\n",
    "    for i in a: #in a라고 해도 되는게, 어짜피 a는 리스트니까... range함수로 리스트를\n",
    "        #만들 필요가 없다는 거다.\n",
    "        ans+=i\n",
    "    return ans"
   ]
  },
  {
   "cell_type": "code",
   "execution_count": null,
   "metadata": {},
   "outputs": [],
   "source": [
    "#4673번 셀프넘버\n",
    "# 으음.... 일의 자리일때는 2씩 증가... 십의 자리일때는 11씩 증가\n",
    "'''셀프 넘버는 1949년 인도 수학자 D.R. Kaprekar가 이름 붙였다. 양의 정수 n에 대해서 d(n)을 n과 n의 각 자리수를 더하는 함수라고 정의하자. 예를 들어, d(75) = 75+7+5 = 87이다.\n",
    "\n",
    "양의 정수 n이 주어졌을 때, 이 수를 시작해서 n, d(n), d(d(n)), d(d(d(n))), ...과 같은 무한 수열을 만들 수 있다. \n",
    "\n",
    "예를 들어, 33으로 시작한다면 다음 수는 33 + 3 + 3 = 39이고, 그 다음 수는 39 + 3 + 9 = 51, 다음 수는 51 + 5 + 1 = 57이다. 이런식으로 다음과 같은 수열을 만들 수 있다.\n",
    "\n",
    "33, 39, 51, 57, 69, 84, 96, 111, 114, 120, 123, 129, 141, ...\n",
    "\n",
    "n을 d(n)의 생성자라고 한다. 위의 수열에서 33은 39의 생성자이고, 39는 51의 생성자, 51은 57의 생성자이다. 생성자가 한 개보다 많은 경우도 있다. 예를 들어, 101은 생성자가 2개(91과 100) 있다. \n",
    "\n",
    "생성자가 없는 숫자를 셀프 넘버라고 한다. 100보다 작은 셀프 넘버는 총 13개가 있다. 1, 3, 5, 7, 9, 20, 31, 42, 53, 64, 75, 86, 97\n",
    "\n",
    "10000보다 작거나 같은 셀프 넘버를 한 줄에 하나씩 출력하는 프로그램을 작성하시오.'''\n",
    "def d():\n",
    "    selfx_list = []\n",
    "    N = range(1,10001)\n",
    "    for i in N:\n",
    "        cut = list(str(i)) # i를 자리수 분리\n",
    "        selfx = i + sum(map(int,cut))#sum 이하는 자리수 더하기하는 방법. map으로 리스트 cut의 요소를 int화 시킨 후 sum함 \n",
    "        selfx_list.append(selfx)\n",
    "    selfx_list.sort() # 정상적으로 작동했다면 여기는 self가 아닌 숫자만 들어가있다\n",
    "    for i in N:\n",
    "        if i not in selfx_list: # not in 조건은 selfx에 i가 없다면 이하 실행문이 작동한다.\n",
    "            print(i)\n",
    "        else:\n",
    "            pass"
   ]
  },
  {
   "cell_type": "code",
   "execution_count": null,
   "metadata": {},
   "outputs": [],
   "source": [
    "d()"
   ]
  },
  {
   "cell_type": "code",
   "execution_count": null,
   "metadata": {},
   "outputs": [],
   "source": [
    "# 4673번 \n",
    "# 아니 이건 왜 맞냐고 시발\n",
    "\n",
    "def d(n) : #아니 이거 입력 있는거 아냐???\n",
    "    next = n\n",
    "    for value in list(str(n)):\n",
    "        next+=int(value)\n",
    "    return next\n",
    "excep = []\n",
    "\n",
    "for count in range(10001):\n",
    "    excep.append(d(count))\n",
    "for count in range (1,10000):\n",
    "    if count in excep:\n",
    "        continue\n",
    "    else :\n",
    "        print(count)"
   ]
  },
  {
   "cell_type": "code",
   "execution_count": null,
   "metadata": {},
   "outputs": [],
   "source": [
    "# 1064번 한수\n",
    "'''어떤 양의 정수 X의 각 자리가 등차수열을 이룬다면, 그 수를 한수라고 한다. \n",
    "등차수열은 연속된 두 개의 수의 차이가 일정한 수열을 말한다. N이 주어졌을 때, \n",
    "1보다 크거나 같고, N보다 작거나 같은 한수의 개수를 출력하는 프로그램을 작성하시오. '''\n",
    "\n",
    "# 입력 : 첫째 줄에 1,000보다 작거나 같은 자연수 N이 주어진다\n",
    "# 출력 : 첫째 줄에 1보다 크거나 같고, N보다 작거나 같은 한수의 개수를 출력한다.\n",
    "def hansu(N):\n",
    "    A = 0\n",
    "    cut = list(str(N))\n",
    "    int_cut = list(map(int,cut))\n",
    "    for i in range(1,len(cut)):\n",
    "        if len(cut) == 1:\n",
    "            A +=1\n",
    "        elif len(cut)>1:\n",
    "            d = abs(int_cut[len(int_cut)]-cut[len(int_cut)-1])\n",
    "            if abs(int_cut[i]-int_cut[i-1]) == d :\n",
    "                A +=1\n",
    "    return A\n",
    "N = int(input())\n",
    "#cut = list(str(N))\n",
    "#int_cut = list(map(int,cut))\n",
    "#print(int_cut)\n",
    "#print(cut)\n",
    "#for i in range(len(int_cut)):\n",
    "#    print(int_cut[i],end= ' ')\n",
    "#for i in range(len(cut),0,-1):\n",
    "#    if abs(cut[i] - cut[i-1]) == abs(cut[i+1] - cut[i])\n",
    "# if cut[i+2] == cut[i]*(2)*(cut[i+1]-cut[i])\n",
    "#d를 하나 설정한 다음, 각 케이스가 거기에 맞는지 확인 하는게 낫다\n",
    "#d = abs(cut[1]-cut[0]) --> 한자리 수 한테는 적용이 안되잖아.\n",
    "for i in range(1,N+1) :\n",
    "    hansu(i)\n",
    "    B +=hansu(i)\n",
    "    print(B)\n",
    "\n",
    "#여기를 함수를 만들고\n",
    "\n",
    "        \n"
   ]
  },
  {
   "cell_type": "code",
   "execution_count": 25,
   "metadata": {},
   "outputs": [
    {
     "name": "stdout",
     "output_type": "stream",
     "text": [
      "1000\n",
      "144\n"
     ]
    }
   ],
   "source": [
    "# 1065번 한수\n",
    "# 솔루션 참고.\n",
    "# 나는 입력범위에 무관한 일반계산식 짜려고 해서 코드가 터져버린거임\n",
    "# 입력값이 1000이하라는 것. 그리고 1000은 한수가 아니라는 것에 주목하자.\n",
    "N = int(input())\n",
    "def han(N): # 입력값 이하의 한수 구하는 함수 정의\n",
    "    hansu = 0 # 한수 카운트\n",
    "    for i in range(1,N+1): #N을 받으니까 1~N까지의 변수를 검사\n",
    "        if i <= 99: # 1~99까지는 무조건 등차수열이다. (항이 2개인)\n",
    "            hansu +=1 # 모두 한 수 이므로, 각 케이스마다 카운트를 올린다\n",
    "        else : #i는 100이상일때부터 여기로\n",
    "            cut=list(map(int,str(i))) #자리값 분리\n",
    "            if cut[0]-cut[1] == cut[1]-cut[2]: # i는 100이상 --> cut[0],cut[1],cut[2]가 모두 있는 상황\n",
    "                hansu +=1 # 1000이 입력되도, if문을 만족하지 않아서 hansu +1 되는 일은 없다.\n",
    "    return hansu\n",
    "print(han(N))"
   ]
  },
  {
   "cell_type": "code",
   "execution_count": null,
   "metadata": {},
   "outputs": [],
   "source": []
  }
 ],
 "metadata": {
  "kernelspec": {
   "display_name": "Python 3",
   "language": "python",
   "name": "python3"
  },
  "language_info": {
   "codemirror_mode": {
    "name": "ipython",
    "version": 3
   },
   "file_extension": ".py",
   "mimetype": "text/x-python",
   "name": "python",
   "nbconvert_exporter": "python",
   "pygments_lexer": "ipython3",
   "version": "3.8.3"
  }
 },
 "nbformat": 4,
 "nbformat_minor": 4
}
